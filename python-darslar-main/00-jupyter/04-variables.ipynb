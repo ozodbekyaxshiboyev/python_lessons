{
  "nbformat": 4,
  "nbformat_minor": 0,
  "metadata": {
    "kernelspec": {
      "display_name": "Python 3",
      "language": "python",
      "name": "python3"
    },
    "language_info": {
      "codemirror_mode": {
        "name": "ipython",
        "version": 3
      },
      "file_extension": ".py",
      "mimetype": "text/x-python",
      "name": "python",
      "nbconvert_exporter": "python",
      "pygments_lexer": "ipython3",
      "version": "3.8.6"
    },
    "colab": {
      "name": "04-python.ipynb",
      "provenance": [],
      "collapsed_sections": []
    }
  },
  "cells": [
    {
      "cell_type": "markdown",
      "metadata": {
        "id": "yq7kTyC8T7vT"
      },
      "source": [
        "# 04-DARS. O'ZGARUVCHILAR\n",
        "Pythonda o'zgaruvchilar bilan ishlashni o'rganamiz"
      ]
    },
    {
      "cell_type": "markdown",
      "metadata": {
        "id": "f_7aiSgHT0k4"
      },
      "source": [
        "# O'ZGARUVCHI (VARIABLE)"
      ]
    },
    {
      "cell_type": "markdown",
      "metadata": {
        "id": "0FvTls8cT0k4"
      },
      "source": [
        "**O'zgaruvchi** — kompyuter xotirasida ma'lum bir qiymatni saqlash uchun ajratilgan joy. Soddaroq qilib tushuntirsak, o'zgaruvchini quti, quti ichidagi narsani esa qiymat deb tasavvur qilish mumkin. Pythonda qiymatlar son, matn, ro'yxat va hokazo ko'rinishida bo'lishi mumkin."
      ]
    },
    {
      "cell_type": "markdown",
      "metadata": {
        "id": "lm1M7hAYT0k5"
      },
      "source": [
        "![alt text](https://gblobscdn.gitbook.com/assets%2F-MGbkqs1tROquIT6oqUs%2F-MLgatxylpGtKv0LiiV1%2F-MLgfAikZVcuHp-u5tHP%2FPic-of-labeled-boxes.jpg?alt=media&token=4bdf283d-c483-4158-8ce3-90527594f363)"
      ]
    },
    {
      "cell_type": "markdown",
      "metadata": {
        "id": "AM_s6rEkT0k5"
      },
      "source": [
        "Quyidagi misolga e'tibor bering, biz 2 ta o'zgaruvchi yaratdik (`ism` va `yosh`) va ularga qiymatlar yukladik (Pythonda boshqa tillardagi ka'bi o'zgaruvchilarni avvaldan e'lon qilish yo'q):"
      ]
    },
    {
      "cell_type": "code",
      "metadata": {
        "id": "Gal1qUEBT0k5",
        "outputId": "ac34cead-8675-4743-86d3-cf6c67630352"
      },
      "source": [
        "ism = \"Abdulloh\"\n",
        "yosh = 25\n",
        "print(ism)\n",
        "print(yosh)"
      ],
      "execution_count": null,
      "outputs": [
        {
          "output_type": "stream",
          "text": [
            "Abdulloh\n",
            "25\n"
          ],
          "name": "stdout"
        }
      ]
    },
    {
      "cell_type": "markdown",
      "metadata": {
        "id": "3Il6ro_ZT0k6"
      },
      "source": [
        "O'zgaruvchi (variable) bunday deyilishiga sabab, uning qiymati istalgan vaqt o'zgartirilishi mumkin:"
      ]
    },
    {
      "cell_type": "code",
      "metadata": {
        "id": "4tN8EEjrT0k6",
        "outputId": "88c825e5-82e6-406b-de2b-9ccf05860ec3"
      },
      "source": [
        "ism = \"Abdulloh\"\n",
        "print(ism)\n",
        "ism=\"Muhammad\"\n",
        "print(ism)"
      ],
      "execution_count": null,
      "outputs": [
        {
          "output_type": "stream",
          "text": [
            "Abdulloh\n",
            "Muhammad\n"
          ],
          "name": "stdout"
        }
      ]
    },
    {
      "cell_type": "markdown",
      "metadata": {
        "id": "i8DGNySdT0k7"
      },
      "source": [
        "Yuqoridagi misolda `ism` nomli o'zgaruvchiga avval `Abdulloh` keyin esa `Muhammad` qiymatlarini berdik."
      ]
    },
    {
      "cell_type": "markdown",
      "metadata": {
        "id": "ZGt5BVyzT0k7"
      },
      "source": [
        "# O'ZGARUVCHILARNI NOMLASH"
      ]
    },
    {
      "cell_type": "markdown",
      "metadata": {
        "id": "N3hF_TwyT0k7"
      },
      "source": [
        "O'zgaruvchilarga nom berishda quyidagi qoidalarga amal qiling:\n",
        "+ O'zgaruvchi nomi harf yoki pastki chiziq (`_`) bilan boshlanishi kerak\n",
        "+ O'zgaruvchi nomi raqam bilan boshlanishi mumkin emas\n",
        "+ O'zgaruvchi nomida faqatgina lotin alifbosi harflari (`A-z`), raqamlar (`0-9`) va pastki chiziq (`_`) qatnashishi mumkin\n",
        "+ O'zgaruvchi nomida bo'shliq (пробел) bo'lishi mumkin emas\n",
        "+ O'zgaruvchi nomida katta-kichik harflar turlicha talqin qilinadi (`ism`, `ISM`, va `Ism` uchta turli o'zgaruvchi)"
      ]
    },
    {
      "cell_type": "markdown",
      "metadata": {
        "id": "FEC5OKeeT0k8"
      },
      "source": [
        "Qo'shimcha qoida sifatida: \n",
        "+ O'zgaruvchi nomini kichik harflar bilan yozing. \n",
        "+ O'zgaruvchi nomida 2 va undan ortiq so'z qatnashsa ularning orasini pastki chiziq (`_`) bilan ajrating (`ism_sharif=\"Anvar Narzullaev\"`)\n",
        "+ O'zgaruvchiga tushunarli nom bering (`y=20` emas `yosh=20`, `d=\"Korea\"` emas `davlat = \"Korea\"` va hokazo)\n",
        "+ Shuningdek o'zgaruvchilarga Pythonda ishlatiladigan funktsiyalar va maxsus kalit so'zlarning (keywords) nomini bermang. Kalit so'zlar ro'yhatini ko'rish uchun Spyder konsolida avval `help()` deb yozing va Enter tugmasini bosing. Keyin esa `keywords` deb kiritib, yana Enter bosing. Marhamat, ekraningizda Pythondagi maxsus kalit so'zlar ro'yhatini ko'ryapsiz:"
      ]
    },
    {
      "cell_type": "code",
      "metadata": {
        "id": "jFdrTauOT0k8",
        "outputId": "4811a8e6-e268-4ac3-d57f-d92d949a6eb9"
      },
      "source": [
        "help()"
      ],
      "execution_count": null,
      "outputs": [
        {
          "output_type": "stream",
          "text": [
            "\n",
            "Welcome to Python 3.8's help utility!\n",
            "\n",
            "If this is your first time using Python, you should definitely check out\n",
            "the tutorial on the Internet at https://docs.python.org/3.8/tutorial/.\n",
            "\n",
            "Enter the name of any module, keyword, or topic to get help on writing\n",
            "Python programs and using Python modules.  To quit this help utility and\n",
            "return to the interpreter, just type \"quit\".\n",
            "\n",
            "To get a list of available modules, keywords, symbols, or topics, type\n",
            "\"modules\", \"keywords\", \"symbols\", or \"topics\".  Each module also comes\n",
            "with a one-line summary of what it does; to list the modules whose name\n",
            "or summary contain a given string such as \"spam\", type \"modules spam\".\n",
            "\n",
            "help> keywords\n",
            "\n",
            "Here is a list of the Python keywords.  Enter any keyword to get more help.\n",
            "\n",
            "False               class               from                or\n",
            "None                continue            global              pass\n",
            "True                def                 if                  raise\n",
            "and                 del                 import              return\n",
            "as                  elif                in                  try\n",
            "assert              else                is                  while\n",
            "async               except              lambda              with\n",
            "await               finally             nonlocal            yield\n",
            "break               for                 not                 \n",
            "\n",
            "help> quit\n",
            "\n",
            "You are now leaving help and returning to the Python interpreter.\n",
            "If you want to ask for help on a particular object directly from the\n",
            "interpreter, you can type \"help(object)\".  Executing \"help('string')\"\n",
            "has the same effect as typing a particular string at the help> prompt.\n"
          ],
          "name": "stdout"
        }
      ]
    },
    {
      "cell_type": "markdown",
      "metadata": {
        "id": "dE846YU3T0k8"
      },
      "source": [
        "# AMALIYOT"
      ]
    },
    {
      "cell_type": "markdown",
      "metadata": {
        "id": "Tx67DlcGT0k8"
      },
      "source": [
        "Quyidagi mashqlarni bajaring:\n",
        "+ \"Hello World!\" matnini yangi o'zgaruvchiga yuklang va print() yordamida konsolga chiqaring\n",
        "+ xabar deb nomlangan o'zgaruvchiga biror matn yuklang va konsolga chiqaring, keyin esa o'zgaruvchiga yangi qiymat berib uni ham konsolga chiqaring.\n",
        "+ class den nomlangan o'zgaruvchi yarating, unga biror qiymat bering va konsolga chiqaring (siz kutgan natija chiqdimi?)\n",
        "Quyidagi kodni bajaring:"
      ]
    },
    {
      "cell_type": "markdown",
      "metadata": {
        "id": "HUXlSHzVT0k9"
      },
      "source": [
        "Quyidagi kodni bajaring (Shift+Enter tugmasini bosing):"
      ]
    },
    {
      "cell_type": "code",
      "metadata": {
        "id": "4FmCsiNrT0k9"
      },
      "source": [
        "radius = 5\n",
        "pi = 3.14159\n",
        "aylana_yuzi = pi * radius**2\n",
        "print(\"Radiusi\" , radius, \"ga teng aylananing yuzi=\", aylana_yuzi)"
      ],
      "execution_count": null,
      "outputs": []
    },
    {
      "cell_type": "markdown",
      "metadata": {
        "id": "OsreRWQ7T0k9"
      },
      "source": [
        "# JAVOBLAR"
      ]
    },
    {
      "cell_type": "code",
      "metadata": {
        "colab": {
          "base_uri": "https://localhost:8080/"
        },
        "id": "Qc3zQOITT0k9",
        "outputId": "57107d74-11ba-4829-889e-8c3c4a679384"
      },
      "source": [
        "# \"Hello World!\" matnini yangi o'zgaruvchiga yuklang va print() yordamida konsolga chiqaring\n",
        "matn = \"Hello World!\"\n",
        "print(matn)"
      ],
      "execution_count": 1,
      "outputs": [
        {
          "output_type": "stream",
          "text": [
            "Hello World!\n"
          ],
          "name": "stdout"
        }
      ]
    },
    {
      "cell_type": "code",
      "metadata": {
        "colab": {
          "base_uri": "https://localhost:8080/"
        },
        "id": "xOYFdIQCUYhU",
        "outputId": "fe68255a-c4da-4460-8114-466cd6f3827a"
      },
      "source": [
        "# xabar deb nomlangan o'zgaruvchiga biror matn yuklang va konsolga chiqaring, keyin esa o'zgaruvchiga yangi qiymat berib uni ham konsolga chiqaring.\n",
        "xabar = \"Assalom alaykum\"\n",
        "print(xabar)"
      ],
      "execution_count": 2,
      "outputs": [
        {
          "output_type": "stream",
          "text": [
            "Assalom alaykum\n"
          ],
          "name": "stdout"
        }
      ]
    },
    {
      "cell_type": "code",
      "metadata": {
        "colab": {
          "base_uri": "https://localhost:8080/",
          "height": 136
        },
        "id": "auvWOGDQUbnX",
        "outputId": "c1e1a87b-bb21-4ef5-ce94-938aee8bc37f"
      },
      "source": [
        "# class den nomlangan o'zgaruvchi yarating, unga biror qiymat bering va konsolga chiqaring (siz kutgan natija chiqdimi?)\n",
        "# O'zgaruvchini class deb nomlash mumkin emas, sababi class bu maxsus kalit so'z.\n",
        "class = 5\n",
        "print(class)"
      ],
      "execution_count": 3,
      "outputs": [
        {
          "output_type": "error",
          "ename": "SyntaxError",
          "evalue": "ignored",
          "traceback": [
            "\u001b[0;36m  File \u001b[0;32m\"<ipython-input-3-e3399eae9c92>\"\u001b[0;36m, line \u001b[0;32m3\u001b[0m\n\u001b[0;31m    class = 5\u001b[0m\n\u001b[0m          ^\u001b[0m\n\u001b[0;31mSyntaxError\u001b[0m\u001b[0;31m:\u001b[0m invalid syntax\n"
          ]
        }
      ]
    },
    {
      "cell_type": "code",
      "metadata": {
        "colab": {
          "base_uri": "https://localhost:8080/"
        },
        "id": "tKXu6nA2UhQk",
        "outputId": "e180df69-f4f0-4a22-9f59-f817d247cb8f"
      },
      "source": [
        "#Quyidagi kodni bajaring\n",
        "radius = 5\n",
        "pi = 3.14159\n",
        "aylana_yuzi = pi * radius**2\n",
        "print(\"Radiusi\" , radius, \"ga teng aylananing yuzi=\", aylana_yuzi)"
      ],
      "execution_count": 4,
      "outputs": [
        {
          "output_type": "stream",
          "text": [
            "Radiusi 5 ga teng aylananing yuzi= 78.53975\n"
          ],
          "name": "stdout"
        }
      ]
    }
  ]
}