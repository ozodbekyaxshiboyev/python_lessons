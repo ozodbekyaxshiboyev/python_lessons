{
  "nbformat": 4,
  "nbformat_minor": 0,
  "metadata": {
    "kernelspec": {
      "display_name": "Python 3",
      "language": "python",
      "name": "python3"
    },
    "language_info": {
      "codemirror_mode": {
        "name": "ipython",
        "version": 3
      },
      "file_extension": ".py",
      "mimetype": "text/x-python",
      "name": "python",
      "nbconvert_exporter": "python",
      "pygments_lexer": "ipython3",
      "version": "3.7.6"
    },
    "colab": {
      "name": "09-python-for.ipynb",
      "provenance": []
    }
  },
  "cells": [
    {
      "cell_type": "markdown",
      "metadata": {
        "id": "uuiTcHmieVhk"
      },
      "source": [
        "# 09-DARS. `for` TAKRORLASH OPERATORI\n",
        "`for` operatori bilan ishlashni o'rganamiz"
      ]
    },
    {
      "cell_type": "markdown",
      "metadata": {
        "id": "cTCp6awwfKmg"
      },
      "source": [
        "![](https://gblobscdn.gitbook.com/assets%2F-MGbkqs1tROquIT6oqUs%2F-Mc-5yGQPZTBaGoehQdL%2F-Mc-7xpq4Puu3KEjmT0R%2FSD_YT_TG_logo_mini.png?alt=media&token=929fe67b-ec12-4f63-b33e-e9c5e3d8ad09)"
      ]
    },
    {
      "cell_type": "markdown",
      "metadata": {
        "id": "LuLbAApBe8cF"
      },
      "source": [
        "# `for` BILAN TANISHAMIZ\n",
        "Dasturlash davomida kodimizning biror qismini bir necha marta takrorlash talab etilishi mumkin. Misol uchun, ro'yxat ichidagi har bir elementni alohida qatordan konsolga chiqarish, yoki bo'lmasa har bir elementni kvdartaga oshirish va hokazo. \n",
        "\n",
        "Mana shunday vaziyatlarda bizga for operatori yordam beradi. Dasturlashda bu tsikl (loop) deb ataladi. \n",
        "\n",
        "Keling quyidagi misolni ko'ramiz. Bizda mehmonlar ro'yxati bor, biz har bir mehmonning ismini yangi qatordan chiqarmoqchimiz. Buning uchun quyidagi kodni yozamiz:"
      ]
    },
    {
      "cell_type": "code",
      "metadata": {
        "colab": {
          "base_uri": "https://localhost:8080/"
        },
        "id": "f7GoMX5HfE7J",
        "outputId": "20489b3b-0616-4850-e99c-81b12476f325"
      },
      "source": [
        "mehmonlar = ['Ali','Vali','Hasan', 'Husan','Olim']\n",
        "for mehmon in mehmonlar:\n",
        "    print(mehmon)"
      ],
      "execution_count": 3,
      "outputs": [
        {
          "output_type": "stream",
          "text": [
            "Ali\n",
            "Vali\n",
            "Hasan\n",
            "Husan\n",
            "Olim\n"
          ],
          "name": "stdout"
        }
      ]
    },
    {
      "cell_type": "markdown",
      "metadata": {
        "id": "X435rlqufUHC"
      },
      "source": [
        "Keling, kodni tahlil qilaylik:\n",
        "- 1-qatorda biz mehmonlar degan ro'yxat yaratdik va uni mehmonlarning ismi bilan to'ldirdik.\n",
        "- 2-qatorda for tsiklini bohladik. Bu qator Pythonga mehmonlar degan ro'yxatdan har bir elementini olib uni yangi, mehmon degan o'zgaruvchiga yuklashni buyuryapti (o'zgaruvchiga istalgan nom berishingiz mumkin. Biz tushunarli bo'lishi uchun mehmon deb atadik)\n",
        "- 3-qatorda biz mehmon degan o'zgaruvchining qiymatini konsolga chiqardik. Bu tsikl to mehmonlar ro'yxatida elementlar tugagunga qadar takrorlanadi.\n",
        "\n",
        "> \"**For**\" so'zi ingliz tilidan \"**uchun**\" deb tarjima qilinadi.\n",
        "\n",
        "Yuqoridagi kodni oddiy tilga tarjima qilsak \"Mehmonlar ro'yxatidagi har bir mehmon uchun uning ismini konsolga chiqar\" degan ma'noni beradi. "
      ]
    },
    {
      "cell_type": "markdown",
      "metadata": {
        "id": "8nIDoCmDi0SC"
      },
      "source": [
        "# for QANDAY ISHLAYDI\n",
        "\n",
        "Keling yana bir misol ko'raylik."
      ]
    },
    {
      "cell_type": "code",
      "metadata": {
        "colab": {
          "base_uri": "https://localhost:8080/"
        },
        "id": "wMgn1-sWfGAL",
        "outputId": "60320703-323a-4448-ac61-aa9fd036a2ea"
      },
      "source": [
        "mehmonlar = ['Ali','Vali','Hasan', 'Husan','Olim']\n",
        "for mehmon in mehmonlar:\n",
        "    print(f\"Hurmatli {mehmon}, sizni 20 Dekabr kuni nahorga oshga taklif qilamiz\")\n",
        "    print(\"Hurmat bilan, Palonchiyevlar oilasi\")"
      ],
      "execution_count": 4,
      "outputs": [
        {
          "output_type": "stream",
          "text": [
            "Hurmatli Ali, sizni 20 Dekabr kuni nahorga oshga taklif qilamiz\n",
            "Hurmat bilan, Palonchiyevlar oilasi\n",
            "Hurmatli Vali, sizni 20 Dekabr kuni nahorga oshga taklif qilamiz\n",
            "Hurmat bilan, Palonchiyevlar oilasi\n",
            "Hurmatli Hasan, sizni 20 Dekabr kuni nahorga oshga taklif qilamiz\n",
            "Hurmat bilan, Palonchiyevlar oilasi\n",
            "Hurmatli Husan, sizni 20 Dekabr kuni nahorga oshga taklif qilamiz\n",
            "Hurmat bilan, Palonchiyevlar oilasi\n",
            "Hurmatli Olim, sizni 20 Dekabr kuni nahorga oshga taklif qilamiz\n",
            "Hurmat bilan, Palonchiyevlar oilasi\n"
          ],
          "name": "stdout"
        }
      ]
    },
    {
      "cell_type": "markdown",
      "metadata": {
        "id": "wDqX_3fef7ZQ"
      },
      "source": [
        "Yuqoridagi kodda 2-qator bu tsikl boshi deyiladi. Aynan shu qator kodimiz nech marta takrorlanishini aniqlaydi. Bizning holatimizda tsikl `mehmonlar` ro'yxati ichidagi elementlar tugagunga qadar takrorlanadi. Tsikl boshlanishi ikki nuqta (`:`) bilan tugaydi. Undan keyingi 3 va 4-qatorlar bu tsiklning badani deyiladi.  \n",
        "\n",
        "Tsikl badani surilish (indentation) bilan ajratiladi, ya'ni tsiklning takrorlanuvchi qismi asosiy koddan bir muncha o'ngroqqa surilgan bo'ladi. Agar biz mana shu surilishni tark qilsak kodimiz xato beradi:"
      ]
    },
    {
      "cell_type": "code",
      "metadata": {
        "colab": {
          "base_uri": "https://localhost:8080/",
          "height": 134
        },
        "id": "cLadB8iWf3Di",
        "outputId": "190ba9aa-786d-45f7-e7c7-83ce3f03e959"
      },
      "source": [
        "mehmonlar = ['Ali','Vali','Hasan', 'Husan','Olim']\n",
        "for mehmon in mehmonlar:\n",
        "print(f\"Hurmatli {mehmon}, sizni 20 Dekabr kuni nahorga oshga taklif qilamiz\")\n",
        "print(\"Hurmat bilan, Palonchiyevlar oilasi\\n\")"
      ],
      "execution_count": 5,
      "outputs": [
        {
          "output_type": "error",
          "ename": "IndentationError",
          "evalue": "ignored",
          "traceback": [
            "\u001b[0;36m  File \u001b[0;32m\"<ipython-input-5-fce7d9e58d2f>\"\u001b[0;36m, line \u001b[0;32m3\u001b[0m\n\u001b[0;31m    print(f\"Hurmatli {mehmon}, sizni 20 Dekabr kuni nahorga oshga taklif qilamiz\")\u001b[0m\n\u001b[0m        ^\u001b[0m\n\u001b[0;31mIndentationError\u001b[0m\u001b[0;31m:\u001b[0m expected an indented block\n"
          ]
        }
      ]
    },
    {
      "cell_type": "markdown",
      "metadata": {
        "id": "2ee-WMxRgHNM"
      },
      "source": [
        "Ko'rib turganingizdek for dan keyingi qatorni o'ngga surmaganimiz uchun indentation error (surishda xatolik) degan xabarni oldik.\n",
        "\n",
        "Shunigdek, ko'pchilik yo'l qo'yadigan yana bir xato, qo'shimcha qatorlarni surish esdan chiqishi:"
      ]
    },
    {
      "cell_type": "code",
      "metadata": {
        "colab": {
          "base_uri": "https://localhost:8080/"
        },
        "id": "PSIur3f9gEfZ",
        "outputId": "27243bee-cc57-4c15-f88d-0184a46df51e"
      },
      "source": [
        "mehmonlar = ['Ali','Vali','Hasan', 'Husan','Olim']\n",
        "for mehmon in mehmonlar:\n",
        "    print(f\"Hurmatli {mehmon}, sizni 20 Dekabr kuni nahorga oshga taklif qilamiz\")\n",
        "print(\"Hurmat bilan, Palonchiyevlar oilasi\\n\")"
      ],
      "execution_count": 6,
      "outputs": [
        {
          "output_type": "stream",
          "text": [
            "Hurmatli Ali, sizni 20 Dekabr kuni nahorga oshga taklif qilamiz\n",
            "Hurmatli Vali, sizni 20 Dekabr kuni nahorga oshga taklif qilamiz\n",
            "Hurmatli Hasan, sizni 20 Dekabr kuni nahorga oshga taklif qilamiz\n",
            "Hurmatli Husan, sizni 20 Dekabr kuni nahorga oshga taklif qilamiz\n",
            "Hurmatli Olim, sizni 20 Dekabr kuni nahorga oshga taklif qilamiz\n",
            "Hurmat bilan, Palonchiyevlar oilasi\n",
            "\n"
          ],
          "name": "stdout"
        }
      ]
    },
    {
      "cell_type": "markdown",
      "metadata": {
        "id": "7cyahn9VgL8e"
      },
      "source": [
        "Yuqoridagi kodimizda 4-qatorni o'ngga surmaganimiz uchun, Python bu qatorni tsikl tashqarisida deb qabul qildi va faqatgina 1 marta, tsikl tugaganidan so'ng bajardi. \n",
        "\n",
        "Huddi shu kabi agar takrorlanishi kerak bo'magan kodni tsikldan so'ng o'ngga surib qo'ysak Python bu qatorni tsiklning tarkibida deb hisoblab, qayta-qayta bajaradi:"
      ]
    },
    {
      "cell_type": "code",
      "metadata": {
        "colab": {
          "base_uri": "https://localhost:8080/"
        },
        "id": "xz_tIFWtgJWh",
        "outputId": "2c1e29e0-c21d-4c8c-8096-0ae11f01c6e1"
      },
      "source": [
        "mehmonlar = ['Ali','Vali','Hasan', 'Husan','Olim']\n",
        "for mehmon in mehmonlar:\n",
        "    print(mehmon)\n",
        "    \n",
        "    print(mehmonlar) # bu qator tsikl tashqarisida bo'lishi kerak edi"
      ],
      "execution_count": 7,
      "outputs": [
        {
          "output_type": "stream",
          "text": [
            "Ali\n",
            "['Ali', 'Vali', 'Hasan', 'Husan', 'Olim']\n",
            "Vali\n",
            "['Ali', 'Vali', 'Hasan', 'Husan', 'Olim']\n",
            "Hasan\n",
            "['Ali', 'Vali', 'Hasan', 'Husan', 'Olim']\n",
            "Husan\n",
            "['Ali', 'Vali', 'Hasan', 'Husan', 'Olim']\n",
            "Olim\n",
            "['Ali', 'Vali', 'Hasan', 'Husan', 'Olim']\n"
          ],
          "name": "stdout"
        }
      ]
    },
    {
      "cell_type": "markdown",
      "metadata": {
        "id": "49Tx1-POgUsb"
      },
      "source": [
        "Yuoqirdagi misolda 5-qator o'ngga surilib qolgani uchun Python bu qatorni ham bir necha bor takrorlab, konsolga chiqardi. To'g'ri kod quyidagicha bo'ladi:"
      ]
    },
    {
      "cell_type": "code",
      "metadata": {
        "colab": {
          "base_uri": "https://localhost:8080/"
        },
        "id": "870lkEJygPbZ",
        "outputId": "d0347e15-cecf-45fc-cce0-39232d41dd6e"
      },
      "source": [
        "mehmonlar = ['Ali','Vali','Hasan', 'Husan','Olim']\n",
        "for mehmon in mehmonlar:\n",
        "    print(mehmon)\n",
        "    \n",
        "print(mehmonlar)"
      ],
      "execution_count": 8,
      "outputs": [
        {
          "output_type": "stream",
          "text": [
            "Ali\n",
            "Vali\n",
            "Hasan\n",
            "Husan\n",
            "Olim\n",
            "['Ali', 'Vali', 'Hasan', 'Husan', 'Olim']\n"
          ],
          "name": "stdout"
        }
      ]
    },
    {
      "cell_type": "markdown",
      "metadata": {
        "id": "UytoAy9egbQJ"
      },
      "source": [
        "# `for` YORDAMIDA SONLI RO'YXATLAR BILAN ISHLASH\n",
        "Keling quyidagi misolni ko'ramiz"
      ]
    },
    {
      "cell_type": "code",
      "metadata": {
        "colab": {
          "base_uri": "https://localhost:8080/"
        },
        "id": "HopYA-eIgcdo",
        "outputId": "fd69b642-5dff-44cf-c5a4-4c2dc4e58764"
      },
      "source": [
        "sonlar = list(range(1,11))\n",
        "for son in sonlar:\n",
        "    print(f\"{son} ning kvadrati {son**2} ga teng\")"
      ],
      "execution_count": 9,
      "outputs": [
        {
          "output_type": "stream",
          "text": [
            "1 ning kvadrati 1 ga teng\n",
            "2 ning kvadrati 4 ga teng\n",
            "3 ning kvadrati 9 ga teng\n",
            "4 ning kvadrati 16 ga teng\n",
            "5 ning kvadrati 25 ga teng\n",
            "6 ning kvadrati 36 ga teng\n",
            "7 ning kvadrati 49 ga teng\n",
            "8 ning kvadrati 64 ga teng\n",
            "9 ning kvadrati 81 ga teng\n",
            "10 ning kvadrati 100 ga teng\n"
          ],
          "name": "stdout"
        }
      ]
    },
    {
      "cell_type": "markdown",
      "metadata": {
        "id": "ir9jEddJgflh"
      },
      "source": [
        "`for` yordamida yangi ro'yxat ham shakllantirish mumkin:"
      ]
    },
    {
      "cell_type": "code",
      "metadata": {
        "colab": {
          "base_uri": "https://localhost:8080/"
        },
        "id": "znIaKKlVgd8R",
        "outputId": "fb92359e-c630-4a2e-88e8-22eab602502f"
      },
      "source": [
        "sonlar = list(range(11)) # 1 dan 10 gacha sonlar ro'yxatini yaratamiz\n",
        "sonlar_kvadrati =[] # bo'sh ro'yxat yaratamiz\n",
        "for son in sonlar:  # sonlar dagi har bir son uchun\n",
        "    sonlar_kvadrati.append(son**2) # uning kv.ni hisoblab, sonlar_kvadrati ga yuklaymiz\n",
        "\n",
        "print(sonlar)\n",
        "print(sonlar_kvadrati)"
      ],
      "execution_count": 10,
      "outputs": [
        {
          "output_type": "stream",
          "text": [
            "[0, 1, 2, 3, 4, 5, 6, 7, 8, 9, 10]\n",
            "[0, 1, 4, 9, 16, 25, 36, 49, 64, 81, 100]\n"
          ],
          "name": "stdout"
        }
      ]
    },
    {
      "cell_type": "markdown",
      "metadata": {
        "id": "ECE5P2JxgnIQ"
      },
      "source": [
        "# `for` va `input()`\n",
        "`for` operatori va `input()` funktsiyasini jamlab, ro'yxatni foydalanuvchidan olingan qiymatlar bilan to'ldirish mumkin:"
      ]
    },
    {
      "cell_type": "code",
      "metadata": {
        "colab": {
          "base_uri": "https://localhost:8080/"
        },
        "id": "kzIzd7itgjPQ",
        "outputId": "2089f888-bc18-4a17-8414-59449573b0eb"
      },
      "source": [
        "dostlar = [] # bo'sh ro'yxat\n",
        "print(\"5 ta eng yaqin do'stingiz kim?\")\n",
        "for n in range(5): # n bu yerda 0 dan 4 gacha qiymatlar oladi\n",
        "    dostlar.append(input(f\"{n+1}-do'stingizning ismini kiriting: \"))\n",
        "print(dostlar)v"
      ],
      "execution_count": 11,
      "outputs": [
        {
          "output_type": "stream",
          "text": [
            "5 ta eng yaqin do'stingiz kim?\n",
            "1-do'stingizning ismini kiriting: alijon\n",
            "2-do'stingizning ismini kiriting: valijon\n",
            "3-do'stingizning ismini kiriting: hasan\n",
            "4-do'stingizning ismini kiriting: husan\n",
            "5-do'stingizning ismini kiriting: ivan\n",
            "['alijon', 'valijon', 'hasan', 'husan', 'ivan']\n"
          ],
          "name": "stdout"
        }
      ]
    },
    {
      "cell_type": "markdown",
      "metadata": {
        "id": "HK6kZuFJgz4_"
      },
      "source": [
        "Kodni tahlil qilamiz:\n",
        "- 1-qatorda bo'sh dostlar ro'yxatini yaratdik\n",
        "- 2-qatorda ekranga `\"5 ta eng yaqin do'stingiz kim?\"` degan xabarni chiqardik\n",
        "- 3-qatorda tsiklni boshladik. `range(5)` funktsiyasi 0 dan 5 gacha sonlar ketma-ketligini yaratadi `(0,1,2,3,4)` tsikl esa `n` shularning har biriga teng bo'lib chiqquncha davom etadi. \n",
        "- 4-qatorda tsikl badani kelgan. Bu yerda biz foydalanuvchidan `n+1` do'stingizni kiriting deb so'radik. Nima uchun `n+1` (`n` emas)? Sababi `n` 0 dan 4 gacha qiymatlarni oladi, foydalanuvchiga tushunarli bo'lishi uchun esa biz `\"0-do'stingizni ismini kiriting:\"` deb emas, balki `n+1` ya'ni 1-ismni kiriting deb murojat qilyapmiz.\n",
        "- 5-qatorda shakllangan ro'yxatni konsolga chiqardik.\n",
        "\n",
        ">for tsikli har qanday dasturlash tilining eng muhim qismlaridan hisoblanadi va biz bu operatoraga hali takror-takror qaytamiz."
      ]
    },
    {
      "cell_type": "markdown",
      "metadata": {
        "id": "OBmGIHNdhLaA"
      },
      "source": [
        "# AMALIYOT\n",
        "- Kamida 5 elementdan iborat ismlar degan ro'yxat tuzing, va ro'yxatdagi har bir ismga takrorlanuvchi xabar yozing\n",
        "- Yuqoridagi tsikl tugaganidan so'ng, ekranga \"Kod n marta takrorlandi\" degan xabarni chiqaring (n o'rniga kod necha marta takrorlanganini yozing)\n",
        "- 10 dan 100 gacha bo'lgan toq sonlar ro'yxatini tuzing. Ro'yxatning xar bir elementining kubini yangi qatordan konsolga chiqaring.\n",
        "- Foydalanuvchidan 5 ta eng sevimli kinolarini kiritshni so'rang, va kinolar degan ro'yxatga saqlab oling. Natijani konsolga chiqaring.\n",
        "- Foydalanuvchidan bugun nechta odam bilan uchrashganini (suhbatlashganini) so'rang, va har bir suhbatlashgan odamning ismini birma-bir so'rab ro'yxatga yozing. Ro'yxatni konsolga chiqaring."
      ]
    },
    {
      "cell_type": "markdown",
      "metadata": {
        "id": "IHGEBCpnhZKI"
      },
      "source": [
        "# JAVOBLAR"
      ]
    },
    {
      "cell_type": "code",
      "metadata": {
        "colab": {
          "base_uri": "https://localhost:8080/"
        },
        "id": "El-Gw84EgtEB",
        "outputId": "e1fcf524-4984-4b6c-ff36-3c7e9b041434"
      },
      "source": [
        "# Kamida 5 elementdan iborat ismlar degan ro'yxat tuzing, \n",
        "# va ro'yxatdagi har bir ismga takrorlanuvchi xabar yozing\n",
        "ismlar = ['Ali','Vali','Hasan','Husan','Olim']\n",
        "for ism in ismlar:\n",
        "    print(f\"Assalom alaykum, {ism}. Sahifamizga xush kelibsiz!\")"
      ],
      "execution_count": 12,
      "outputs": [
        {
          "output_type": "stream",
          "text": [
            "Assalom alaykum, Ali. Sahifamizga xush kelibsiz!\n",
            "Assalom alaykum, Vali. Sahifamizga xush kelibsiz!\n",
            "Assalom alaykum, Hasan. Sahifamizga xush kelibsiz!\n",
            "Assalom alaykum, Husan. Sahifamizga xush kelibsiz!\n",
            "Assalom alaykum, Olim. Sahifamizga xush kelibsiz!\n"
          ],
          "name": "stdout"
        }
      ]
    },
    {
      "cell_type": "code",
      "metadata": {
        "colab": {
          "base_uri": "https://localhost:8080/"
        },
        "id": "-IPhhqluhi4B",
        "outputId": "bc688843-f641-447a-83e7-ef4e7fba1609"
      },
      "source": [
        "# Yuoqirdagi tsikl tugaganidan so'ng, \n",
        "# ekranga \"Kod n marta takrorlandi\" degan xabar chiqaring \n",
        "# (n o'rniga kod necha marta takrorlanganini yozing)\n",
        "print(f\"Kod {len(ismlar)} marta takrorlandi\")"
      ],
      "execution_count": 13,
      "outputs": [
        {
          "output_type": "stream",
          "text": [
            "Kod 5 marta takrorlandi\n"
          ],
          "name": "stdout"
        }
      ]
    },
    {
      "cell_type": "code",
      "metadata": {
        "colab": {
          "base_uri": "https://localhost:8080/"
        },
        "id": "DorET4RthnhB",
        "outputId": "d3844aa5-3356-4879-b2c3-cedc2e74f6e2"
      },
      "source": [
        "# 10 dan 100 gacha bo'lgan toq sonlar ro'yxatini tuzing. \n",
        "# Ro'yxatning xar bir elementining kubini yangi qatordan konsolga chiqaring.\n",
        "sonlar = list(range(11,100,2))\n",
        "for son in sonlar:\n",
        "    print(son**3)"
      ],
      "execution_count": 14,
      "outputs": [
        {
          "output_type": "stream",
          "text": [
            "1331\n",
            "2197\n",
            "3375\n",
            "4913\n",
            "6859\n",
            "9261\n",
            "12167\n",
            "15625\n",
            "19683\n",
            "24389\n",
            "29791\n",
            "35937\n",
            "42875\n",
            "50653\n",
            "59319\n",
            "68921\n",
            "79507\n",
            "91125\n",
            "103823\n",
            "117649\n",
            "132651\n",
            "148877\n",
            "166375\n",
            "185193\n",
            "205379\n",
            "226981\n",
            "250047\n",
            "274625\n",
            "300763\n",
            "328509\n",
            "357911\n",
            "389017\n",
            "421875\n",
            "456533\n",
            "493039\n",
            "531441\n",
            "571787\n",
            "614125\n",
            "658503\n",
            "704969\n",
            "753571\n",
            "804357\n",
            "857375\n",
            "912673\n",
            "970299\n"
          ],
          "name": "stdout"
        }
      ]
    },
    {
      "cell_type": "code",
      "metadata": {
        "colab": {
          "base_uri": "https://localhost:8080/"
        },
        "id": "IkihspNdhpMY",
        "outputId": "3d7e935f-5721-4406-c8e4-4edc5d3260fe"
      },
      "source": [
        "# Foydalanuvchidan 5 ta eng sevimli kinolarini kiritshni so'rang,\n",
        "# va kinolar degan ro'yxatga saqlab oling. Natijani konsolga chiqaring.\n",
        "kinolar = []\n",
        "print(\"5 ta sevimli kinoingiz qaysilar?\")\n",
        "for k in range(5):\n",
        "    kinolar.append(input(f\"{k+1}-kino:\"))\n",
        "print(kinolar)  "
      ],
      "execution_count": 15,
      "outputs": [
        {
          "output_type": "stream",
          "text": [
            "5 ta sevimli kinoingiz qaysilar?\n",
            "1-kino:terminator\n",
            "2-kino:terminator2\n",
            "3-kino:termnator3\n",
            "4-kino:terminator4\n",
            "5-kino:terminator5\n",
            "['terminator', 'terminator2', 'termnator3', 'terminator4', 'terminator5']\n"
          ],
          "name": "stdout"
        }
      ]
    },
    {
      "cell_type": "code",
      "metadata": {
        "colab": {
          "base_uri": "https://localhost:8080/"
        },
        "id": "ammCjkJuhra0",
        "outputId": "9951c6d6-aafa-4b2a-890a-17f921355926"
      },
      "source": [
        "# Foydalanuvchidan bugun nechta odam bilan \n",
        "# uchrashganini (suhbatlashganini) so'rang, \n",
        "# va har bir suhbatlashgan odamning ismini birma-bir so'rab ro'yxatga yozing. Ro'yxatni konsolga chiqaring.\n",
        "n_people = int(input(\"Bugun necha kishi bn suhbat qildingiz?>>>\"))\n",
        "ismlar = []\n",
        "for n in range(n_people):\n",
        "    ismlar.append(input(f\"{n+1}-suhbat qilgan odamingiz kim edi: \"))\n",
        "print(ismlar)"
      ],
      "execution_count": 16,
      "outputs": [
        {
          "output_type": "stream",
          "text": [
            "Bugun necha kishi bn suhbat qildingiz?>>>1\n",
            "1-suhbat qilgan odamingiz kim edi: olim\n",
            "['olim']\n"
          ],
          "name": "stdout"
        }
      ]
    },
    {
      "cell_type": "code",
      "metadata": {
        "id": "B4WXF59Dh7l2"
      },
      "source": [
        "%%capture\n",
        "jovian.commit(project=\"09-python-for\")"
      ],
      "execution_count": 24,
      "outputs": []
    }
  ]
}