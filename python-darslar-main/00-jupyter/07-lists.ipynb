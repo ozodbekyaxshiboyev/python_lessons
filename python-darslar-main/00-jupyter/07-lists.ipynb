{
 "cells": [
  {
   "cell_type": "markdown",
   "metadata": {},
   "source": [
    "# 07-DARS. LIST (RO'YXAT)\n",
    "List yordamida bir o'zgaruvchida ko'p qiymatlar saqlashni o'rganamiz."
   ]
  },
  {
   "cell_type": "markdown",
   "metadata": {},
   "source": [
    "![](https://gblobscdn.gitbook.com/assets%2F-MGbkqs1tROquIT6oqUs%2F-Mc-5yGQPZTBaGoehQdL%2F-Mc-7xpq4Puu3KEjmT0R%2FSD_YT_TG_logo_mini.png?alt=media&token=929fe67b-ec12-4f63-b33e-e9c5e3d8ad09)"
   ]
  },
  {
   "cell_type": "markdown",
   "metadata": {},
   "source": [
    "# LIST BILAN TANISHAMIZ\n",
    "Avvalgi darsimizda biz o'zgaruvchi yaratish, va uning ichida biror qiymatni (matn yoki son) saqlashni o'rgandik. Bunda biz bitta o'zgaruvchiga bitta qiymat berdik xolos.\n",
    "\n",
    "Bugun o'rganadigan navbatdagi mal'umot turi **List (ro'yxat)** deb ataladi. Ro'yxat o'z nomi bilan, bitta o'zgaruvchida bir nechta qiymatlarni saqlash imkonini beradi. Bu qiymatlar List **elementlari** deyiladi. Ro'yxatda son, matn yoki aralash turdagi elementlarni saqlash mumkin.\n",
    "\n",
    "List quyidagicha yaratiladi:"
   ]
  },
  {
   "cell_type": "code",
   "execution_count": 1,
   "metadata": {},
   "outputs": [],
   "source": [
    "mevalar = ['olma', 'anjir', 'shaftoli', \"o'rik\"] # mevalar ro'yxati (matnlar)\n",
    "narhlar = [12000, 18000, 10900, 22000] # narhlar ro'yxati (sonlar)\n",
    "sonlar = ['bir', 'ikki', 3, 4, 5] # sonlar va matnlar aralash ro'yxat\n",
    "ismlar = [] # bo'sh ro'yxat"
   ]
  },
  {
   "cell_type": "markdown",
   "metadata": {},
   "source": [
    ">Ro'yxat saqlaydigan o'zgaruvchilarni nomlashda -lar  (ko'plik) qo'shimchasini qo'shish maqsadga muvofiq bo'ladi (inlgiz tilida -s). \n",
    "Misol uchun: `mevalar`, `uylar`, `cars`, `toys`, `books` "
   ]
  },
  {
   "cell_type": "markdown",
   "metadata": {},
   "source": [
    "# LIST ELEMENTLARI\n",
    "Ro'yxatdagi har bir element tartib bilan joylashgani sababli, biz istalgan elementga uning tartib raqami (indeksi) bo'yicha murojat qilishimiz mumkin. "
   ]
  },
  {
   "cell_type": "markdown",
   "metadata": {},
   "source": [
    ">Dasturlash olamida indeks `0` dan boshlanadi! Ya'ni Listning birinchi elementing tartib raqami (indeksi) `0` ga, ikkinchi elementning indeksi `1` ga teng va hokazo."
   ]
  },
  {
   "cell_type": "code",
   "execution_count": 2,
   "metadata": {},
   "outputs": [
    {
     "name": "stdout",
     "output_type": "stream",
     "text": [
      "Birinchi meva:  olma\n",
      "Ikkinchi meva:  anjir\n"
     ]
    }
   ],
   "source": [
    "mevalar = ['olma', 'anjir', 'shaftoli', \"o'rik\"] # mevalar ro'yxati (matnlar)\n",
    "print(\"Birinchi meva: \", mevalar[0])\n",
    "print(\"Ikkinchi meva: \", mevalar[1])"
   ]
  },
  {
   "cell_type": "markdown",
   "metadata": {},
   "source": [
    "Agar list ichidagi elementlar matn ko'rinishid bo'lsa, ularga string metodlarni qo'llashimiz mumkin:"
   ]
  },
  {
   "cell_type": "code",
   "execution_count": 3,
   "metadata": {},
   "outputs": [
    {
     "name": "stdout",
     "output_type": "stream",
     "text": [
      "Birinchi meva:  Olma\n",
      "Ikkinchi meva:  ANJIR\n"
     ]
    }
   ],
   "source": [
    "mevalar = ['olma', 'anjir', 'shaftoli', \"o'rik\"] # mevalar ro'yxati (matnlar)\n",
    "print(\"Birinchi meva: \", mevalar[0].title())\n",
    "print(\"Ikkinchi meva: \", mevalar[1].upper())"
   ]
  },
  {
   "cell_type": "markdown",
   "metadata": {},
   "source": [
    "List elementlari ustida arifmetik amallar bajarish:"
   ]
  },
  {
   "cell_type": "code",
   "execution_count": 4,
   "metadata": {},
   "outputs": [
    {
     "name": "stdout",
     "output_type": "stream",
     "text": [
      "32900\n"
     ]
    }
   ],
   "source": [
    "narhlar = [12000, 18000, 10900, 22000]\n",
    "print(narhlar[2] + narhlar[3])"
   ]
  },
  {
   "cell_type": "markdown",
   "metadata": {},
   "source": [
    "Pythonda Listning eng oxirgi elementiga `-1` indeksi orqali ham murojat qilish mumkin. Bu usul Listning uzunligini bilmaganda juda asqotadi."
   ]
  },
  {
   "cell_type": "code",
   "execution_count": 5,
   "metadata": {},
   "outputs": [
    {
     "name": "stdout",
     "output_type": "stream",
     "text": [
      "Volkswagen\n"
     ]
    }
   ],
   "source": [
    "car_models = ['Toyota', 'GM', 'Volvo', 'BMW', 'Hyundai', 'Kia', 'Volkswagen']\n",
    "print(car_models[-1]) # Listning eng oxirgi elementiga -1 bilan murojat qilamiz "
   ]
  },
  {
   "cell_type": "markdown",
   "metadata": {},
   "source": [
    "# ELEMENTLARNI QO'SHISH, O'CHIRISH VA O'ZGARTIRISH\n",
    "Dastur davomida listning tarkibi o'zgarishi, yangi elementlar qo'shilishi, ba'zi elementlar o'chirilishi tabiiy hol. Misol uchun \"Bozorlik ro'yxati\" degan dasturni tasavvur qilaylik, foydalanuvchi ro'yxatga yangi mahsulotlar qo'shishi, sotib olganlarini esa o'chrishi mumkin.\n",
    "\n",
    "## Elementni o'zgartirish\n",
    "Ro'yxatdagi biror elementning qiymatini o'zgartirish uchun, o'sha elementga indeksi bo'yicha murojat qilamiz va yangi qiymat yuklaymiz"
   ]
  },
  {
   "cell_type": "code",
   "execution_count": 6,
   "metadata": {},
   "outputs": [
    {
     "name": "stdout",
     "output_type": "stream",
     "text": [
      "[13000, 18000, 11000, 24000]\n"
     ]
    }
   ],
   "source": [
    "narhlar = [12000, 18000, 10900, 22000]\n",
    "narhlar[0] = 13000 # 1-qiymatni 13000 ga o'zgartiramiz\n",
    "narhlar[2] = 11000 # 3-qiymatni 11000 ga o'zgartiramiz\n",
    "narhlar[3] = narhlar[3]+2000 # 4-qiymatga 2000 qo'shamiz\n",
    "print(narhlar)"
   ]
  },
  {
   "cell_type": "markdown",
   "metadata": {},
   "source": [
    "## Yangi element qo'shish\n",
    "**`.append()` metodi**\n",
    "\n",
    "Ro'yxatga yangi element qo'shishning oson usuli bu `.append()` metodi yordamida ro'yxatning **oxiriga** qiymat qo'shish:"
   ]
  },
  {
   "cell_type": "code",
   "execution_count": 7,
   "metadata": {},
   "outputs": [
    {
     "name": "stdout",
     "output_type": "stream",
     "text": [
      "['olma', 'anjir', 'shaftoli', \"o'rik\", 'tarvuz']\n"
     ]
    }
   ],
   "source": [
    "mevalar = ['olma', 'anjir', 'shaftoli', \"o'rik\"]\n",
    "mevalar.append(\"tarvuz\") # mevalar ga tarvuz qo'shamiz\n",
    "print(mevalar)"
   ]
  },
  {
   "cell_type": "markdown",
   "metadata": {},
   "source": [
    "`.append()` metodi bo'sh ro'yxatni to'ldrisihda juda qulay usul. Odatda dastur boshida bo'sh ro'yxat yaratilib, dastur davomida ro'yxat foydalanuvchi tomonidan to'ldirib borilishi odatiy hol."
   ]
  },
  {
   "cell_type": "code",
   "execution_count": 8,
   "metadata": {},
   "outputs": [
    {
     "name": "stdout",
     "output_type": "stream",
     "text": [
      "['Lacetti', 'Nexia 3', 'Cobalt']\n"
     ]
    }
   ],
   "source": [
    "cars = [] # bo'sh ro'yxat yaratamiz\n",
    "cars.append('Lacetti') # ro'yxatga Lacetti mashinasini qo'shamiz\n",
    "cars.append('Nexia 3') # ro'yxatga Nexia 3 mashinasini qo'shamiz\n",
    "cars.append('Cobalt')  # ro'yxatga Cobalt  mashinasini qo'shamiz\n",
    "print(cars)"
   ]
  },
  {
   "cell_type": "markdown",
   "metadata": {},
   "source": [
    "**`.insert()` metodi**\n",
    "\n",
    "Ro'yxatning istalgan joyiga yangi element qo'shish uchun `.insert()` metodidan foydalanamiz. `.insert()` metodi ichida yangi elementning indeksi va qiymati beriladi:"
   ]
  },
  {
   "cell_type": "code",
   "execution_count": 9,
   "metadata": {},
   "outputs": [
    {
     "name": "stdout",
     "output_type": "stream",
     "text": [
      "['Malibu', 'Lacetti', 'Nexia 3', 'Cobalt']\n"
     ]
    }
   ],
   "source": [
    "cars = ['Lacetti', 'Nexia 3', 'Cobalt']\n",
    "cars.insert(0, 'Malibu') # 1-o'ringa yangi qiymat qo'shamiz\n",
    "print(cars)"
   ]
  },
  {
   "cell_type": "code",
   "execution_count": 10,
   "metadata": {},
   "outputs": [
    {
     "name": "stdout",
     "output_type": "stream",
     "text": [
      "['Malibu', 'Lacetti', 'Damas', 'Nexia 3', 'Cobalt']\n"
     ]
    }
   ],
   "source": [
    "cars.insert(2, 'Damas') # 3-o'ringa yangi qiymat qo'shamiz\n",
    "print(cars)"
   ]
  },
  {
   "cell_type": "markdown",
   "metadata": {},
   "source": [
    "## Elementni o'chirish\n",
    "Ro'yxatdan biror elementni olib tashlash uchun uning indeksini yoki qiymatini bilishimiz lozim.\n",
    "\n",
    "Inedks yordamida olib tashlash uchun `del` operatoridan foydalanamiz:"
   ]
  },
  {
   "cell_type": "code",
   "execution_count": 11,
   "metadata": {},
   "outputs": [
    {
     "name": "stdout",
     "output_type": "stream",
     "text": [
      "['olma', 'shaftoli', \"o'rik\", 'anor']\n"
     ]
    }
   ],
   "source": [
    "mevalar = ['olma', 'anjir', 'shaftoli', \"o'rik\", 'anor']\n",
    "del mevalar[1] # 2-element (anjir) ni o'chirib tashlaymiz\n",
    "print(mevalar)"
   ]
  },
  {
   "cell_type": "markdown",
   "metadata": {},
   "source": [
    "Element qiymati bo'yichi o'chirish uchun esa `.remove(qiymat)` metodidan foydalanamiz. Buning uchun qavs ichida o'chirib tashlash kerak bo'lgan qiymatni yozamiz"
   ]
  },
  {
   "cell_type": "code",
   "execution_count": 12,
   "metadata": {},
   "outputs": [
    {
     "name": "stdout",
     "output_type": "stream",
     "text": [
      "['olma', 'anjir', \"o'rik\", 'anor']\n"
     ]
    }
   ],
   "source": [
    "mevalar = ['olma', 'anjir', 'shaftoli', \"o'rik\", 'anor']\n",
    "mevalar.remove('shaftoli') # Ro'yxatdan shaftolini o'chirdik\n",
    "print(mevalar)"
   ]
  },
  {
   "cell_type": "markdown",
   "metadata": {},
   "source": [
    ">`.remove(qiymat)` metodi ro'yxatda uchragan birinchi mos keluvchi qiymatni o'chiradi. Agar ro'yxatning ichida 2 va undan ko'p bir hil qiymatli elementlar bo'lsa, ulardan eng birinchisi o'chadi."
   ]
  },
  {
   "cell_type": "code",
   "execution_count": 13,
   "metadata": {},
   "outputs": [
    {
     "name": "stdout",
     "output_type": "stream",
     "text": [
      "['it', 'sigir', \"qo'y\", 'quyon', 'mushuk']\n"
     ]
    }
   ],
   "source": [
    "hayvonlar = ['it', 'mushuk', 'sigir', 'qo\\'y', 'quyon', 'mushuk']\n",
    "hayvonlar.remove(\"mushuk\") # Ro'yxatda 2 ta mushuk bor, ulardan birinchisi o'chadi\n",
    "print(hayvonlar)"
   ]
  },
  {
   "cell_type": "markdown",
   "metadata": {},
   "source": [
    "## Elementni sug'urib olish\n",
    "Ba'zida biror elementni butunlay o'chirib tashlash emas, balki uni ro'yxatdan sug'urib olish va undan foydalanish talab qilinishi mumkin. Buning uchun Pythonda `.pop(indeks)` metodidan foydalanmiz."
   ]
  },
  {
   "cell_type": "code",
   "execution_count": 14,
   "metadata": {},
   "outputs": [
    {
     "name": "stdout",
     "output_type": "stream",
     "text": [
      "Men banan sotib oldim\n",
      "Olinmagan mahsulotlar:  [\"yog'\", 'un', 'piyoz', \"go'sht\"]\n"
     ]
    }
   ],
   "source": [
    "bozorlik = [\"yog'\", 'un', 'piyoz', 'banan', \"go'sht\"]\n",
    "mahsulot = bozorlik.pop(3) # Ro'yxatdan banan ni sug'urib olamiz\n",
    "print(\"Men \" + mahsulot + \" sotib oldim\")\n",
    "print(\"Olinmagan mahsulotlar: \", bozorlik)"
   ]
  },
  {
   "cell_type": "markdown",
   "metadata": {},
   "source": [
    ">Agar `.pop()` metodida indeks berilmasa, ro'yxatdan o'xirgi qiymat sug'urib olinadi."
   ]
  },
  {
   "cell_type": "markdown",
   "metadata": {},
   "source": [
    "# AMALIYOT\n",
    "Quyidagi mashqlarni bajaring:\n",
    "\n",
    "- ismlar degan ro'yxat yarating va kamida 3 ta yaqin do'stingizning ismini kiriting\n",
    "- Ro'yxatdagi har bir do'stingizga qisqa xabar yozib konsolga chiqaring: \n",
    "\n",
    "![](https://gblobscdn.gitbook.com/assets%2F-MGbkqs1tROquIT6oqUs%2F-MLvZJbRru8b9RC9s6ag%2F-MLvbRkA4uEAqqhKk6Yi%2Fimage.png?alt=media&token=a768a42e-2516-4bbc-83ad-63d012758b25)\n",
    "\n",
    "- `sonlar` deb nomlangan ro'yxat yarating va ichiga turli sonlarni yuklang (musbat, manfiy, butun, o'nlik). \n",
    "- Yuqoridagi ro'yxatdagi sonlar ustida turli arifmetik amallar bajarib ko'ring. Ro'yxatdagi ba'zi sonlarning qiymatini o'zgartiring, ba'zilarini esa almashtiring. \n",
    "- `t_shaxslar` va `z_shaxslar` degan 2 ta ro'yxat yarating va biriga o'zingiz eng ko'p hurmat qilgan tarixiy shaxslarning, ikkinchisiga esa zamonamizdagi tirik bo'lgan shaxslarning ismini kiriting. \n",
    "- Yuqoridagi ro'yxatlarning har biridan bittadan qiymatni sug'urib olib (`.pop()`), quyidagi ko'rinishda chiqaring:\n",
    "![](https://gblobscdn.gitbook.com/assets%2F-MGbkqs1tROquIT6oqUs%2F-MLvdTf93oJb9hVewsv7%2F-MLyyn0plvxsTJKVHnxQ%2Fimage.png?alt=media&token=76b9a4e8-14fe-4d66-bde4-72464e6edbad)\n",
    "\n",
    "\n",
    "- `friends` nomli bo'sh ro'yxat tuzing va unga `.append()` yordamida 5-6 ta mehmonga chaqirmoqchi bo'lgan do'stlaringizni kiriting. \n",
    "- Yuqoridagi ro'yxatdan mehmonga kela olmaydigan odamlarni `.remove()` metodi yordamida o'chrib tashlang. \n",
    "- Ro'yxatning oxiriga, boshiga va o'rtasiga yangi ismlar qo'shing.\n",
    "- Yangi `mehmonlar` deb nomlangan bo'sh ro'yxat yarating. `.pop()` va `.append()` metodlari yordamida mehmonga kelgan do'stlaringizning ismini friends ro'yxatidan sug'urib olib, mehmonlar ro'yxatiga qo'shing."
   ]
  },
  {
   "cell_type": "markdown",
   "metadata": {},
   "source": [
    "# JAVOBLAR"
   ]
  },
  {
   "cell_type": "code",
   "execution_count": 1,
   "metadata": {},
   "outputs": [
    {
     "name": "stdout",
     "output_type": "stream",
     "text": [
      "Salom Ali ishlaring yaxshimi?\n",
      "Hasan va Husan egizaklar\n",
      "G'ani g'ildirakni g'izillatib g'ildratti\n"
     ]
    }
   ],
   "source": [
    "#ismlar degan ro'yxat yarating va kamida 3 ta yaqin do'stingizning ismini kiriting\n",
    "ismlar = ['Ali', 'Vali', 'Hasan', 'Husan', \"G'ani\"]\n",
    "#Ro'yxatdagi har bir do'stingizga qisqa xabar yozib konsolga chiqaring: \n",
    "print(\"Salom \" + ismlar[0] + \" ishlaring yaxshimi?\")\n",
    "print(f\"{ismlar[2]} va {ismlar[3]} egizaklar\")\n",
    "print(ismlar[-1] + \" g'ildirakni g'izillatib g'ildratti\")"
   ]
  },
  {
   "cell_type": "code",
   "execution_count": 2,
   "metadata": {},
   "outputs": [
    {
     "name": "stdout",
     "output_type": "stream",
     "text": [
      "[22, -58.2, 34.0, 67, 1983, 123456678000, 112.4]\n"
     ]
    }
   ],
   "source": [
    "# sonlar deb nomlangan ro'yxat yarating va ichiga turli sonlarni yuklang (musbat, manfiy, butun, o'nlik). \n",
    "sonlar = [22, -58.2, 34.0, 67, 1983, 123_456_678_000, 112.4]\n",
    "print(sonlar)"
   ]
  },
  {
   "cell_type": "code",
   "execution_count": 3,
   "metadata": {},
   "outputs": [
    {
     "name": "stdout",
     "output_type": "stream",
     "text": [
      "[134.4, -67.8, 34.0, 67, 2020, 112.4]\n"
     ]
    }
   ],
   "source": [
    "# Yuqoridagi ro'yxatdagi sonlar ustida turli arifmetik amallar bajarib ko'ring. Ro'yxatdagi ba'zi sonlarning qiymatini o'zgartiring, ba'zilarini esa almashtiring. \n",
    "sonlar[0] = sonlar[0]+sonlar[-1]\n",
    "sonlar[1] = -67.8\n",
    "sonlar[4] = sonlar[4] + 37\n",
    "del sonlar[5]\n",
    "print(sonlar)"
   ]
  },
  {
   "cell_type": "code",
   "execution_count": 4,
   "metadata": {},
   "outputs": [],
   "source": [
    "#t_shaxslarva z_shaxslar degan 2 ta ro'yxat yarating va biriga o'zingiz eng ko'p hurmat qilgan tarixiy shaxslarning, ikkinchisiga esa zamonamizdagi tirik bo'lgan shaxslarning ismini kiriting.\n",
    "t_shaxslar = ['Amir Temur','Imom Buxoriy', 'Napoleon']\n",
    "z_shaxslar = ['Bill Gates', 'Elon Musk', 'Doasnald Trump']"
   ]
  },
  {
   "cell_type": "code",
   "execution_count": 5,
   "metadata": {},
   "outputs": [
    {
     "name": "stdout",
     "output_type": "stream",
     "text": [
      "\n",
      "Men tarixiy shaxslardan Imom Buxoriy bilan,\n",
      "zamonaviy shaxslardan esa Bill Gates bilan\n",
      "suhbat qilishni istar edim\n",
      "\n"
     ]
    }
   ],
   "source": [
    "#Yuqoridagi ro'yxatlarning har biridan bittadan qiymatni sug'urib olib (.pop()), quyidagi ko'rinishda chiqaring:\n",
    "print(f\"\\nMen tarixiy shaxslardan {t_shaxslar.pop(1)} bilan,\\n\\\n",
    "zamonaviy shaxslardan esa {z_shaxslar.pop(0)} bilan\\n\\\n",
    "suhbat qilishni istar edim\\n\")"
   ]
  },
  {
   "cell_type": "code",
   "execution_count": 6,
   "metadata": {},
   "outputs": [
    {
     "name": "stdout",
     "output_type": "stream",
     "text": [
      "['John', 'Alex', 'Danny', 'Sobirjon', 'Vanya']\n"
     ]
    }
   ],
   "source": [
    "#friends nomli bo'sh ro'yxat tuzing va unga .append() yordamida 5-6 ta mehmonga chaqirmoqchi bo'lgan do'stlaringizni kiriting.\n",
    "friends = []\n",
    "friends.append('John')\n",
    "friends.append('Alex')\n",
    "friends.append('Danny')\n",
    "friends.append('Sobirjon')\n",
    "friends.append('Vanya')\n",
    "print(friends)"
   ]
  },
  {
   "cell_type": "code",
   "execution_count": 8,
   "metadata": {},
   "outputs": [
    {
     "name": "stdout",
     "output_type": "stream",
     "text": [
      "['Danny', 'Sobirjon', 'Vanya']\n"
     ]
    }
   ],
   "source": [
    "#Yuqoridagi ro'yxatdan mehmonga kela olmaydigan odamlarni .remove() metodi yordamida o'chrib tashlang. \n",
    "friends.remove('John')\n",
    "friends.remove('Alex')\n",
    "print(friends)"
   ]
  },
  {
   "cell_type": "code",
   "execution_count": 9,
   "metadata": {},
   "outputs": [
    {
     "name": "stdout",
     "output_type": "stream",
     "text": [
      "['Husan', 'Danny', 'Ivan', 'Sobirjon', 'Vanya', 'Hasan']\n"
     ]
    }
   ],
   "source": [
    "#Ro'yxatning oxiriga, boshiga va o'rtasiga yangi ismlar qo'shing.\n",
    "friends.append('Hasan')\n",
    "friends.insert(0, 'Husan')\n",
    "friends.insert(2, 'Ivan')\n",
    "print(friends)"
   ]
  },
  {
   "cell_type": "code",
   "execution_count": 10,
   "metadata": {},
   "outputs": [
    {
     "name": "stdout",
     "output_type": "stream",
     "text": [
      "\n",
      "Kelgan mehmonlar:  ['Sobirjon', 'Hasan', 'Husan']\n"
     ]
    }
   ],
   "source": [
    "#Yangi mehmonlar deb nomlangan bo'sh ro'yxat yarating. .pop() va .append() metodlari yordamida mehmonga kelgan do'stlaringizning ismini friends ro'yxatidan sug'urib olib, mehmonlar ro'yxatiga qo'shing.\n",
    "mehmonlar = []\n",
    "mehmonlar.append(friends.pop(3))\n",
    "mehmonlar.append(friends.pop(-1))\n",
    "mehmonlar.append(friends.pop(0))\n",
    "print(\"\\nKelgan mehmonlar: \", mehmonlar)"
   ]
  },
  {
   "cell_type": "markdown",
   "metadata": {},
   "source": [
    "**Quyidagi kodga tegmang**"
   ]
  },
  {
   "cell_type": "code",
   "execution_count": 15,
   "metadata": {},
   "outputs": [],
   "source": [
    "%%capture\n",
    "jovian.commit()"
   ]
  }
 ],
 "metadata": {
  "kernelspec": {
   "display_name": "Python 3",
   "language": "python",
   "name": "python3"
  },
  "language_info": {
   "codemirror_mode": {
    "name": "ipython",
    "version": 3
   },
   "file_extension": ".py",
   "mimetype": "text/x-python",
   "name": "python",
   "nbconvert_exporter": "python",
   "pygments_lexer": "ipython3",
   "version": "3.8.6"
  }
 },
 "nbformat": 4,
 "nbformat_minor": 4
}
