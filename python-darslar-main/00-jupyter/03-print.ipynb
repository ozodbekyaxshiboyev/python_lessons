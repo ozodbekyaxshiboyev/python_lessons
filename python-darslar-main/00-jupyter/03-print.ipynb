{
 "cells": [
  {
   "cell_type": "markdown",
   "metadata": {},
   "source": [
    "# 03-DARS. print(), SINTEKS VA ARIFMETIK AMALLAR\n",
    "\n",
    "print() funktsiyasi, Python sintaksi va arifmetik amallar"
   ]
  },
  {
   "cell_type": "markdown",
   "metadata": {},
   "source": [
    "![Sariqdev](https://gblobscdn.gitbook.com/assets%2F-MGbkqs1tROquIT6oqUs%2F-Mc-5yGQPZTBaGoehQdL%2F-Mc-7xpq4Puu3KEjmT0R%2FSD_YT_TG_logo_mini.png?alt=media&token=929fe67b-ec12-4f63-b33e-e9c5e3d8ad09)"
   ]
  },
  {
   "cell_type": "markdown",
   "metadata": {},
   "source": [
    "# PRINT()"
   ]
  },
  {
   "cell_type": "markdown",
   "metadata": {},
   "source": [
    "Avvalgi darsimizning yakunida bir nechta kodlarni pythonda bajarib ko'rishni vazifa qilgan edik. Keling shu kodlarning natijasini ko'ramiz:"
   ]
  },
  {
   "cell_type": "code",
   "execution_count": 4,
   "metadata": {},
   "outputs": [
    {
     "name": "stdout",
     "output_type": "stream",
     "text": [
      "Assalom alaykum\n"
     ]
    }
   ],
   "source": [
    "print(\"Assalom alaykum\")"
   ]
  },
  {
   "cell_type": "markdown",
   "metadata": {},
   "source": [
    "Kutilganidek, yuqoridagi kod Assalom alaykum matnini konsolda ko'rsatdi. Keling endi keyingi kodni kiritamiz:"
   ]
  },
  {
   "cell_type": "code",
   "execution_count": 6,
   "metadata": {},
   "outputs": [
    {
     "ename": "SyntaxError",
     "evalue": "invalid syntax (<ipython-input-6-57340e294b0a>, line 1)",
     "output_type": "error",
     "traceback": [
      "\u001b[0;36m  File \u001b[0;32m\"<ipython-input-6-57340e294b0a>\"\u001b[0;36m, line \u001b[0;32m1\u001b[0m\n\u001b[0;31m    print(Xayrli tong!)\u001b[0m\n\u001b[0m                 ^\u001b[0m\n\u001b[0;31mSyntaxError\u001b[0m\u001b[0;31m:\u001b[0m invalid syntax\n"
     ]
    }
   ],
   "source": [
    "print(Xayrli tong!)"
   ]
  },
  {
   "cell_type": "markdown",
   "metadata": {},
   "source": [
    "Bu safar esa `Xayrli tong!` yozuvi o'rniga, `Syntax Error` (sinteksda xatolik) xabari chiqdi. Xatolik qayerda?\n",
    "Avval aytganimizdek, `print()` funktsiyasi matn yoki ifodalarni konsolga chiqarish vazifasini bajaradi. Lekin bu funktsiya to'g'ri ishlashi uchun bir nechta qoidalarga amal qilish lozim. Jumladan, agar konsolga matn chiqarmoqchi bo'lsak, matnimiz albatta qo'shtirnoq yoki (`\" \"`) yoki birtirnoq(`' '`) orasida yozlishi kerak. Demak `Xayrli tong!` so'zini konsolda chiqarish uchun to'g'ri kod:"
   ]
  },
  {
   "cell_type": "code",
   "execution_count": 7,
   "metadata": {},
   "outputs": [
    {
     "name": "stdout",
     "output_type": "stream",
     "text": [
      "Xayrli tong!\n"
     ]
    }
   ],
   "source": [
    "print(\"Xayrli tong!\")"
   ]
  },
  {
   "cell_type": "markdown",
   "metadata": {},
   "source": [
    "yoki"
   ]
  },
  {
   "cell_type": "code",
   "execution_count": 8,
   "metadata": {},
   "outputs": [
    {
     "name": "stdout",
     "output_type": "stream",
     "text": [
      "Xayrli tong!\n"
     ]
    }
   ],
   "source": [
    "print('Xayrli tong!')"
   ]
  },
  {
   "cell_type": "markdown",
   "metadata": {},
   "source": [
    "bo'ladi. "
   ]
  },
  {
   "cell_type": "markdown",
   "metadata": {},
   "source": [
    "Qo'shitrnoq yoki birtirnoq ishlatishning afzalliklaridan biri, agar siz chiqarmoqchi bo'lgan matnda ikkovidan biri qatnashgan bo'lsa, `print()` funktsyasida ikkinchisidan foydalanasiz. Keling quyidagi misolni ko'ramiz:"
   ]
  },
  {
   "cell_type": "code",
   "execution_count": 9,
   "metadata": {},
   "outputs": [
    {
     "name": "stdout",
     "output_type": "stream",
     "text": [
      "Men \"Dell\" markasidagi noutbuk sotib oldim\n"
     ]
    }
   ],
   "source": [
    "print('Men \"Dell\" markasidagi noutbuk sotib oldim')"
   ]
  },
  {
   "cell_type": "markdown",
   "metadata": {},
   "source": [
    "Yuqoridagi matnda `\"Dell\"` so'zi qo'shtirnoq ichida eda. Bu matnni konsolga chiqarish uchun esa, `print()` funktsyasi ichida matnni birtirnoq ichiga oldik.\n",
    "Agar matnni bir necha qatorga bo'lib yozish talab qilinsa, uchtalik qo'shtirnoq (`\"\"\" \"\"\"`) yoki birtirnoqdan (`''' '''`)foydalanish mumkin:"
   ]
  },
  {
   "cell_type": "code",
   "execution_count": 10,
   "metadata": {},
   "outputs": [
    {
     "name": "stdout",
     "output_type": "stream",
     "text": [
      "Odami ersang, demagil odami,\n",
      "Oniki, yo'q xalq g'amidin g'ami\n"
     ]
    }
   ],
   "source": [
    "print(\"\"\"Odami ersang, demagil odami,\n",
    "Oniki, yo'q xalq g'amidin g'ami\"\"\")"
   ]
  },
  {
   "cell_type": "markdown",
   "metadata": {},
   "source": [
    "Qatorga bo'lishning yana bir usuli, qator so'nggida `\\n` belgisini qo'yish."
   ]
  },
  {
   "cell_type": "code",
   "execution_count": 11,
   "metadata": {},
   "outputs": [
    {
     "name": "stdout",
     "output_type": "stream",
     "text": [
      "Odami ersang, demagil odami,\n",
      "Oniki, yo'q xalq g'amidin g'ami\n"
     ]
    }
   ],
   "source": [
    "print(\"Odami ersang, demagil odami,\\nOniki, yo'q xalq g'amidin g'ami\")"
   ]
  },
  {
   "cell_type": "markdown",
   "metadata": {},
   "source": [
    "Yuoqridagi matnni birtirnoq orqali ham konsolga chiqarish mumkinmi? Matndagi `yo'q`, `g'am` so'zlaridagi birtirnoqlar bunga to'sqinlik qilmaydimi? Qiladi.\n",
    "Buning oldini olish uchun esa matndagi birtirnoq belgisidan avval `\\` belgisini qo'yish lozim. "
   ]
  },
  {
   "cell_type": "code",
   "execution_count": 12,
   "metadata": {},
   "outputs": [
    {
     "name": "stdout",
     "output_type": "stream",
     "text": [
      "Odami ersang, demagil odami, \n",
      "Oniki, yo'q xalq g'amidin g'ami\n"
     ]
    }
   ],
   "source": [
    "print('Odami ersang, demagil odami, \\nOniki, yo\\'q xalq g\\'amidin g\\'ami')"
   ]
  },
  {
   "cell_type": "markdown",
   "metadata": {},
   "source": [
    "Yuqoridagi kodga e'tibor bergan bo'lsangiz `yo'q` so'zi `yo\\'q` ko'rinishida `g'am` so'zi esa `g\\'am` ko'rinishida yozilgan. Umuman olganda `\\` belgisi har qanday mahsus belgi oldidan qo'yiladi.\n",
    "\n",
    "Agar yuqordagi kodimizda `\\` belgisini ishlatmaganimizda natija qanday bo'lar edi?"
   ]
  },
  {
   "cell_type": "code",
   "execution_count": 13,
   "metadata": {},
   "outputs": [
    {
     "ename": "SyntaxError",
     "evalue": "invalid syntax (<ipython-input-13-336acdd9db07>, line 1)",
     "output_type": "error",
     "traceback": [
      "\u001b[0;36m  File \u001b[0;32m\"<ipython-input-13-336acdd9db07>\"\u001b[0;36m, line \u001b[0;32m1\u001b[0m\n\u001b[0;31m    print('Odami ersang, demagil odami,\\nOniki, yo'q xalq g'amidin g'ami')\u001b[0m\n\u001b[0m                                                   ^\u001b[0m\n\u001b[0;31mSyntaxError\u001b[0m\u001b[0;31m:\u001b[0m invalid syntax\n"
     ]
    }
   ],
   "source": [
    "print('Odami ersang, demagil odami,\\nOniki, yo'q xalq g'amidin g'ami')"
   ]
  },
  {
   "cell_type": "markdown",
   "metadata": {},
   "source": [
    "Keling shu o'rinda `Syntax Error` (sinteksda xatolik) haqida ham gaplashaylik."
   ]
  },
  {
   "cell_type": "markdown",
   "metadata": {},
   "source": [
    "# SINTEKS XATOLIK (SYNTAX ERROR)"
   ]
  },
  {
   "cell_type": "markdown",
   "metadata": {},
   "source": [
    "Har bir tilda orfografik va grammatik qoidalar bo'lgani kabi, dasturlash tillarining ham o'ziga yarasha qonun-qoidalari bor. Bu qoidalar to'plami **sinteks (syntax)** deb ataladi. **Sinteks xatolik** (`Syntax Error`) deb esa shu qoidalarning buzilishiga aytiladi. \n",
    "\n",
    "Misol uchun keraksiz joyda qo'yilgan nuqta, vergul yoki bo'sh joy, shuningdek ma'lum funktsiyalar nomini xato yozish (`print()` o'rniga `prit()`), ochilmay yoki yopilmay qolgan qavs, noo'rin bo'shliq, qolib ketgan kalit so'z (keyword) kabilar ham `Syntax Error` hisoblanadi.\n",
    "\n",
    "`Syntax Error` eng ko'p uchraydigan xatolik bo'lib, Python bunday xatolik bor dasturlarni **bajarmaydi**. \n",
    "\n",
    "Biz darslarimiz davomida turli sinteks qoidalar haqida o'z o'rnida yana to'xtalamiz."
   ]
  },
  {
   "cell_type": "markdown",
   "metadata": {},
   "source": [
    "# ARIFMETIK AMALLAR"
   ]
  },
  {
   "cell_type": "markdown",
   "metadata": {},
   "source": [
    "Amaliyotga qaytamiz, `print()` funktsiyasi nafaqat matn, balki turli ifodalarni ham konsolga chiqaradi.\n",
    "\n",
    "Keling quyidagi kodlarni ham bajaramiz:"
   ]
  },
  {
   "cell_type": "code",
   "execution_count": 14,
   "metadata": {},
   "outputs": [
    {
     "name": "stdout",
     "output_type": "stream",
     "text": [
      "10\n"
     ]
    }
   ],
   "source": [
    "print(2+4*2)"
   ]
  },
  {
   "cell_type": "markdown",
   "metadata": {},
   "source": [
    "Python arifmetik amallarni bajarishda Matematika qoidalariga amal qiladi:\n",
    "+ Qavs ichidagi amallar qavs ortidagilardan avval bajariladi\n",
    "+ Darajaga oshirish (ildiz chiqarish) ko'paytirish va bo'lishdan avval bajariladi\n",
    "+ Ko'paytirish va bo'lish, qo'shish va ayirishdan avval bajariladi\n",
    "+ Boshqa holatlarda ifodalar chapdan o'ngga qarab bajariladi\n",
    "\n",
    "Yuqoridagi misolda ham avval ko'paytirish (4*2=8), keyin esa qo'shish amali (2+8=10) bajarildi."
   ]
  },
  {
   "cell_type": "code",
   "execution_count": 15,
   "metadata": {},
   "outputs": [
    {
     "name": "stdout",
     "output_type": "stream",
     "text": [
      "3.8\n"
     ]
    }
   ],
   "source": [
    "print(19/5)"
   ]
  },
  {
   "cell_type": "markdown",
   "metadata": {},
   "source": [
    "Ko'rib turganingizdek, `/` belgisi bo'lish amalini bajaradi va natija har doim o'nlik son ko'rinishida bo'ladi (agarchi bo'lish amali natijasida butun son xosil bo'lsa ham):"
   ]
  },
  {
   "cell_type": "code",
   "execution_count": 16,
   "metadata": {},
   "outputs": [
    {
     "name": "stdout",
     "output_type": "stream",
     "text": [
      "4.0\n"
     ]
    }
   ],
   "source": [
    "print(20/5)"
   ]
  },
  {
   "cell_type": "markdown",
   "metadata": {},
   "source": [
    "Bo'lish amalidan butun son ko'rinishidagi natija olish uchun `//` belgisidan foydalanamiz:"
   ]
  },
  {
   "cell_type": "code",
   "execution_count": 17,
   "metadata": {},
   "outputs": [
    {
     "name": "stdout",
     "output_type": "stream",
     "text": [
      "4\n"
     ]
    }
   ],
   "source": [
    "print(16//4)"
   ]
  },
  {
   "cell_type": "code",
   "execution_count": 18,
   "metadata": {},
   "outputs": [
    {
     "name": "stdout",
     "output_type": "stream",
     "text": [
      "3\n"
     ]
    }
   ],
   "source": [
    "print(10//3)"
   ]
  },
  {
   "cell_type": "markdown",
   "metadata": {},
   "source": [
    "Amaliyotimizdagi keyingi kodni ham bajaraylik:"
   ]
  },
  {
   "cell_type": "code",
   "execution_count": 19,
   "metadata": {},
   "outputs": [
    {
     "name": "stdout",
     "output_type": "stream",
     "text": [
      "16\n"
     ]
    }
   ],
   "source": [
    "print(2**4)"
   ]
  },
  {
   "cell_type": "markdown",
   "metadata": {},
   "source": [
    "Yuqoridagi `**` belgisi darajaga oshirishni anglatadi, ya'ni `2**4` ifodasi 2 ning 4-darajasini beradi.\n",
    "\n",
    "Pythonda oddiy arifmetik amallar quyidagi jadvalda berilgan."
   ]
  },
  {
   "cell_type": "markdown",
   "metadata": {},
   "source": [
    "Operator | Tavsif | Misol\n",
    "---|---|---\n",
    "`+` | Qo'shish | `5+6=11` \n",
    "`-` | Ayirish | `5-6=-1`\n",
    "`*` | Ko'paytirish | `5*6=30`\n",
    "`/` | Bo'lish | `5/6=0.833333`\n",
    "`//`| Bo'lish va butun qismini olish | `5//6=0`\n",
    "`**`| Exponenta (daraja/ildiz) | `5**6=15625`\n",
    "`%` | Bo'linmaning qoldig'ini olish | `15%6=3`"
   ]
  },
  {
   "cell_type": "markdown",
   "metadata": {},
   "source": [
    "`print()` yordamida matn va ifodalarni jamlab chiqarish ham mumkin. Buning uchun har bir ifoda va matn vergul (`,`) bilan ajratiladi:"
   ]
  },
  {
   "cell_type": "code",
   "execution_count": 20,
   "metadata": {},
   "outputs": [
    {
     "name": "stdout",
     "output_type": "stream",
     "text": [
      "To'qqizning kvadrati 81 ga teng\n"
     ]
    }
   ],
   "source": [
    "print(\"To'qqizning kvadrati\", 9**2, \"ga teng\")"
   ]
  },
  {
   "cell_type": "code",
   "execution_count": 21,
   "metadata": {},
   "outputs": [
    {
     "name": "stdout",
     "output_type": "stream",
     "text": [
      "3x3= 9\n"
     ]
    }
   ],
   "source": [
    "print('3x3=',3*3)"
   ]
  },
  {
   "cell_type": "markdown",
   "metadata": {},
   "source": [
    "# IZOHLAR (COMMENTS)"
   ]
  },
  {
   "cell_type": "markdown",
   "metadata": {},
   "source": [
    "Yaxshi dasturchilarning odatlaridan biri har qanday kodni izohlar bilan tushuntirib ketish. Izohlar kelajakda o'zimiz uchun ham, boshqalar uchun ham dasturimiz qanday ishlashini tushunishda yordam beradi. \n",
    "\n",
    "Quyidagi ikki misolga e'tibor bering, va ulardan qay biri tushunarliroq ekanini solishtiring"
   ]
  },
  {
   "cell_type": "code",
   "execution_count": 22,
   "metadata": {},
   "outputs": [
    {
     "name": "stdout",
     "output_type": "stream",
     "text": [
      "31.4159\n"
     ]
    }
   ],
   "source": [
    "print(2*5*3.14159)"
   ]
  },
  {
   "cell_type": "code",
   "execution_count": 23,
   "metadata": {},
   "outputs": [
    {
     "name": "stdout",
     "output_type": "stream",
     "text": [
      "31.4159\n"
     ]
    }
   ],
   "source": [
    "#Radiusi 5 ga teng bo'lgan aylananing uzunligi quyidagicha hisoblanadi\n",
    "print(2*5*3.14159)"
   ]
  },
  {
   "cell_type": "markdown",
   "metadata": {},
   "source": [
    "Yuqoridagi misolda `#` belgisidan keyin yozilgan matn **izoh (comment)** deyiladi. \n",
    "\n",
    "Izoh alohida qatorda yoki qator oxiridan ham yozilishi mumkin. Python `#` dan keyingi har qanday matnni (qator oxirigacha) e'tiborsiz qoldiaradi. `#` dan keyin yozligan kodlar ham bajarilmaydi:"
   ]
  },
  {
   "cell_type": "code",
   "execution_count": 24,
   "metadata": {},
   "outputs": [
    {
     "name": "stdout",
     "output_type": "stream",
     "text": [
      "Assalom alaykum!\n"
     ]
    }
   ],
   "source": [
    "print(\"Assalom alaykum!\") # Bu matn konsolda chiqadi\n",
    "#Keyingi qator esa bajarilmaydi\n",
    "#print(\"Mening ismim Anvar\")"
   ]
  },
  {
   "cell_type": "markdown",
   "metadata": {},
   "source": [
    "# AMALIYOT"
   ]
  },
  {
   "cell_type": "markdown",
   "metadata": {},
   "source": [
    "Quyidagi matnni aynan shunday ko'rinishda konsolda chiqaring:\n",
    "\n",
    "`\"Nexia\", \"Tico\", 'Damas' ko'rganlar qilar havas`\n",
    "\n",
    "Quyidagi misollarga yechimni Pythonda chiqaring. Har bir misoldan avval misol matnini izoh ko'rinishida yozing:\n",
    "1. 5 ning 4-darajasini toping\n",
    "2. 22 ni 4 ga bo'lganda qancha qoldiq qoladi?\n",
    "3. Tomonlari 125 ga teng kvadratning yuzi va perimetrini toping\n",
    "4. Diametri 12 ga teng bo'lgan doiraning yuzini toping  ( $\\pi=3.14$ deb oling)\n",
    "5. Katetlari 6 va 7 bo'lgan to'g'ri burchakli uchburchakning gipotenuzasini toping ([Pifagor teoremasidan](https://fayllar.org/pifagor-teoremasi-va-uning-turli-hil-isbotlari-mavzusida-tajer.html) foydalaning)\n",
    "\n",
    ">#### !! Javoblarni savol va yechim ko'rinishida chiqaring: `5 ning 4-darajasi 625` !!"
   ]
  },
  {
   "cell_type": "markdown",
   "metadata": {},
   "source": [
    "# JAVOBLAR"
   ]
  },
  {
   "cell_type": "markdown",
   "metadata": {},
   "source": [
    "**Yuqoridagi misollarni o'zingiz ishlashga harakat qiling, so'ngra quyidagi javoblar bilan solishtiring.**"
   ]
  },
  {
   "cell_type": "code",
   "execution_count": 25,
   "metadata": {},
   "outputs": [
    {
     "name": "stdout",
     "output_type": "stream",
     "text": [
      "\"Nexia\", \"Tico\", 'Damas' ko'rganlar qilar havas\n"
     ]
    }
   ],
   "source": [
    "print(\"\\\"Nexia\\\", \\\"Tico\\\", 'Damas' ko'rganlar qilar havas\")"
   ]
  },
  {
   "cell_type": "code",
   "execution_count": 26,
   "metadata": {},
   "outputs": [
    {
     "name": "stdout",
     "output_type": "stream",
     "text": [
      "5 ning 4-darajasi 625\n"
     ]
    }
   ],
   "source": [
    "#1 5 ning 4-darajasi\n",
    "print('5 ning 4-darajasi', 5**4)"
   ]
  },
  {
   "cell_type": "code",
   "execution_count": 27,
   "metadata": {},
   "outputs": [
    {
     "name": "stdout",
     "output_type": "stream",
     "text": [
      "22 ni 4 ga bo'lganda qancha qoldiq 2\n"
     ]
    }
   ],
   "source": [
    "#2 22 ni 4 ga bo'lganda qancha qoldiq qoladi?\n",
    "print(\"22 ni 4 ga bo'lganda qancha qoldiq\", 22%4)"
   ]
  },
  {
   "cell_type": "code",
   "execution_count": 28,
   "metadata": {},
   "outputs": [
    {
     "name": "stdout",
     "output_type": "stream",
     "text": [
      "Tomonlari 125 ga teng kvadratning yuzi 15625 ga, perimetri 500 teng\n"
     ]
    }
   ],
   "source": [
    "#3 Tomonlari 125 ga teng kvadratning yuzi va perimetrini toping\n",
    "print(\"Tomonlari 125 ga teng kvadratning yuzi\", 125*125, \"ga, perimetri\", 4*125, \"teng\")"
   ]
  },
  {
   "cell_type": "code",
   "execution_count": 29,
   "metadata": {},
   "outputs": [
    {
     "name": "stdout",
     "output_type": "stream",
     "text": [
      "Diametri 12 ga teng bo'lgan doiraning yuzi 113.04 ga teng\n"
     ]
    }
   ],
   "source": [
    "#4 Diametri 12 ga teng bo'lgan doiraning yuzini toping\n",
    "print('Diametri 12 ga teng bo\\'lgan doiraning yuzi', 3.14*(12/2)**2, 'ga teng')"
   ]
  },
  {
   "cell_type": "code",
   "execution_count": 30,
   "metadata": {},
   "outputs": [
    {
     "name": "stdout",
     "output_type": "stream",
     "text": [
      "Katetlari 6 va 7 bo'lgan to'g'ri burchakli uchburchakning gipotenuzasi 9.219544457292887\n"
     ]
    }
   ],
   "source": [
    "#5 Katetlari 6 va 7 bo'lgan to'g'ri burchakli uchburchakning gipotenuzasini toping\n",
    "print(\"Katetlari 6 va 7 bo'lgan to'g'ri burchakli uchburchakning gipotenuzasi\", (6**2+7**2)**(1/2))"
   ]
  },
  {
   "cell_type": "markdown",
   "metadata": {},
   "source": [
    "### Quyidagi kodga tegmang. \n",
    "Texnik sozlamalar uchun ishlatiladi!"
   ]
  },
  {
   "cell_type": "code",
   "execution_count": 36,
   "metadata": {
    "scrolled": true
   },
   "outputs": [],
   "source": [
    "%%capture\n",
    "jovian.commit(project=\"03-python\")"
   ]
  }
 ],
 "metadata": {
  "kernelspec": {
   "display_name": "Python 3",
   "language": "python",
   "name": "python3"
  },
  "language_info": {
   "codemirror_mode": {
    "name": "ipython",
    "version": 3
   },
   "file_extension": ".py",
   "mimetype": "text/x-python",
   "name": "python",
   "nbconvert_exporter": "python",
   "pygments_lexer": "ipython3",
   "version": "3.8.6"
  }
 },
 "nbformat": 4,
 "nbformat_minor": 2
}
