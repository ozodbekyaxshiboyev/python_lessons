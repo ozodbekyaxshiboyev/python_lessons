{
 "cells": [
  {
   "cell_type": "markdown",
   "metadata": {},
   "source": [
    "# 05-DARS. STRING (MATN)\n",
    "STRING ma'lumot turi va uning ustida amallar"
   ]
  },
  {
   "cell_type": "markdown",
   "metadata": {},
   "source": [
    "#  STRING VA UNICODE"
   ]
  },
  {
   "cell_type": "markdown",
   "metadata": {},
   "source": [
    "**STRING** (matn) — Pythondagi eng mashxur ma'lumot turlaridan biri. Avvalgi darsda ko'rganimizdek, o'zgaruvchiga matn yuklash uchun matn qo'shtirnoq (`\" \"`) yoki birtirnoq (`' '`) ichida yozilishi kerak."
   ]
  },
  {
   "cell_type": "code",
   "execution_count": 11,
   "metadata": {},
   "outputs": [],
   "source": [
    "shahar = \"Қўқон\"\n",
    "viloyat = 'Фарғона'"
   ]
  },
  {
   "cell_type": "markdown",
   "metadata": {},
   "source": [
    "Pythonda matnlar [Unicode](https://unicode-table.com/en/) jadvalidagi istalgan belgilaridan iborat bo'lishi mumkin (jumladan o'zbek, arab, hind, xitoy alifbosidagi harflar yoki turli emoji-smayliklar). "
   ]
  },
  {
   "cell_type": "code",
   "execution_count": 3,
   "metadata": {
    "scrolled": true
   },
   "outputs": [
    {
     "name": "stdout",
     "output_type": "stream",
     "text": [
      "Men yangi 📱 oldim\n"
     ]
    }
   ],
   "source": [
    "matn = \"Men yangi 📱 oldim\"\n",
    "print(matn)"
   ]
  },
  {
   "cell_type": "markdown",
   "metadata": {},
   "source": [
    "![Unicode jadval](https://gblobscdn.gitbook.com/assets%2F-MGbkqs1tROquIT6oqUs%2F-MLjUEbNQbWqMBCY1uql%2F-MLjVgUODxYRloFHWptm%2Fimage.png?alt=media&token=6e6eaef4-4958-479f-9622-523110678e8c)"
   ]
  },
  {
   "cell_type": "markdown",
   "metadata": {},
   "source": [
    "# STRING USTIDA AMALLAR"
   ]
  },
  {
   "cell_type": "markdown",
   "metadata": {},
   "source": [
    "## Matnlarni qo'shish operatori (+)"
   ]
  },
  {
   "cell_type": "markdown",
   "metadata": {},
   "source": [
    "Matnlarni qo'shish uchun + operatoridan foydalanmiz:"
   ]
  },
  {
   "cell_type": "code",
   "execution_count": 7,
   "metadata": {},
   "outputs": [
    {
     "name": "stdout",
     "output_type": "stream",
     "text": [
      "Mening ismim Ahmad\n"
     ]
    }
   ],
   "source": [
    "ism = 'Ahmad'\n",
    "print(\"Mening ismim \" + ism)"
   ]
  },
  {
   "cell_type": "code",
   "execution_count": 8,
   "metadata": {
    "scrolled": true
   },
   "outputs": [
    {
     "name": "stdout",
     "output_type": "stream",
     "text": [
      "AhadQayum\n"
     ]
    }
   ],
   "source": [
    "ism = 'Ahad'\n",
    "familiya = 'Qayum'\n",
    "print(ism + familiya)"
   ]
  },
  {
   "cell_type": "markdown",
   "metadata": {},
   "source": [
    "Yuqoridagi kodda ism va familiya orasiga bo'shliq belgisini qo'shmaganimiz uchun ikki matn qo'shilib yozildi. Buni to'g'rilash uchun, 3-qatorni quyidagicha yozamiz:"
   ]
  },
  {
   "cell_type": "code",
   "execution_count": 9,
   "metadata": {},
   "outputs": [
    {
     "name": "stdout",
     "output_type": "stream",
     "text": [
      "Ahad Qayum\n"
     ]
    }
   ],
   "source": [
    "ism = 'Ahad'\n",
    "familiya = 'Qayum'\n",
    "print(ism + ' ' + familiya) # ikki o'zgaruvchi orasiga bo'sh joy qo'shamiz"
   ]
  },
  {
   "cell_type": "markdown",
   "metadata": {},
   "source": [
    "## f-string"
   ]
  },
  {
   "cell_type": "markdown",
   "metadata": {},
   "source": [
    "Ikki (va undan ko'p) matn ko'rinishidagi o'zgaruvchilarni birlashtirish uchun f-string usulidan  `f\"{matn1} {matn2}\"` ham foydalansak bo'ladi:"
   ]
  },
  {
   "cell_type": "code",
   "execution_count": 10,
   "metadata": {},
   "outputs": [
    {
     "name": "stdout",
     "output_type": "stream",
     "text": [
      "Ahad Qayum\n"
     ]
    }
   ],
   "source": [
    "ism = \"Ahad\"\n",
    "familiya = 'Qayum'\n",
    "ism_sharif = f\"{ism} {familiya}\"\n",
    "print(ism_sharif)"
   ]
  },
  {
   "cell_type": "markdown",
   "metadata": {},
   "source": [
    "Bu usul yordamida uzun matnlarni ham yasash mumkin:"
   ]
  },
  {
   "cell_type": "code",
   "execution_count": 12,
   "metadata": {},
   "outputs": [
    {
     "name": "stdout",
     "output_type": "stream",
     "text": [
      "Salom, mening ismim Bond. James Bond!\n"
     ]
    }
   ],
   "source": [
    "ism = \"James\"\n",
    "familiya = 'Bond'\n",
    "print(f\"Salom, mening ismim {familiya}. {ism} {familiya}!\")"
   ]
  },
  {
   "cell_type": "markdown",
   "metadata": {},
   "source": [
    "## Maxsus belgilar"
   ]
  },
  {
   "cell_type": "markdown",
   "metadata": {},
   "source": [
    "Matnga bo'shliq qo'shish uchun `\\t` belgisidan, yangi qatordan boshlash uchun `\\n` belgisidan foydalanamiz:"
   ]
  },
  {
   "cell_type": "code",
   "execution_count": 13,
   "metadata": {},
   "outputs": [
    {
     "name": "stdout",
     "output_type": "stream",
     "text": [
      "Hello World!\n",
      "Hello \tWorld!\n",
      "Hello \n",
      "World!\n"
     ]
    }
   ],
   "source": [
    "print('Hello World!')\n",
    "print('Hello \\tWorld!')\n",
    "print('Hello \\nWorld!')"
   ]
  },
  {
   "cell_type": "markdown",
   "metadata": {},
   "source": [
    "# STRING METODLARI"
   ]
  },
  {
   "cell_type": "markdown",
   "metadata": {},
   "source": [
    "Pythonda string ustida amalga oshirish mumkin bo'lgan tayyor amallar to'plami mavjud. Bunday amallar to'plami **metodlar** deb ataladi. "
   ]
  },
  {
   "cell_type": "markdown",
   "metadata": {},
   "source": [
    "Metodlarni qo'llash uchun metod nomi matndan so'ng `.metod_nomi()`\n",
    " ko'rinishida yoziladi. Keling shunday metodlarning ba'zilari bilan tanishaylik."
   ]
  },
  {
   "cell_type": "markdown",
   "metadata": {},
   "source": [
    "## `upper()` va `lower()` metodlari"
   ]
  },
  {
   "cell_type": "markdown",
   "metadata": {},
   "source": [
    "`upper()` metodi matndagi har bir harfni katta harfga o'zgartiradi. "
   ]
  },
  {
   "cell_type": "code",
   "execution_count": 14,
   "metadata": {},
   "outputs": [
    {
     "name": "stdout",
     "output_type": "stream",
     "text": [
      "AHAD QAYUM\n"
     ]
    }
   ],
   "source": [
    "ism = 'Ahad'\n",
    "familiya = 'Qayum'\n",
    "ism_sharif = f\"{ism} {familiya}\"\n",
    "print(ism_sharif.upper())"
   ]
  },
  {
   "cell_type": "markdown",
   "metadata": {},
   "source": [
    "`lower()` metodi esa aksincha, har bir harfni kichik harfga o'zgartiradi."
   ]
  },
  {
   "cell_type": "code",
   "execution_count": 15,
   "metadata": {},
   "outputs": [
    {
     "name": "stdout",
     "output_type": "stream",
     "text": [
      "ahad qayum\n"
     ]
    }
   ],
   "source": [
    "ism = 'Ahad'\n",
    "familiya = 'Qayum'\n",
    "ism_sharif = f\"{ism} {familiya}\"\n",
    "print(ism_sharif.lower())"
   ]
  },
  {
   "cell_type": "markdown",
   "metadata": {},
   "source": [
    "## `title()` va `capitalize()` metodlari"
   ]
  },
  {
   "cell_type": "markdown",
   "metadata": {},
   "source": [
    "`title()` metodi matndagi har bir so'zning birinchi harfini katta harf bilan yozadi. "
   ]
  },
  {
   "cell_type": "code",
   "execution_count": 16,
   "metadata": {},
   "outputs": [
    {
     "name": "stdout",
     "output_type": "stream",
     "text": [
      "James Bond\n"
     ]
    }
   ],
   "source": [
    "ism_sharif = 'james bond'\n",
    "print(ism_sharif.title())"
   ]
  },
  {
   "cell_type": "markdown",
   "metadata": {},
   "source": [
    "`capitalize()` esa faqatgina eng birinchi so'zning birinchi harfini katta bilan yozadi."
   ]
  },
  {
   "cell_type": "code",
   "execution_count": 17,
   "metadata": {},
   "outputs": [
    {
     "name": "stdout",
     "output_type": "stream",
     "text": [
      "James bond\n"
     ]
    }
   ],
   "source": [
    "ism_sharif = 'james bond'\n",
    "print(ism_sharif.capitalize())"
   ]
  },
  {
   "cell_type": "markdown",
   "metadata": {},
   "source": [
    "Metodlarni faqat o'zgaruvchilarga emas, balki to'g'ridan-to'g'ri matnga ham qo'llash mumkin (aslida o'zgaruvchi ham matnning (yoki boshqa ma'lumotning) manzili xolos)"
   ]
  },
  {
   "cell_type": "code",
   "execution_count": 18,
   "metadata": {},
   "outputs": [
    {
     "name": "stdout",
     "output_type": "stream",
     "text": [
      "JAMES BOND\n"
     ]
    }
   ],
   "source": [
    "print('james bond'.upper())"
   ]
  },
  {
   "cell_type": "markdown",
   "metadata": {},
   "source": [
    "## `strip()`, `rstrip()` va `lstrip()` metodlari"
   ]
  },
  {
   "cell_type": "markdown",
   "metadata": {},
   "source": [
    "Bu metodlar matnning boshi va oxiridagi bo'sh joylarni olib tashlaydi.\n",
    "\n",
    "- `lstrip()` — matn boshidagi bo'shliqni,\n",
    "- `rstrip()` – matn oxiridagi bo'shliqni,\n",
    "- `strip()` — matn boshi va oxiridagi bo'shliqlarni olib tashlaydi"
   ]
  },
  {
   "cell_type": "code",
   "execution_count": 21,
   "metadata": {},
   "outputs": [
    {
     "name": "stdout",
     "output_type": "stream",
     "text": [
      "Men olma      yaxshi ko'raman\n",
      "Men      olma yaxshi ko'raman\n",
      "Men olma yaxshi ko'raman\n",
      "Men      olma      yaxshi ko'raman\n"
     ]
    }
   ],
   "source": [
    "meva = \"     olma     \"\n",
    "print(\"Men \" + meva.lstrip() + \" yaxshi ko'raman\")\n",
    "print(\"Men \" + meva.rstrip() + \" yaxshi ko'raman\")\n",
    "print(\"Men \" + meva.strip() + \" yaxshi ko'raman\")\n",
    "print(\"Men \" + meva + \" yaxshi ko'raman\")"
   ]
  },
  {
   "cell_type": "markdown",
   "metadata": {},
   "source": [
    "Matnlar bilan ishlaydigan metodlar ko'p. Ularning ba'zilari bilan kelajakda yana tanishamiz, to'liq ro'yhatni esa quyidagi [sahifada](https://www.w3schools.com/python/python_ref_string.asp) ko'rishingiz mumkin."
   ]
  },
  {
   "cell_type": "markdown",
   "metadata": {},
   "source": [
    "> **Metodlar o'zgaruvchi ichidagi asl matnni o'zgartirmaydi!**"
   ]
  },
  {
   "cell_type": "markdown",
   "metadata": {},
   "source": [
    "# INPUT — FOYDALANUVCHI BILAN MULOQOT"
   ]
  },
  {
   "cell_type": "markdown",
   "metadata": {},
   "source": [
    "Shu paytgacha biz o'zgaruvchilarning qiymatini dasturning ichida berayotgan edik. Keling endi qiymatni o'zimiz emas, balki dastur foydalanuvchilariga kiritish imkonini beramiz. "
   ]
  },
  {
   "cell_type": "markdown",
   "metadata": {},
   "source": [
    "Buning uchun `input()` funktsyasidan foydalanamiz. "
   ]
  },
  {
   "cell_type": "code",
   "execution_count": 23,
   "metadata": {},
   "outputs": [
    {
     "name": "stdout",
     "output_type": "stream",
     "text": [
      "Ismingiz nima?anvar\n",
      "Assalom alaykum, anvar\n"
     ]
    }
   ],
   "source": [
    "ism = input(\"Ismingiz nima?\")\n",
    "print(\"Assalom alaykum, \" + ism)"
   ]
  },
  {
   "cell_type": "markdown",
   "metadata": {},
   "source": [
    "Yuqoridagi dastur, avval 1-qatorda foydalanuvchining ismini so'raydi. Foydalanuvchi ismini kiritib, Enter tugmasini bosgach, foydalanuvchi kiritgan matnism degan o'zgaruvchiga yuklanadi va dasturining 2-qatori bajaradi:"
   ]
  },
  {
   "cell_type": "markdown",
   "metadata": {},
   "source": [
    "Keling yuqoridagi kod va uning natijasini chiroyliroq ko'rinishga keltiramiz."
   ]
  },
  {
   "cell_type": "code",
   "execution_count": null,
   "metadata": {},
   "outputs": [],
   "source": [
    "ism = input(\"Ismingiz nima?\\n>>>\") # Foydalanuvchi ismini yangi qatordan kiritadi\n",
    "print(\"Assalom alaykum, \" + ism.title())"
   ]
  },
  {
   "cell_type": "markdown",
   "metadata": {},
   "source": [
    "![Foydalanuvchidan qiymat olish](https://gblobscdn.gitbook.com/assets%2F-MGbkqs1tROquIT6oqUs%2F-MLg_Rlt3ghgz7tHHhmJ%2F-MLgalhJF6uRE0GABSmk%2Finput.gif?alt=media&token=9a2da927-7f2a-4094-a1a1-6b64dddc4b00)"
   ]
  },
  {
   "cell_type": "markdown",
   "metadata": {},
   "source": [
    "# AMALIYOT"
   ]
  },
  {
   "cell_type": "markdown",
   "metadata": {},
   "source": [
    "Quyidagi mashqlarni bajaring:\n",
    "- Quyidagi o'zgaruvchilarni yarating: \n",
    "   + `kocha=\"Bog'bon\"`\n",
    "   + `mahalla=\"Sog'bon\"`\n",
    "   + `tuman=\"Bodomzor\"` \n",
    "   + `viloyat=\"Samarqand\"`\n",
    "- Yuqoridagi o'zgaruvchilarni jamlab, quyidagi ko'rinishda konsolga chiqaring:\n",
    "   + `Bog'bon ko'chasi, Sog'bon mahallasi, Bodomzor tumani, Samarqand viloyati`\n",
    "- Yuqoridagi o'zgaruvchilarning (`kocha`, `mahalla`, `tuman`, `viloyat`) qiymatini foydalanuvchidan so'rang. Va avvalgi mashqni takrorlang.\n",
    "- Yuqoridagi matnni konsolga chiqarishda har bir verguldan keyin yangi qatordan yozing\n",
    "- Yuqoridagi matnni **f-string** yordamida, yangi, `manzil` deb nomlangan o'zgaruvchiga yuklang\n",
    "`manzilga` biz yuqorida o'rgangan `title()`, `upper()`, `lower()` , `capitalize()` metodlarini qo'llab ko'ring.\n",
    "- Quyidagi o'zgaruvchilarni yarating: \n",
    "  + `kocha=\"Bog'bon\"`\n",
    "  + `mahalla=\"Sog'bon\"`\n",
    "  + `tuman=\"Bodomzor\"` \n",
    "  + `viloyat=\"Samarqand\"`\n",
    "- Yuqoridagi o'zgaruvchilarni jamlab, quyidagi ko'rinishda konsolga chiqaring:\n",
    "  + `Bog'bon ko'chasi, Sog'bon mahallasi, Bodomzor tumani, Samarqand viloyati`\n",
    "- Yuqoridagi o'zgaruvchilarning (`kocha`, `mahalla`, `tuman`, `viloyat`) qiymatini foydalanuvchidan so'rang. Va avvalgi mashqni takrorlang.\n",
    "- Yuqoridagi matnni konsolga chiqarishda har bir verguldan keyin yangi qatordan yozing\n",
    "- Yuqoridagi o'zgaruvchilarni **f-string** yordamida, yangi, `manzil` deb nomlangan o'zgaruvchiga yuklang\n",
    "- `manzilga` biz yuqorida o'rgangan `title()`, `upper()`, `lower()` , `capitalize()` metodlarini qo'llab ko'ring.\n"
   ]
  },
  {
   "cell_type": "markdown",
   "metadata": {},
   "source": [
    "# JAVOBLAR\n"
   ]
  },
  {
   "cell_type": "code",
   "execution_count": 2,
   "metadata": {},
   "outputs": [],
   "source": [
    "kocha = \"Bog'bon\"\n",
    "mahalla = \"Sog'bon\"\n",
    "tuman = \"Bodomzor\"\n",
    "viloyat = \"Samarqand\""
   ]
  },
  {
   "cell_type": "code",
   "execution_count": 3,
   "metadata": {},
   "outputs": [
    {
     "name": "stdout",
     "output_type": "stream",
     "text": [
      "Bog'bon ko'chasi, Sog'bon mahallasi, Bodomzor tumani, Samarqand viloyati\n"
     ]
    }
   ],
   "source": [
    "# Yuqoridagi o'zgaruvchilarni jamlab, quyidagi ko'rinishda konsolga chiqaring:\n",
    "print(kocha + \" ko'chasi, \" + mahalla + \" mahallasi, \" + \\\n",
    "      tuman + \" tumani, \" + viloyat + \" viloyati\")"
   ]
  },
  {
   "cell_type": "code",
   "execution_count": 4,
   "metadata": {},
   "outputs": [
    {
     "name": "stdout",
     "output_type": "stream",
     "text": [
      "Iltimos, quyidagi ma'lumotlarni kiriting:\n",
      "Ko'changiz: beruniy\n",
      "Mahallangiz: bodomzor\n",
      "Tumaningiz: olmazor\n",
      "Viloyatingiz: toshkent\n",
      "beruniy ko'chasi, bodomzor mahallasi, olmazor tumani, toshkent viloyati\n"
     ]
    }
   ],
   "source": [
    "#Yuqoridagi o'zgaruvchilarning qiymatini foydalanuvchidan so'rang.\n",
    "print(\"Iltimos, quyidagi ma'lumotlarni kiriting:\")\n",
    "kocha = input(\"Ko'changiz: \")\n",
    "mahalla = input(\"Mahallangiz: \")\n",
    "tuman = input(\"Tumaningiz: \")\n",
    "viloyat = input(\"Viloyatingiz: \")\n",
    "print(kocha + \" ko'chasi, \" + mahalla + \" mahallasi, \" + \\\n",
    "      tuman + \" tumani, \" + viloyat + \" viloyati\")   "
   ]
  },
  {
   "cell_type": "code",
   "execution_count": 5,
   "metadata": {},
   "outputs": [
    {
     "name": "stdout",
     "output_type": "stream",
     "text": [
      "beruniy ko'chasi,\n",
      "bodomzor mahallasi,\n",
      "olmazor tumani,\n",
      "toshkent viloyati\n"
     ]
    }
   ],
   "source": [
    "# Yuqoridagi matnni konsolga chiqarishda har bir verguldan keyin yangi qatorga yozing\n",
    "print(kocha + \" ko'chasi,\\n\" + mahalla + \" mahallasi,\\n\" + \\\n",
    "      tuman + \" tumani,\\n\" + viloyat + \" viloyati\")"
   ]
  },
  {
   "cell_type": "code",
   "execution_count": 7,
   "metadata": {},
   "outputs": [
    {
     "name": "stdout",
     "output_type": "stream",
     "text": [
      "beruniy ko'chasi, bodomzor mahallasi, olmazor tumani, toshkent viloyati\n"
     ]
    }
   ],
   "source": [
    "# Yuqoridagi o'zgaruvchilarni f-string yordamida, yangi manzil deb nomlangan o'zgaruvchiga yuklang\n",
    "manzil = f\"{kocha} ko'chasi, {mahalla} mahallasi, {tuman} tumani, {viloyat} viloyati\"\n",
    "print(manzil)"
   ]
  },
  {
   "cell_type": "code",
   "execution_count": 8,
   "metadata": {},
   "outputs": [
    {
     "name": "stdout",
     "output_type": "stream",
     "text": [
      "BERUNIY KO'CHASI, BODOMZOR MAHALLASI, OLMAZOR TUMANI, TOSHKENT VILOYATI\n",
      "beruniy ko'chasi, bodomzor mahallasi, olmazor tumani, toshkent viloyati\n",
      "Beruniy Ko'Chasi, Bodomzor Mahallasi, Olmazor Tumani, Toshkent Viloyati\n",
      "Beruniy ko'chasi, bodomzor mahallasi, olmazor tumani, toshkent viloyati\n"
     ]
    }
   ],
   "source": [
    "#manzil ga biz yuqorida o'rgangan metodlarni qo'llab ko'ring.\n",
    "print(manzil.upper())\n",
    "print(manzil.lower())\n",
    "print(manzil.title())\n",
    "print(manzil.capitalize())"
   ]
  },
  {
   "cell_type": "markdown",
   "metadata": {},
   "source": [
    "### Quyidagi kodga tegmang.\n",
    "Texnik kod."
   ]
  },
  {
   "cell_type": "code",
   "execution_count": 10,
   "metadata": {},
   "outputs": [],
   "source": [
    "%%capture\n",
    "jovian.commit()"
   ]
  }
 ],
 "metadata": {
  "kernelspec": {
   "display_name": "Python 3",
   "language": "python",
   "name": "python3"
  },
  "language_info": {
   "codemirror_mode": {
    "name": "ipython",
    "version": 3
   },
   "file_extension": ".py",
   "mimetype": "text/x-python",
   "name": "python",
   "nbconvert_exporter": "python",
   "pygments_lexer": "ipython3",
   "version": "3.8.6"
  }
 },
 "nbformat": 4,
 "nbformat_minor": 4
}
