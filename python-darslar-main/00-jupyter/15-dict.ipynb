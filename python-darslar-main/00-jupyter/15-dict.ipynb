{
 "cells": [
  {
   "cell_type": "markdown",
   "metadata": {},
   "source": [
    "# 15-DARS. LUG'AT ELEMENTLARI BILAN ISHLASH\n",
    "Lug'at ichida ro'yxat, lug'at ichida lug'at?"
   ]
  },
  {
   "cell_type": "markdown",
   "metadata": {},
   "source": [
    "![](https://gblobscdn.gitbook.com/assets%2F-MGbkqs1tROquIT6oqUs%2F-Mc-5yGQPZTBaGoehQdL%2F-Mc-7xpq4Puu3KEjmT0R%2FSD_YT_TG_logo_mini.png?alt=media&token=929fe67b-ec12-4f63-b33e-e9c5e3d8ad09)\n",
    "\n",
    "Avvalgi darsimizda lug'at bilan tanishdik, va lug'atdagi elementlarga kalit so'z bo'yicha murojat qilishni o'rgandik. Lug'atlar katta yoki kichik bo'lishi mumkin. Ba'zida lug'atdagi barcha kalitlarni yoki qiymatlarni bilmasligimiz mumkin. Bunday holatda qanday yo'l tutamiz? \n",
    "\n",
    "Ushbu darsimizda lug'at elementlarini turli usullar yordamida chiqarishni o'rganamiz.\n",
    "\n",
    "# `.items()` METODI\n",
    "\n",
    "Ushbu metod yordamida lug'at ichidagi barcha kalit-qiymat juftliklarini ko'rishimiz mumkin."
   ]
  },
  {
   "cell_type": "code",
   "execution_count": 4,
   "metadata": {},
   "outputs": [
    {
     "name": "stdout",
     "output_type": "stream",
     "text": [
      "dict_items([('ism', 'alijon'), ('familiya', 'shamshiyev'), ('yosh', 22), ('fakultet', 'matematika'), ('kurs', 4)])\n"
     ]
    }
   ],
   "source": [
    "talaba_0 = {\n",
    "    'ism':'alijon',\n",
    "    'familiya':'shamshiyev',\n",
    "    'yosh':22,\n",
    "    'fakultet':'matematika',\n",
    "    'kurs':4\n",
    "    }\n",
    "\n",
    "print(talaba_0.items())"
   ]
  },
  {
   "cell_type": "markdown",
   "metadata": {},
   "source": [
    "Bu metodni to'g'ridan-to'g'ri emas, for tsikli yordamida chaqirish orqali lug'atdagi barcha elementlarni tushunarliroq shaklda ko'rishimiz mumkin."
   ]
  },
  {
   "cell_type": "code",
   "execution_count": 5,
   "metadata": {},
   "outputs": [
    {
     "name": "stdout",
     "output_type": "stream",
     "text": [
      "Kalit: ism\n",
      "Qiymat: alijon \n",
      "\n",
      "Kalit: familiya\n",
      "Qiymat: shamshiyev \n",
      "\n",
      "Kalit: yosh\n",
      "Qiymat: 22 \n",
      "\n",
      "Kalit: fakultet\n",
      "Qiymat: matematika \n",
      "\n",
      "Kalit: kurs\n",
      "Qiymat: 4 \n",
      "\n"
     ]
    }
   ],
   "source": [
    "for kalit, qiymat in talaba_0.items():\n",
    "    print(f\"Kalit: {kalit}\")\n",
    "    print(f\"Qiymat: {qiymat} \\n\")"
   ]
  },
  {
   "cell_type": "markdown",
   "metadata": {},
   "source": [
    "Yuoqirdagi kodda, `talaba_0` lug'atidagi har bir kalit va qiymat juftligini konslga chiqardik. E'tibor bering, for tsiklida biz bir emas ikkita o'zgaruvchi yaratib oldik (`kalit` va `qiymat`).\n",
    "\n",
    "Bu usul ba'zi lug'atlardagi ma'lumotlarni chiroyli ko'rinishda chiqarish uchun juda qo'l keladi."
   ]
  },
  {
   "cell_type": "code",
   "execution_count": 6,
   "metadata": {},
   "outputs": [
    {
     "name": "stdout",
     "output_type": "stream",
     "text": [
      "Alining telefoni iphone x\n",
      "Valining telefoni galaxy s9\n",
      "Olimning telefoni mi 10 pro\n",
      "Orifning telefoni nokia 3310\n"
     ]
    }
   ],
   "source": [
    "telefonlar = {\n",
    "    'ali':'iphone x',\n",
    "    'vali':'galaxy s9',\n",
    "    'olim':'mi 10 pro',\n",
    "    'orif':'nokia 3310'\n",
    "    }\n",
    "\n",
    "for k, q in telefonlar.items():\n",
    "    print(f\"{k.title()}ning telefoni {q}\")"
   ]
  },
  {
   "cell_type": "markdown",
   "metadata": {},
   "source": [
    "# `.keys()` METODI\n",
    "\n",
    "Agar lug'atdagi kalit so'zlarni ko'rish talab qilinsa, `.keys()` metodidan foydalanishimiz mumkin."
   ]
  },
  {
   "cell_type": "code",
   "execution_count": 7,
   "metadata": {},
   "outputs": [
    {
     "name": "stdout",
     "output_type": "stream",
     "text": [
      "dict_keys(['olma', 'anor', 'uzum', 'anjir', 'shaftoli'])\n"
     ]
    }
   ],
   "source": [
    "mahsulotlar = { # Do'kondagi mahsulotlar\n",
    "    'olma':10000,\n",
    "    'anor':20000,\n",
    "    'uzum':40000,\n",
    "    'anjir':25000,\n",
    "    'shaftoli':30000\n",
    "    }\n",
    "\n",
    "print(mahsulotlar.keys())"
   ]
  },
  {
   "cell_type": "code",
   "execution_count": 8,
   "metadata": {},
   "outputs": [
    {
     "name": "stdout",
     "output_type": "stream",
     "text": [
      "Do'kondagi mahsulotlar:\n",
      "Olma\n",
      "Anor\n",
      "Uzum\n",
      "Anjir\n",
      "Shaftoli\n"
     ]
    }
   ],
   "source": [
    "print('Do\\'kondagi mahsulotlar:')\n",
    "for mahsulot in mahsulotlar.keys():\n",
    "    print(mahsulot.title())"
   ]
  },
  {
   "cell_type": "markdown",
   "metadata": {},
   "source": [
    "> Yuqoridagi kodimizda, for tsiklida `.keys()` metodini ishlatmasak ham huddi shu natija chiqadi.\n",
    "\n",
    "`for` tsikli va `if` sharti yordamida lug'atdagi biror qiymatlarni alohida chiqarishimiz ham mumkin:"
   ]
  },
  {
   "cell_type": "code",
   "execution_count": 9,
   "metadata": {},
   "outputs": [
    {
     "name": "stdout",
     "output_type": "stream",
     "text": [
      "Anor 20000 so'm\n",
      "Uzum 40000 so'm\n"
     ]
    }
   ],
   "source": [
    "bozorlik = ['anor','uzum','non','baliq']\n",
    "for mahsulot in mahsulotlar:\n",
    "    if mahsulot in bozorlik:\n",
    "        print(f\"{mahsulot.title()} {mahsulotlar[mahsulot]} so'm\")"
   ]
  },
  {
   "cell_type": "markdown",
   "metadata": {},
   "source": [
    "Yuqordagi kodga e'tibor bering. Biz avval `borolik` degan ro'yxat yaratdik (uyga bozor qilyapmiz), keyin esa `mahsulotlar` lug'atidagi har bir mahsulotni bizdagi `bozorlik` ro'yxati bilan solishtirdik. Agar `mahsulot` bizning `bozorlik` ro'yxatimizda bo'lsa, uning narxini konsolga chiqardik.\n",
    "\n",
    "Quyidagi misolda esa aksincha, `bozorlik` ro'yxatidagi har bir elementni do'kondagi mahsulotlar bilan solishtiramiz, va mahsulot do'konda yo'q bo'lsa, do'konga murojat qoldiramiz:"
   ]
  },
  {
   "cell_type": "code",
   "execution_count": 10,
   "metadata": {},
   "outputs": [
    {
     "name": "stdout",
     "output_type": "stream",
     "text": [
      "Iltimos, do'koningizga non ham olib keling\n",
      "Iltimos, do'koningizga baliq ham olib keling\n"
     ]
    }
   ],
   "source": [
    "for buyum in bozorlik:\n",
    "    if buyum not in mahsulotlar:\n",
    "        print(f\"Iltimos, do'koningizga {buyum} ham olib keling\")"
   ]
  },
  {
   "cell_type": "markdown",
   "metadata": {},
   "source": [
    "## LUG'AT ELEMENTLARINI TARTIB BILAN CHIQARISH\n",
    "\n",
    "Pythonda lug'at elementlari siz (foydalanuvchi) kiritgan tartibda saqlanadi. Agar lug'at elementlarini alifbo bo'yicha chiqarish talab qilinsa, `sorted()` funktsiyasidan foydalanamiz."
   ]
  },
  {
   "cell_type": "code",
   "execution_count": 11,
   "metadata": {},
   "outputs": [
    {
     "name": "stdout",
     "output_type": "stream",
     "text": [
      "Do'konimizdagi mahsulotlar:\n",
      "Anjir\n",
      "Anor\n",
      "Olma\n",
      "Shaftoli\n",
      "Uzum\n"
     ]
    }
   ],
   "source": [
    "print(\"Do'konimizdagi mahsulotlar:\")    \n",
    "for mahsulot in sorted(mahsulotlar):\n",
    "    print(mahsulot.title())"
   ]
  },
  {
   "cell_type": "markdown",
   "metadata": {},
   "source": [
    "# `.values()` METODI\n",
    "\n",
    "Agar lug'atdagi qiymatlarni chiqarish talab qilinsa `.values()` metodidan foydalanishimiz mumkin."
   ]
  },
  {
   "cell_type": "code",
   "execution_count": 12,
   "metadata": {},
   "outputs": [
    {
     "name": "stdout",
     "output_type": "stream",
     "text": [
      "dict_values(['iphone x', 'galaxy s9', 'mi 10 pro', 'nokia 3310'])\n"
     ]
    }
   ],
   "source": [
    "print(telefonlar.values())"
   ]
  },
  {
   "cell_type": "code",
   "execution_count": 13,
   "metadata": {},
   "outputs": [
    {
     "name": "stdout",
     "output_type": "stream",
     "text": [
      "Foydalanuvchilar quyidagi telefonlarni ishlatishadi:\n",
      "iphone x\n",
      "galaxy s9\n",
      "mi 10 pro\n",
      "nokia 3310\n"
     ]
    }
   ],
   "source": [
    "print('Foydalanuvchilar quyidagi telefonlarni ishlatishadi:')\n",
    "for tel in telefonlar.values():\n",
    "    print(tel)"
   ]
  },
  {
   "cell_type": "markdown",
   "metadata": {},
   "source": [
    "Yuqoridagi usul bilan qiymatlarni chiqrganimizda, lug'atdagi barcha qiymatlar chiqib keladi. Agar, biror qiymat ko'p marta qaytarilsa, konsolga ham ko'p marta chiqib keladi.\n",
    "\n",
    "Quyidagi misloni ko'raylik:"
   ]
  },
  {
   "cell_type": "code",
   "execution_count": 14,
   "metadata": {},
   "outputs": [
    {
     "name": "stdout",
     "output_type": "stream",
     "text": [
      "Foydalanuvchilar quyidagi telefonlarni ishlatishadi:\n",
      "iphone x\n",
      "galaxy s9\n",
      "mi 10 pro\n",
      "nokia 3310\n",
      "galaxy s9\n",
      "huawei p30\n",
      "iphone x\n",
      "iphone x\n"
     ]
    }
   ],
   "source": [
    "telefonlar = {\n",
    "    'ali':'iphone x',\n",
    "    'vali':'galaxy s9',\n",
    "    'olim':'mi 10 pro',\n",
    "    'orif':'nokia 3310',\n",
    "    'hamida':'galaxy s9',\n",
    "    'maryam':'huawei p30',\n",
    "    'tohir':'iphone x',\n",
    "    'umar':'iphone x'    \n",
    "    }\n",
    "\n",
    "print('Foydalanuvchilar quyidagi telefonlarni ishlatishadi:')\n",
    "for tel in telefonlar.values():\n",
    "    print(tel)"
   ]
  },
  {
   "cell_type": "markdown",
   "metadata": {},
   "source": [
    "Yuoqirdagi natijaga e'tibor bersanigz, bir nechta foydalanuvchilar `iphone x` va `galaxy s9` telefonidan foydalanishar ekan, va bu modellar qayta-qayta konsolga chiqdi. \n",
    "\n",
    "Buning oldini olish uchun `set()` funktsiyasidan foydalanishimiz mumkin."
   ]
  },
  {
   "cell_type": "code",
   "execution_count": 15,
   "metadata": {},
   "outputs": [
    {
     "name": "stdout",
     "output_type": "stream",
     "text": [
      "Foydalanuvchilar quyidagi telefonlarni ishlatishadi:\n",
      "galaxy s9\n",
      "mi 10 pro\n",
      "nokia 3310\n",
      "huawei p30\n",
      "iphone x\n"
     ]
    }
   ],
   "source": [
    "print('Foydalanuvchilar quyidagi telefonlarni ishlatishadi:')\n",
    "for tel in set(telefonlar.values()):\n",
    "    print(tel)"
   ]
  },
  {
   "cell_type": "markdown",
   "metadata": {},
   "source": [
    "> Pythonda `set` yana bir ma'lumot turi bo'lib, ro'yxat va lug'at kabi bir nechta elementlarni saqlashga mo'ljallangan. Lug'at va ro'yxatdan farqli ravishda, `set` ichidagi elementlar biror tartibda saqlanmaydi, va ularga indeks orqali murojat qilib bo'lmaydi. Shuningdek, set ichida bir hil elementlar bo'lmaydi."
   ]
  },
  {
   "cell_type": "markdown",
   "metadata": {},
   "source": [
    "# AMALIYOT\n",
    "\n",
    "- Python izohli lug'atini yarating va lug'atga kamida 10 ta so'z qo'shing. Lug'atdagi har bir kalit va qiymatni for tsikli yordamida, alifbo ketma-ketligida chiroyli qilib konsolga chiqaring. \n",
    "\n",
    "- Davlatlar va ularning poytaxtlari lug'atini tuzing. Avval lug'atdagi davlatlarni, keyin poytaxtlarni alohida-alohida, alifbo ketma-ketligida konsolga chiqaring. \n",
    "\n",
    "- Foydalanuvchidan istalgan davlatni kiritishni so'rang va shu davlatning poytaxtini konsolga chiqaring. Agar foydalanuvchi lug'atda yo'q davlatni kiritsa, \"Bizda bunday ma'lumot yo'q\" degan xabarni chiqaring.\n",
    "\n",
    "- Restoran menusi lug'atini tuzing (kamida 10 ta taom-narh juftligini kiriting). Foydalanuvchidan 3 ta ovqat buyurtma berishni so'rang. Foydalanuvchi kiritgan taomlarni menu bilan solishtiring, agar taom menuda bo'lsa narhini ko'rsating, aks holda \"bizda bunday taom yo'q\" degan xabarni chiqaring."
   ]
  },
  {
   "cell_type": "markdown",
   "metadata": {},
   "source": [
    "# JAVOBLAR"
   ]
  },
  {
   "cell_type": "code",
   "execution_count": 16,
   "metadata": {},
   "outputs": [
    {
     "name": "stdout",
     "output_type": "stream",
     "text": [
      "Boolean - Mantiqiy qiymat\n",
      "Float - O'nlik son\n",
      "For - Biror amalni qayta-qayta bajarish tsikli\n",
      "If - Shartlarni tekshirish operatori\n",
      "Integer - Butun son\n"
     ]
    }
   ],
   "source": [
    "python_words = {\n",
    "    'integer':'Butun son',\n",
    "    'float': \"O'nlik son\",\n",
    "    'boolean':\"Mantiqiy qiymat\",\n",
    "    'for':\"Biror amalni qayta-qayta bajarish tsikli\",\n",
    "    'if':'Shartlarni tekshirish operatori'}\n",
    "\n",
    "for key, value in sorted(python_words.items()):\n",
    "    print(f\"{key.title()} - {value}\")"
   ]
  },
  {
   "cell_type": "code",
   "execution_count": 18,
   "metadata": {},
   "outputs": [
    {
     "name": "stdout",
     "output_type": "stream",
     "text": [
      "Dunyo davlatlari:\n",
      "AQSH\n",
      "ITALIYA\n",
      "MALAYZIYA\n",
      "O'ZBEKISTON\n",
      "QIRG'IZISTON\n",
      "QOZOG'ISTON\n",
      "ROSSIYA\n",
      "SINGAPUR\n",
      "TOJIKISTON\n",
      "\n",
      "Davlatlarning poytaxtlari\n",
      "Bishkek\n",
      "Dushanbe\n",
      "Kuala-Lumpur\n",
      "Moskva\n",
      "Nursulton\n",
      "Rim\n",
      "Sungapur\n",
      "Toshkent\n",
      "Washington D.C.\n"
     ]
    }
   ],
   "source": [
    "davlatlar = {\n",
    "    \"o'zbekiston\":'toshkent',\n",
    "    'aqsh':'washington d.c.',\n",
    "    'rossiya':'moskva',\n",
    "    'tojikiston':'dushanbe',\n",
    "    \"qirg'iziston\":'bishkek',\n",
    "    'qozog\\'iston':'nursulton',\n",
    "    'malayziya':'kuala-lumpur',\n",
    "    'singapur':'sungapur',\n",
    "    'italiya':'rim'}\n",
    "\n",
    "print('Dunyo davlatlari:')\n",
    "for davlat in sorted(davlatlar):\n",
    "    print(davlat.upper())\n",
    "\n",
    "print('\\nDavlatlarning poytaxtlari')\n",
    "for poytaxt in sorted(davlatlar.values()):\n",
    "    print(poytaxt.title())"
   ]
  },
  {
   "cell_type": "code",
   "execution_count": 19,
   "metadata": {},
   "outputs": [
    {
     "name": "stdout",
     "output_type": "stream",
     "text": [
      "Qaysi davlatning poytaxtini bilishni istaysiz?:Rossiya\n",
      "ROSSIYAning poytaxti Moskva shahri\n"
     ]
    }
   ],
   "source": [
    "country = input('Qaysi davlatning poytaxtini bilishni istaysiz?:').lower()\n",
    "capital = davlatlar.get(country)\n",
    "if capital==None:\n",
    "    print('Kechirasiz, bizda bu haqida ma\\'lumot yo\\'q')    \n",
    "else:\n",
    "    print(f\"{country.upper()}ning poytaxti {capital.title()} shahri\")"
   ]
  },
  {
   "cell_type": "code",
   "execution_count": 20,
   "metadata": {},
   "outputs": [
    {
     "name": "stdout",
     "output_type": "stream",
     "text": [
      "3 ta taom buyurtma bering.\n",
      "1-taom:osh\n",
      "2-taom:non\n",
      "3-taom:norin\n",
      "Osh 20000 so'm\n",
      "Non 4000 so'm\n",
      "Kechirasiz, bizda norin yo'q.\n"
     ]
    }
   ],
   "source": [
    "menu = {\n",
    "        'osh':20000,\n",
    "        \"lag'mon\":22000,\n",
    "        'non':4000,\n",
    "        'choy':5000,\n",
    "        'shashlik':12000,\n",
    "        'somsa':6000,\n",
    "        'tabaka':15000\n",
    "        }\n",
    "\n",
    "print('3 ta taom buyurtma bering.')\n",
    "buyurtmalar = []\n",
    "for n in range(3):\n",
    "    buyurtmalar.append(input(f\"{n+1}-taom:\").lower())\n",
    "\n",
    "for buyurtma in buyurtmalar:\n",
    "    if buyurtma in menu:\n",
    "        print(f\"{buyurtma.title()} {menu[buyurtma]} so'm\")\n",
    "    else:\n",
    "        print(f\"Kechirasiz, bizda {buyurtma} yo'q.\")"
   ]
  }
 ],
 "metadata": {
  "kernelspec": {
   "display_name": "Python 3",
   "language": "python",
   "name": "python3"
  },
  "language_info": {
   "codemirror_mode": {
    "name": "ipython",
    "version": 3
   },
   "file_extension": ".py",
   "mimetype": "text/x-python",
   "name": "python",
   "nbconvert_exporter": "python",
   "pygments_lexer": "ipython3",
   "version": "3.8.6"
  }
 },
 "nbformat": 4,
 "nbformat_minor": 2
}
