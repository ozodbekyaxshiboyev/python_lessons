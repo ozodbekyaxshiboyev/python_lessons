{
 "cells": [
  {
   "cell_type": "markdown",
   "metadata": {},
   "source": [
    "# 02-DARS. \"Hello, World!\""
   ]
  },
  {
   "cell_type": "markdown",
   "metadata": {},
   "source": [
    "![Sariqdev](https://gblobscdn.gitbook.com/assets%2F-MGbkqs1tROquIT6oqUs%2F-Mc-5yGQPZTBaGoehQdL%2F-Mc-7xpq4Puu3KEjmT0R%2FSD_YT_TG_logo_mini.png?alt=media&token=929fe67b-ec12-4f63-b33e-e9c5e3d8ad09)"
   ]
  },
  {
   "cell_type": "markdown",
   "metadata": {},
   "source": [
    "# SPYDER IDE BILAN TANISHAMIZ"
   ]
  },
  {
   "cell_type": "markdown",
   "metadata": {},
   "source": [
    "Spyder muhiti uch qismdan iborat:\n",
    "1. **Matn muharriri** — dasturlar yozish uchun.\n",
    "2. **Konsol** — qisqa kodlarni bajarib, tekshirib ko'rish uchun.\n",
    "3. **Qo'shimcha ma'lumotlar oynasi.** Bu yerda quyidagi ma'lumotlarni ko'rish mumkin:\n",
    "    + Turli funktsiyalar haqida yordam\n",
    "    + Dasturdagi o'zgaruvchilar ro'yhati\n",
    "    + Grafiklar\n",
    "    + Fayllar"
   ]
  },
  {
   "cell_type": "markdown",
   "metadata": {},
   "source": [
    "![Spyder IDE](https://gblobscdn.gitbook.com/assets%2F-MGbkqs1tROquIT6oqUs%2F-MLN7dGUlu7i5DWA0qQh%2F-MLN8tAjkGkzepC07BST%2Fimage.png?alt=media&token=f2f96f8f-3c3a-467e-8314-7bbde0e70875)"
   ]
  },
  {
   "cell_type": "markdown",
   "metadata": {},
   "source": [
    "Konsolda qisqa kodlarni bajarib, natijasini ko'rish mumkin. Misol uchun oddiy arifmetik amallarni bajarib ko'raylik:"
   ]
  },
  {
   "cell_type": "markdown",
   "metadata": {},
   "source": [
    "![](https://gblobscdn.gitbook.com/assets%2F-MGbkqs1tROquIT6oqUs%2F-MLN7dGUlu7i5DWA0qQh%2F-MLN9wD_L2n5kcTn7Amu%2Fimage.png?alt=media&token=27fc9946-8772-4303-b0cb-2547e41d7639)"
   ]
  },
  {
   "cell_type": "markdown",
   "metadata": {},
   "source": [
    "# BIRINCHI DASTURIMIZ —\"Hello World!\"\n",
    "\n",
    "Keling an'anaga ko'ra barcha dasturchilar birinchi yozadigan dastur, \"Hello World!\" dasturini yozamiz\n",
    ". \n",
    "Buning uchun Spyder IDE yuqorisidagi menuda **File --> New File** bo'limini tanlaymiz (yoki klaviaturada Ctrl+N tugmalarini bosamiz). Math muhrarrirda yangi, **untitled0.py** fayli yaratildi.\n",
    "\n",
    "Faylga ma'nili nom beramiz, buning uchun **File --> Save as..** menusini tanlaymiz (yoki Ctrl+Shift+S) va yangi ochilgan oynada faylga ma'nili nom beramiz."
   ]
  },
  {
   "cell_type": "markdown",
   "metadata": {},
   "source": [
    ">Faylni nomlashda quyidagi qoidalarga amal qiling:\n",
    ">- Fayl nomi qisqa, kichkina  lotin harflari bilan va eng muhimi bo'shliq (пробел) qo'ymasdan yozilgan bo'lishi kerak\n",
    ">- Fayl nomi .py bilan tugashi kerak (misol uchun faylnomi.py)\n",
    ">- Faylga ikki so'zdan iborat nom qo'ymoqchi bo'lsangiz so'zlar orasini tire (-) yoki pastki chiziq (_) bilan ajrating. Misol >uchun: hello-world.py yoki hello_world.py\n",
    ">- Fayl nomini sonlar bilan boshlamang"
   ]
  },
  {
   "cell_type": "markdown",
   "metadata": {},
   "source": [
    "Yuqoridagi qoidalarga amal qilgan holda faylga hello.py deb nom beramiz (siz istlagnahca nomalshingiz mumkin) va Save tugmasini bosamiz."
   ]
  },
  {
   "cell_type": "markdown",
   "metadata": {},
   "source": [
    "![](https://gblobscdn.gitbook.com/assets%2F-MGbkqs1tROquIT6oqUs%2F-MLN7dGUlu7i5DWA0qQh%2F-MLNDDHnbGos-bUEqPGC%2Fimage.png?alt=media&token=6f5f309f-d150-42d3-8058-c4d79b4c53ba)"
   ]
  },
  {
   "cell_type": "markdown",
   "metadata": {},
   "source": [
    "Matn muharririda quyidagi kodni yozamiz:"
   ]
  },
  {
   "cell_type": "code",
   "execution_count": null,
   "metadata": {},
   "outputs": [],
   "source": [
    "print(\"Hello World!\")"
   ]
  },
  {
   "cell_type": "markdown",
   "metadata": {},
   "source": [
    "**print()** bu Pythondagi mahsus funktsiya bo'lib, () ichida berilgan matn yoki ifodalarni ekranga (konsolga) chiqarish vazifasini bajaradi. "
   ]
  },
  {
   "cell_type": "markdown",
   "metadata": {},
   "source": [
    ">Dars davomida berilgan kodlarni albatta o'zingiz ham bajaring. Bu juda muhim!"
   ]
  },
  {
   "cell_type": "markdown",
   "metadata": {},
   "source": [
    "Kodimizni bajarish uchun **Run (►)** tugmasini (yoki F5) bosamiz (yangi ochilgan oynada ham **Run** tugmasini bosamiz) va konsolda natijani ko'ramiz:"
   ]
  },
  {
   "cell_type": "markdown",
   "metadata": {},
   "source": [
    "![](https://gblobscdn.gitbook.com/assets%2F-MGbkqs1tROquIT6oqUs%2F-MLN7dGUlu7i5DWA0qQh%2F-MLNFDLHkkI8Bh_8jfxw%2Fimage.png?alt=media&token=d5ec2e8f-9a4c-4c40-aa9f-49643f33de69)"
   ]
  },
  {
   "cell_type": "markdown",
   "metadata": {},
   "source": [
    "Konsolda `Hello World!` yozuvini ko'rgan bo'lsangiz, **TABRIKLAYMIZ!** Siz Pythonda birinchi dasturingizni yozdingiz."
   ]
  },
  {
   "cell_type": "markdown",
   "metadata": {},
   "source": [
    "![](https://gblobscdn.gitbook.com/assets%2F-MGbkqs1tROquIT6oqUs%2F-MLNGs84zKYqFW-aUD4M%2F-MLQ4UF-16vD1m0atzQ1%2Fbrent.gif?alt=media&token=bf8902cc-bf6d-4dde-93d2-5cf6826f11d2)"
   ]
  },
  {
   "cell_type": "markdown",
   "metadata": {},
   "source": [
    "# AMALIYOT\n",
    "\n",
    "Spyder konsolida va matn muharririda quyidagi kodlarni yozib, bajarib ko'ring. Siz kutgan natijalar chiqdimi?"
   ]
  },
  {
   "cell_type": "code",
   "execution_count": null,
   "metadata": {
    "scrolled": true
   },
   "outputs": [],
   "source": [
    "print('Assalom alaykum')"
   ]
  },
  {
   "cell_type": "code",
   "execution_count": null,
   "metadata": {},
   "outputs": [],
   "source": [
    "print(Hayrli tong!)"
   ]
  },
  {
   "cell_type": "code",
   "execution_count": null,
   "metadata": {},
   "outputs": [],
   "source": [
    "print(2+4*2)"
   ]
  },
  {
   "cell_type": "code",
   "execution_count": null,
   "metadata": {},
   "outputs": [],
   "source": [
    "print(19/5)"
   ]
  },
  {
   "cell_type": "code",
   "execution_count": null,
   "metadata": {},
   "outputs": [],
   "source": [
    "print(2**4)"
   ]
  },
  {
   "cell_type": "markdown",
   "metadata": {},
   "source": [
    "### Quyidagi kodga tegmang. Texnik sozlamalar uchun ishlatiladi!"
   ]
  },
  {
   "cell_type": "code",
   "execution_count": 1,
   "metadata": {
    "scrolled": true
   },
   "outputs": [],
   "source": [
    "%%capture\n",
    "jovian.commit(project=\"02-python\")"
   ]
  }
 ],
 "metadata": {
  "kernelspec": {
   "display_name": "Python 3",
   "language": "python",
   "name": "python3"
  },
  "language_info": {
   "codemirror_mode": {
    "name": "ipython",
    "version": 3
   },
   "file_extension": ".py",
   "mimetype": "text/x-python",
   "name": "python",
   "nbconvert_exporter": "python",
   "pygments_lexer": "ipython3",
   "version": "3.8.6"
  }
 },
 "nbformat": 4,
 "nbformat_minor": 2
}
