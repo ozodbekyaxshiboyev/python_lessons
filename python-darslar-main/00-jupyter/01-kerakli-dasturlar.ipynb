{
 "cells": [
  {
   "cell_type": "markdown",
   "id": "b8c8dfba",
   "metadata": {},
   "source": [
    "# 01-DARS. KERAKLI DASTURLAR\n",
    "Ushbu bo'limda Python tilida kod yozish uchun kerak bo'lgan dasturlarni o'rnatamiz"
   ]
  },
  {
   "cell_type": "markdown",
   "id": "4eba5a08",
   "metadata": {},
   "source": [
    "# PYTHON"
   ]
  },
  {
   "cell_type": "markdown",
   "id": "1e4cd6a7",
   "metadata": {},
   "source": [
    "Kod yozish uchun avvalo kompyuterimizda Python o'rnatilgan bo'lishi kerak. Biz buning uchun Pythonni to'g'ridan-to'g'ri o'rnatib emas, balki Anaconda platformasini o'rnatish orqali amalga oshiramiz. \n",
    "\n",
    "Bunday qilishimizning bir nechta sabablari bor:\n",
    "+ Anaconda Python nisbatan tezroq\n",
    "+ Anaconda biz uchun kerakli bo'lgan qo'shimcha dasturlar va muhim paketlar bilan birga o'rnatiladi\n",
    "+ Anacondada turli dasturlar (loyihalar) uchun alohida muhit yaratish mumkin"
   ]
  },
  {
   "cell_type": "markdown",
   "id": "41c4c70d",
   "metadata": {},
   "source": [
    "## Repl.it"
   ]
  },
  {
   "cell_type": "markdown",
   "id": "05788a97",
   "metadata": {},
   "source": [
    "Agar siz turli sabablarga ko'ra kompyuteringizga Python o'rnata olmasangiz, [repl.it](replit.com) sahifasi yordamida Python dasturlarini to'g'ridan-to'g'ri brauzerda ham yozishingiz mumkin. "
   ]
  },
  {
   "cell_type": "code",
   "execution_count": 7,
   "id": "c0b997a3",
   "metadata": {},
   "outputs": [
    {
     "data": {
      "text/html": [
       "\n",
       "        <iframe\n",
       "            width=\"560\"\n",
       "            height=\"315\"\n",
       "            src=\"https://www.youtube.com/embed/fTaLQKNuOXU\"\n",
       "            frameborder=\"0\"\n",
       "            allowfullscreen\n",
       "        ></iframe>\n",
       "        "
      ],
      "text/plain": [
       "<IPython.lib.display.IFrame at 0x17e3658e208>"
      ]
     },
     "execution_count": 7,
     "metadata": {},
     "output_type": "execute_result"
    }
   ],
   "source": [
    "from IPython.display import IFrame \n",
    "IFrame(src=\"https://www.youtube.com/embed/fTaLQKNuOXU\", width=\"560\", height=\"315\")"
   ]
  },
  {
   "cell_type": "markdown",
   "id": "18681c85",
   "metadata": {},
   "source": [
    "## ANACONDA"
   ]
  },
  {
   "cell_type": "code",
   "execution_count": 9,
   "id": "60b19a65",
   "metadata": {},
   "outputs": [
    {
     "data": {
      "text/html": [
       "\n",
       "        <iframe\n",
       "            width=\"560\"\n",
       "            height=\"315\"\n",
       "            src=\"https://www.youtube.com/embed/xforSDte5-4\"\n",
       "            frameborder=\"0\"\n",
       "            allowfullscreen\n",
       "        ></iframe>\n",
       "        "
      ],
      "text/plain": [
       "<IPython.lib.display.IFrame at 0x17e3671b908>"
      ]
     },
     "execution_count": 9,
     "metadata": {},
     "output_type": "execute_result"
    }
   ],
   "source": [
    "from IPython.display import IFrame \n",
    "IFrame(src=\"https://www.youtube.com/embed/xforSDte5-4\", width=\"560\", height=\"315\")"
   ]
  },
  {
   "cell_type": "markdown",
   "id": "0fbedc9c",
   "metadata": {},
   "source": [
    "+ Kompyuterimizda brauzerni ochib, https://www.anaconda.com/products/individual sahifasiga kiramiz va **Download** tugmasini bosamiz.\n",
    "+ Kompyuterimizda o'rnatilgan operatsion tizim uchun mos keluvchi faylni yuklab olamiz (*agar yuqoridagi jumlani tushunmagan bo'lsangiz, katta ehtimollik bilan sizda 64-Bit Windows operatsion tizimi o'rnatilgan*)"
   ]
  },
  {
   "cell_type": "markdown",
   "id": "8caa6d88",
   "metadata": {},
   "source": [
    "![](https://gblobscdn.gitbook.com/assets%2F-MGbkqs1tROquIT6oqUs%2F-ML15qKyMHsJWKxInmr7%2F-ML1AuAJQ98DZ8YlWQ95%2Fimage.png?alt=media&token=ec818762-154c-4ebf-9ee3-1505ae5f6359)"
   ]
  },
  {
   "cell_type": "markdown",
   "id": "4371a6c9",
   "metadata": {},
   "source": [
    "+ Yuklab olingan faylni ochamiz, va o'rnatamiz (hech qanday o'zgartirishlarga hojat yo'q, NEXT, ACCEPT, FINISH tugmalarini bosib turamiz xolos)"
   ]
  },
  {
   "cell_type": "markdown",
   "id": "dee6e0ea",
   "metadata": {},
   "source": [
    "![](https://gblobscdn.gitbook.com/assets%2F-MGbkqs1tROquIT6oqUs%2F-ML2DnrCT9N78tm9KzHl%2F-ML2HWsOxe_iYlnnEZ_7%2Fimage.png?alt=media&token=a5e45ccf-cee4-47c0-9689-9a2befee9342)"
   ]
  },
  {
   "cell_type": "markdown",
   "id": "c42bd34a",
   "metadata": {},
   "source": [
    "Anaconda o'rnatilganidan so'ng Windowsdagi dasturlar orasida **Anaconda Navigator** dasturini ochamiz."
   ]
  },
  {
   "cell_type": "markdown",
   "id": "edafc6c0",
   "metadata": {},
   "source": [
    "![](https://gblobscdn.gitbook.com/assets%2F-MGbkqs1tROquIT6oqUs%2F-ML2DnrCT9N78tm9KzHl%2F-ML2HvAPZCq3SSQEn4St%2Fimage.png?alt=media&token=1a870ff3-4a0b-4e5e-9dbf-fd0a0a4643e1)"
   ]
  },
  {
   "cell_type": "markdown",
   "id": "bac4979c",
   "metadata": {},
   "source": [
    "# SPYDER IDE\n"
   ]
  },
  {
   "cell_type": "markdown",
   "id": "488d4057",
   "metadata": {},
   "source": [
    "**Spyder** — Python tilida kod yozich uchun mo'ljallangan dasturlash muhiti va bizning asosiy ish qurolimizdir. Ingliz tilida dasturlash muhiti - **IDE** (Integrated Development Environment) deyiladi.\n",
    "\n",
    "Dastur yozish uchun yuzlab turli muhitlar bor. Aslida, umuman muhitsiz, oddiy matn redaktorida ham kod yozishimiz mumkin edi. Lekin Spyder va unga o'xshash muhitlar dasturchilarning ishini yengillatishga qaratilgan. Muhitlar turli qo'shimcha funktsiyalar va foydali xossalarga boy bo'ladi. "
   ]
  },
  {
   "cell_type": "markdown",
   "id": "0afde6dc",
   "metadata": {},
   "source": [
    "![](https://gblobscdn.gitbook.com/assets%2F-MGbkqs1tROquIT6oqUs%2F-MLGVQsGxieNt_-Bm2Ph%2F-MLGXzH-guf3bonKAauD%2Fimage.png?alt=media&token=96051370-374c-4d42-9655-a5d8aebec9ef)"
   ]
  },
  {
   "cell_type": "markdown",
   "id": "bddd127f",
   "metadata": {},
   "source": [
    "Kelajakda siz o'zingiz uchun qulay muhitni tanlab, yangi dasturlarni yangi muhitda yozishingiz mumkin. Boshlanishiga esa biz Anaconda bilan birga keladigan qulay va sodda, lekin shu bilan birga funktsiyalarga boy bo'lgan Spyder muhitini tanlaymiz. \n",
    "\n",
    "Spyder dasturini Android Navigator yoki Windows orqali to'g'ridan-to'g'ri ochish mumkin."
   ]
  },
  {
   "cell_type": "markdown",
   "id": "5c49a645",
   "metadata": {},
   "source": [
    "![](https://gblobscdn.gitbook.com/assets%2F-MGbkqs1tROquIT6oqUs%2F-MLGbd3qWVzccG_OQgTi%2F-MLGnNCvg8E60dGivcBt%2Fimage.png?alt=media&token=7111da8e-27cb-42b0-9d05-4242aa0611fa)"
   ]
  },
  {
   "cell_type": "markdown",
   "id": "421b9621",
   "metadata": {},
   "source": [
    "# KITE"
   ]
  },
  {
   "cell_type": "markdown",
   "id": "ee74bae9",
   "metadata": {},
   "source": [
    "Spyder dastruni ilk marotaba ochganimizda **Kite** dasturlash yordamchisini (pogramming assistant) o'rnatishni taklif qilishi mumkin. \n",
    "\n",
    "Kite — sun'iy intellekt asosida ishlovchi virtual yordamchi bo'lib, kod yozishni osonlashtiradi. Kite yordamida istalgan funktsiya yoki komanda haqida qo'shimcha ma'lumot olishingiz mumkin. Shungdek Kite sizga kodlarni to'g'ri yozishda ishora (подсказка) ham ko'rsatib turadi."
   ]
  },
  {
   "cell_type": "markdown",
   "id": "9c835aa7",
   "metadata": {},
   "source": [
    "![](https://gblobscdn.gitbook.com/assets%2F-MGbkqs1tROquIT6oqUs%2F-MLGbd3qWVzccG_OQgTi%2F-MLGv_dB46bpOG19eQl2%2Fimage.png?alt=media&token=3ca04505-d42b-4ad8-b4bd-900d7d35d509)"
   ]
  },
  {
   "cell_type": "markdown",
   "id": "e0d72908",
   "metadata": {},
   "source": [
    "Maslahatim, 5 minut vaqtingizni qizg'anmay, Kite yordamchisini ham o'rnating:"
   ]
  },
  {
   "attachments": {},
   "cell_type": "markdown",
   "id": "2104cd10",
   "metadata": {},
   "source": [
    "![](https://gblobscdn.gitbook.com/assets%2F-MGbkqs1tROquIT6oqUs%2F-MLGbd3qWVzccG_OQgTi%2F-MLGr_ZfpBJw8qUxLJvu%2Fimage.png?alt=media&token=f45912c8-5ed6-4a8a-be3d-aa3e31b9b355)"
   ]
  },
  {
   "cell_type": "markdown",
   "id": "a1d454e6",
   "metadata": {},
   "source": [
    "![](https://gblobscdn.gitbook.com/assets%2F-MGbkqs1tROquIT6oqUs%2F-MLGbd3qWVzccG_OQgTi%2F-MLGtLjrA3KjZSRQ7g8L%2Fimage.png?alt=media&token=bf0f8cb1-0d87-4288-bf6d-ee21cd7ae45b)"
   ]
  },
  {
   "cell_type": "markdown",
   "id": "2725567e",
   "metadata": {},
   "source": [
    "Va nihoyat Spyder IDE ochiladi:"
   ]
  },
  {
   "cell_type": "markdown",
   "id": "6c4d6472",
   "metadata": {},
   "source": [
    "![](https://gblobscdn.gitbook.com/assets%2F-MGbkqs1tROquIT6oqUs%2F-MLGbd3qWVzccG_OQgTi%2F-MLGthL66xfIc6WU2EWQ%2Fimage.png?alt=media&token=c4a8c52d-8cd1-4074-a8da-5cb7006d47d7)"
   ]
  },
  {
   "cell_type": "markdown",
   "id": "0f77ba8c",
   "metadata": {},
   "source": [
    "Yuqoridagi qadamlarni muvaffqaiyatli yakunlagan bo'lsangiz, siz birinchi dasturingizni yozishga tayyorsiz!"
   ]
  },
  {
   "cell_type": "markdown",
   "id": "6549197d",
   "metadata": {},
   "source": [
    "# AMALIYOT"
   ]
  },
  {
   "cell_type": "markdown",
   "id": "6d9523a3",
   "metadata": {},
   "source": [
    "Kompyuteringizga Anaconda platformasini o'rnating."
   ]
  }
 ],
 "metadata": {
  "kernelspec": {
   "display_name": "Python 3",
   "language": "python",
   "name": "python3"
  },
  "language_info": {
   "codemirror_mode": {
    "name": "ipython",
    "version": 3
   },
   "file_extension": ".py",
   "mimetype": "text/x-python",
   "name": "python",
   "nbconvert_exporter": "python",
   "pygments_lexer": "ipython3",
   "version": "3.7.10"
  }
 },
 "nbformat": 4,
 "nbformat_minor": 5
}
