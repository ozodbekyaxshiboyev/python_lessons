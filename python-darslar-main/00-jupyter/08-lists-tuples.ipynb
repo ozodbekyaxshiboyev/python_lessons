{
 "cells": [
  {
   "cell_type": "markdown",
   "metadata": {},
   "source": [
    "# 08-DARS. RO'YXATLAR BILAN ISHLASH\n",
    "\n",
    "Ro'yxatlarning ustida turli amallar bajarishni o'rganamiz"
   ]
  },
  {
   "cell_type": "markdown",
   "metadata": {},
   "source": [
    "![](https://gblobscdn.gitbook.com/assets%2F-MGbkqs1tROquIT6oqUs%2F-Mc-5yGQPZTBaGoehQdL%2F-Mc-7xpq4Puu3KEjmT0R%2FSD_YT_TG_logo_mini.png?alt=media&token=929fe67b-ec12-4f63-b33e-e9c5e3d8ad09)"
   ]
  },
  {
   "cell_type": "markdown",
   "metadata": {},
   "source": [
    "# RO'YXATNI TARTIBLASH"
   ]
  },
  {
   "cell_type": "markdown",
   "metadata": {},
   "source": [
    "Aksar holatlarda ro'yxat ichidagi elementlarni alifbo ketma-ketligida tartiblash talab qilinishi mumkin. Buning uchun list uchun maxsus **`.sort()`** metodidan foydalanamiz."
   ]
  },
  {
   "cell_type": "code",
   "execution_count": 4,
   "metadata": {},
   "outputs": [
    {
     "name": "stdout",
     "output_type": "stream",
     "text": [
      "['audi', 'bmw', 'general motors', 'mercedes benz', 'tesla', 'volvo']\n"
     ]
    }
   ],
   "source": [
    "cars = ['bmw','mercedes benz', 'volvo', 'general motors', 'tesla', 'audi']\n",
    "cars.sort()\n",
    "print(cars)"
   ]
  },
  {
   "cell_type": "markdown",
   "metadata": {},
   "source": [
    "Kurib turibsiz, yuqoridagi ro'yxatimiz alifbo bo'yicha tartiblandi."
   ]
  },
  {
   "cell_type": "markdown",
   "metadata": {},
   "source": [
    "> **Diqqat!** Tartiblashda katta harflar kichik harflardan avval kelishini hisobga oling. Agar matndagi so'zlarning bosh harfi katta-kichik aralash yozilgan bo'lsa, ularni bir ko'rinishga keltirib olish maqsadga muvofiq bo'ladi."
   ]
  },
  {
   "cell_type": "code",
   "execution_count": 5,
   "metadata": {},
   "outputs": [
    {
     "name": "stdout",
     "output_type": "stream",
     "text": [
      "['Bmw', 'audi', 'gm', 'mercedes benz', 'tesla', 'volvo']\n"
     ]
    }
   ],
   "source": [
    "cars = ['Bmw','mercedes benz', 'volvo', 'gm', 'tesla', 'audi']\n",
    "cars.sort()\n",
    "print(cars)"
   ]
  },
  {
   "cell_type": "markdown",
   "metadata": {},
   "source": [
    "Yuqoridagi misolda `'Bmw'` elementi katta harf bilan boshlangani uchun ro'yxatning boshidan joy oldi.\n",
    "\n",
    "Ro'yxatni teskari tartibda saqlash uchun `.sort()` metodi ichida `reverse=True` argumentini ham kiritamiz. "
   ]
  },
  {
   "cell_type": "code",
   "execution_count": 6,
   "metadata": {},
   "outputs": [
    {
     "name": "stdout",
     "output_type": "stream",
     "text": [
      "['volvo', 'tesla', 'mercedes benz', 'general motors', 'bmw', 'audi']\n"
     ]
    }
   ],
   "source": [
    "cars = ['bmw','mercedes benz', 'volvo', 'general motors', 'tesla', 'audi']\n",
    "cars.sort(reverse=True)\n",
    "print(cars)"
   ]
  },
  {
   "cell_type": "markdown",
   "metadata": {},
   "source": [
    "`.sort()` metodi ro'yxatni tartiblaydi. Ba'zida asl ro'yxat ichidagi elementlarning ketma-ketligini buzmagan holda ro'yxatni tartiblash talab qilinishi mumkin. Buning uchun **`sorted()`** funktsiyasidan foydalanamiz:"
   ]
  },
  {
   "cell_type": "code",
   "execution_count": 7,
   "metadata": {},
   "outputs": [
    {
     "name": "stdout",
     "output_type": "stream",
     "text": [
      "sorted() qaytargan ro'yxat: ['Avazbek', 'Farruh', 'Hamid', 'Odil', 'Shamsiddin', 'Temur']\n",
      "Asl ro'yxat o'zgarmas qoldi: ['Odil', 'Hamid', 'Temur', 'Avazbek', 'Farruh', 'Shamsiddin']\n"
     ]
    }
   ],
   "source": [
    "mehmonlar = ['Odil', 'Hamid', 'Temur', 'Avazbek', 'Farruh', 'Shamsiddin']\n",
    "print(\"sorted() qaytargan ro'yxat:\", sorted(mehmonlar))\n",
    "print(\"Asl ro'yxat o'zgarmas qoldi:\", mehmonlar)"
   ]
  },
  {
   "cell_type": "markdown",
   "metadata": {},
   "source": [
    "`sorted()` funktsiyasi yordamida teskari tartiblash uchun ham `reverse=True` argumentini beramiz:"
   ]
  },
  {
   "cell_type": "code",
   "execution_count": 8,
   "metadata": {},
   "outputs": [
    {
     "name": "stdout",
     "output_type": "stream",
     "text": [
      "['Temur', 'Shamsiddin', 'Odil', 'Hamid', 'Farruh', 'Avazbek']\n"
     ]
    }
   ],
   "source": [
    "print(sorted(mehmonlar, reverse=True))"
   ]
  },
  {
   "cell_type": "markdown",
   "metadata": {},
   "source": [
    "Yuqoridagi ikki usul bilan sonli ro'yxatlarni ham tartiblashimiz mumkin:"
   ]
  },
  {
   "cell_type": "code",
   "execution_count": 9,
   "metadata": {},
   "outputs": [
    {
     "name": "stdout",
     "output_type": "stream",
     "text": [
      "[11, 12, 34, 34, 65, 76, 98]\n",
      "[98, 76, 65, 34, 34, 12, 11]\n"
     ]
    }
   ],
   "source": [
    "ages = [12, 98, 34, 65, 34, 76, 11]\n",
    "ages.sort()\n",
    "print(ages)\n",
    "print(sorted(ages, reverse=True))"
   ]
  },
  {
   "cell_type": "markdown",
   "metadata": {},
   "source": [
    "# RO'YXATNI AYLANTIRISH"
   ]
  },
  {
   "cell_type": "markdown",
   "metadata": {},
   "source": [
    "Ba'zida ro'yxatni aylantirish (boshini oxiriga, oxirini boshiga) talab qilinishi mumkin. Buning uchun **`.reverse()`** metodidan foydalanamiz."
   ]
  },
  {
   "cell_type": "code",
   "execution_count": 10,
   "metadata": {},
   "outputs": [
    {
     "name": "stdout",
     "output_type": "stream",
     "text": [
      "['lemon', 'watermelon', 'apple', 'banana', 'pear']\n"
     ]
    }
   ],
   "source": [
    "fruits = ['pear','banana','apple','watermelon','lemon']\n",
    "fruits.reverse()\n",
    "print(fruits)"
   ]
  },
  {
   "cell_type": "markdown",
   "metadata": {},
   "source": [
    "Natija va asl ro'yxatni solishtiring."
   ]
  },
  {
   "cell_type": "markdown",
   "metadata": {},
   "source": [
    "# RO'YXATNING UZUNLIGINI BILISH"
   ]
  },
  {
   "cell_type": "markdown",
   "metadata": {},
   "source": [
    "Ro'yxatning uzunligi, ya'ni uning ichidagi elementlar sonini aniqlash uchun **`len()`** funktsiyasidan foydalanamiz:"
   ]
  },
  {
   "cell_type": "code",
   "execution_count": 11,
   "metadata": {},
   "outputs": [
    {
     "name": "stdout",
     "output_type": "stream",
     "text": [
      "Elementlar soni: 5\n"
     ]
    }
   ],
   "source": [
    "fruits = ['pear','banana','apple','watermelon','lemon']\n",
    "print(\"Elementlar soni:\",len(fruits)) # len(fruits) ro'yxat uzunligini qaytaradi"
   ]
  },
  {
   "cell_type": "markdown",
   "metadata": {},
   "source": [
    "# **`range()`** FUNKTSIYASI\n"
   ]
  },
  {
   "cell_type": "markdown",
   "metadata": {},
   "source": [
    "Bu funktsiya yordamida biz ma'lum oraliqdagi sonlar ketma-ketligini yaratishimiz mumkin. **`list()`** funktsiyasi yordamida esa bu oraliqni ro'yxat shaklida saqlab olamiz:"
   ]
  },
  {
   "cell_type": "code",
   "execution_count": 12,
   "metadata": {},
   "outputs": [
    {
     "name": "stdout",
     "output_type": "stream",
     "text": [
      "[0, 1, 2, 3, 4, 5, 6, 7, 8, 9]\n"
     ]
    }
   ],
   "source": [
    "sonlar = list(range(0,10)) # \n",
    "print(sonlar)"
   ]
  },
  {
   "cell_type": "markdown",
   "metadata": {},
   "source": [
    "Yuqoridagi misolda `range(0,10)` funktsiyasi 0 dan 9 gacha sonlar ketma-ketligini shakllantirdi, `list(range(0,9))` esa bu ketma-ketlikni ro'yxatga aylantirdi."
   ]
  },
  {
   "cell_type": "markdown",
   "metadata": {},
   "source": [
    "> **Diqqat!** E'tibor qiling `range()` funktsiyasi ikkinchi indeksdan bitta avval to'xtaydi."
   ]
  },
  {
   "cell_type": "markdown",
   "metadata": {},
   "source": [
    "`range()` yordamida qadamni ham berishimiz mumkin:"
   ]
  },
  {
   "cell_type": "code",
   "execution_count": 13,
   "metadata": {},
   "outputs": [
    {
     "name": "stdout",
     "output_type": "stream",
     "text": [
      "Juft sonlar:  [0, 2, 4, 6, 8, 10, 12, 14, 16, 18]\n",
      "Toq sonlar:  [1, 3, 5, 7, 9, 11, 13, 15, 17, 19]\n"
     ]
    }
   ],
   "source": [
    "juft_sonlar = list(range(0,20,2)) # 0 dan 20 gacha 2 qadam bilan\n",
    "toq_sonlar = list(range(1,20,2))  # 1 dan 20 gacha 2 qadam bilan\n",
    "print(\"Juft sonlar: \", juft_sonlar)\n",
    "print(\"Toq sonlar: \", toq_sonlar)"
   ]
  },
  {
   "cell_type": "markdown",
   "metadata": {},
   "source": [
    "> Agar sonlar ketma-ketligi 0 dan boshlansa, `range()` funktsiyasida yakuniy indeksni ko'rsatish kifoya. Misol uchun `range(0,10)` emas `range(10)` deb yozsak ham bo'laveradi."
   ]
  },
  {
   "cell_type": "markdown",
   "metadata": {},
   "source": [
    "# SONLI RO'YXAT USTIDA SODDA AMALLAR\n"
   ]
  },
  {
   "cell_type": "markdown",
   "metadata": {},
   "source": [
    "Pythonda ro'yxatlar ustida ba'zi sodda amallarni ham bajarish mumkin. Misol uchun ro'yxatdagi eng kichik sonni topish uchun `min()` funktsiyasidan, eng katta sonni topish uchun esa `max()` funktsiyasidan, sonlarning yig'indisini topish uchun esa `sum()` funktsyasidan foydalansak bo'ladi:"
   ]
  },
  {
   "cell_type": "code",
   "execution_count": 14,
   "metadata": {},
   "outputs": [
    {
     "name": "stdout",
     "output_type": "stream",
     "text": [
      "Eng arzon narh  5600 . Eng qimmati  32874 . Jami:  116164\n"
     ]
    }
   ],
   "source": [
    "narhlar = [12000, 22500, 23456, 9800, 5600, 9934, 32874]\n",
    "arzon = min(narhlar)\n",
    "qimmat = max(narhlar)\n",
    "jami = sum(narhlar)\n",
    "print(\"Eng arzon narh \", arzon, \". Eng qimmati \", qimmat, \". Jami: \", jami)"
   ]
  },
  {
   "cell_type": "markdown",
   "metadata": {},
   "source": [
    "# RO'YXATNI KESISH\n"
   ]
  },
  {
   "cell_type": "markdown",
   "metadata": {},
   "source": [
    "Ba'zida ro'yxatning ma'lum bir bo'lagini ajratib olish talab qilinishi mumkin, deylik biz quyidagi cars degan ro'yxatdan birinchi 3 ta elementni ajratib olmoqchimiz, buning uchun biz boshlang'ich va oxirgi indekslarni beramiz:"
   ]
  },
  {
   "cell_type": "code",
   "execution_count": 15,
   "metadata": {},
   "outputs": [
    {
     "name": "stdout",
     "output_type": "stream",
     "text": [
      "['bmw', 'mercedes benz', 'volvo']\n"
     ]
    }
   ],
   "source": [
    "cars = ['bmw','mercedes benz', 'volvo', 'general motors', 'tesla', 'audi']\n",
    "my_cars = cars[0:3] # 0-indeskdan boshlab 3 ta element ajratib olamiz\n",
    "print(my_cars) "
   ]
  },
  {
   "cell_type": "markdown",
   "metadata": {},
   "source": [
    "> **Diqqat!** Python 2-indeksdan bitta avval to'xtaydi. Yuqoridagi misolda ham 0,1,2-elementlar ajratib olindi."
   ]
  },
  {
   "cell_type": "markdown",
   "metadata": {},
   "source": [
    "Bu usul bilan ro'yxatning istalgan joyidan bo'lishimiz mumkin:\n"
   ]
  },
  {
   "cell_type": "code",
   "execution_count": 16,
   "metadata": {},
   "outputs": [
    {
     "name": "stdout",
     "output_type": "stream",
     "text": [
      "['volvo', 'general motors', 'tesla']\n"
     ]
    }
   ],
   "source": [
    "print(cars[2:5]) # 2-3-4-elementlarni ajratib olamiz (5 kirmaydi)"
   ]
  },
  {
   "cell_type": "markdown",
   "metadata": {},
   "source": [
    "Agar boshlang'ich indeksni bermasangiz, Python avtomat ravishda 0 indeksdan boshlab kesadi. Agar 2-indeksni kiritmasangiz, ro'yxat oxirigacha kesadi:"
   ]
  },
  {
   "cell_type": "code",
   "execution_count": 17,
   "metadata": {},
   "outputs": [
    {
     "name": "stdout",
     "output_type": "stream",
     "text": [
      "['bmw', 'mercedes benz', 'volvo', 'general motors']\n",
      "['volvo', 'general motors', 'tesla', 'audi']\n"
     ]
    }
   ],
   "source": [
    "print(cars[:4]) # Ro'yxat boshidan 4-gacha kesadi (0,1,2,3)\n",
    "print(cars[2:]) # 2-elementdan boshlab ro'yxat oxirigacha kesib oladi"
   ]
  },
  {
   "cell_type": "markdown",
   "metadata": {},
   "source": [
    "# RO'YXATDAN NUSXA OLISH"
   ]
  },
  {
   "cell_type": "markdown",
   "metadata": {},
   "source": [
    "Dastur davomida biror ro'yxatdan nusxa olish talab qilinishi mumkin. Buning uchun biz tenglik(`=`) belgisidan foydalansak bo'ladimi? Quyidagi misolga e'tibor bering:"
   ]
  },
  {
   "cell_type": "code",
   "execution_count": 18,
   "metadata": {},
   "outputs": [
    {
     "name": "stdout",
     "output_type": "stream",
     "text": [
      "Bu sonlar ro'yxati: [1, 2, 3, 4, 5, 6, 7]\n",
      "Bu sonlar2 ro'yxati: [1, 2, 3, 4, 5, 6, 7]\n"
     ]
    }
   ],
   "source": [
    "sonlar = [1, 2, 3, 4, 5] # donlar degan ro'yxat yaratamiz\n",
    "sonlar2 = sonlar # sonlar2 degan ro'yxatni sonlar ga tenglaymiz\n",
    "sonlar2.append(6) # sonlar2 ga 6 sonini qo'shamiz\n",
    "sonlar2.append(7) # sonlar2 ga 7 sonini qo'shamiz\n",
    "print(\"Bu sonlar ro'yxati:\", sonlar)\n",
    "print(\"Bu sonlar2 ro'yxati:\", sonlar2)"
   ]
  },
  {
   "cell_type": "markdown",
   "metadata": {},
   "source": [
    "Natija biz kutgandek chiqdimi? Yo'q. Biz 6 va 7 sonlarini `sonlar2` degan ro'yxatga qo'shgan edik, lekin bu ikki son `sonlar` degan asl ro'yxatga ham qo'shilib qoldi. \n",
    "\n",
    "Demak yuqorida biz `sonlar2=sonlar` deb yozgan komandamiz yangi ro'yxat yaratish o'rniga, ikkala o'zgaruvchini ham bitta ro'yxatga bog'lab (yo'naltirib) qo'ydi. Biz `sonlar` yoki `sonlar2` ustida bajargan amallarimiz aslida bitta ro'yxat ustida bajarilyapti.\n",
    "\n",
    "![](https://gblobscdn.gitbook.com/assets%2F-MGbkqs1tROquIT6oqUs%2F-MMJGzmHuPgjikKMOl0R%2F-MMJv_JeF1G7uIfp5RRc%2Fimage.png?alt=media&token=6f5d1db7-57d6-4ef3-983d-5fe640b44435)\n",
    "\n",
    "Unda, qanday qilib ro'yxatdan nusxa olamiz? Buning uchun yuoqirdagi ka'bi ro'yxatni kesish usulidan foydalanamiz. Faqatgina, kvadrat qavs ichida ikkala indeksni ham ko'rsatmasdan, bo'sh qoldiramiz:"
   ]
  },
  {
   "cell_type": "code",
   "execution_count": 19,
   "metadata": {},
   "outputs": [
    {
     "name": "stdout",
     "output_type": "stream",
     "text": [
      "Bu sonlar ro'yxati: [1, 2, 3, 4, 5]\n",
      "Bu sonlar2 ro'yxati: [1, 2, 3, 4, 5, 6, 7]\n"
     ]
    }
   ],
   "source": [
    "sonlar = [1, 2, 3, 4, 5] # donlar degan ro'yxat yaratamiz\n",
    "sonlar2 = sonlar[:] # [:] ro'yxatni to'liq ko'chirib oladi\n",
    "sonlar2.append(6) # sonlar2 ga 6 sonini qo'shamiz\n",
    "sonlar2.append(7) # sonlar2 ga 7 sonini qo'shamiz\n",
    "print(\"Bu sonlar ro'yxati:\", sonlar)\n",
    "print(\"Bu sonlar2 ro'yxati:\", sonlar2)"
   ]
  },
  {
   "cell_type": "markdown",
   "metadata": {},
   "source": [
    "# TUPLES - O'ZGARMAS RO'YXAT"
   ]
  },
  {
   "cell_type": "markdown",
   "metadata": {},
   "source": [
    "Dastur yaratish davomida o'zgarmas ro'yxat tuzish talab qilinishi mumkin. Pythonda bunday ro'yxatlar **tuples** deb yuritiladi. Tuple ichidagi qiymatlarni bir marta, dastur boshida beriladi va so'ngra o'zgartirib bo'lmaydi. List dan farqli ravishda, Tuple e'lon qilishda kvadrat qavslar `[]` o'rniga oddiy qavslar `()` ishlatiladi:\n"
   ]
  },
  {
   "cell_type": "code",
   "execution_count": 20,
   "metadata": {},
   "outputs": [
    {
     "name": "stdout",
     "output_type": "stream",
     "text": [
      "(20, 30, 55.2)\n"
     ]
    }
   ],
   "source": [
    "tomonlar = (20, 30, 55.2)\n",
    "print(tomonlar)"
   ]
  },
  {
   "cell_type": "markdown",
   "metadata": {},
   "source": [
    "Tuple ichidagi elementlarga huddi ro'yxat elementlariga murojat qilingani kabi murojat qilinaveradi:"
   ]
  },
  {
   "cell_type": "code",
   "execution_count": 21,
   "metadata": {},
   "outputs": [
    {
     "name": "stdout",
     "output_type": "stream",
     "text": [
      "bus\n",
      "lizard\n",
      "('bear', 'dino', 'snake')\n"
     ]
    }
   ],
   "source": [
    "toys = ('bus','car','bear','dino','snake','lizard')\n",
    "print(toys[0])\n",
    "print(toys[-1])\n",
    "print(toys[2:5])"
   ]
  },
  {
   "cell_type": "markdown",
   "metadata": {},
   "source": [
    "Keling Tuple ichidagi biror elementning qiymatini o'zgartirib ko'ramiz:"
   ]
  },
  {
   "cell_type": "code",
   "execution_count": 22,
   "metadata": {},
   "outputs": [
    {
     "ename": "TypeError",
     "evalue": "'tuple' object does not support item assignment",
     "output_type": "error",
     "traceback": [
      "\u001b[0;31m---------------------------------------------------------------------------\u001b[0m",
      "\u001b[0;31mTypeError\u001b[0m                                 Traceback (most recent call last)",
      "\u001b[0;32m<ipython-input-22-0e8694a5bec6>\u001b[0m in \u001b[0;36m<module>\u001b[0;34m\u001b[0m\n\u001b[1;32m      1\u001b[0m \u001b[0mtoys\u001b[0m \u001b[0;34m=\u001b[0m \u001b[0;34m(\u001b[0m\u001b[0;34m'bus'\u001b[0m\u001b[0;34m,\u001b[0m\u001b[0;34m'car'\u001b[0m\u001b[0;34m,\u001b[0m\u001b[0;34m'bear'\u001b[0m\u001b[0;34m,\u001b[0m\u001b[0;34m'dino'\u001b[0m\u001b[0;34m,\u001b[0m\u001b[0;34m'snake'\u001b[0m\u001b[0;34m,\u001b[0m\u001b[0;34m'lizard'\u001b[0m\u001b[0;34m)\u001b[0m\u001b[0;34m\u001b[0m\u001b[0;34m\u001b[0m\u001b[0m\n\u001b[0;32m----> 2\u001b[0;31m \u001b[0mtoys\u001b[0m\u001b[0;34m[\u001b[0m\u001b[0;36m3\u001b[0m\u001b[0;34m]\u001b[0m \u001b[0;34m=\u001b[0m \u001b[0;34m'dragon'\u001b[0m\u001b[0;34m\u001b[0m\u001b[0;34m\u001b[0m\u001b[0m\n\u001b[0m",
      "\u001b[0;31mTypeError\u001b[0m: 'tuple' object does not support item assignment"
     ]
    }
   ],
   "source": [
    "toys = ('bus','car','bear','dino','snake','lizard')\n",
    "toys[3] = 'dragon'"
   ]
  },
  {
   "cell_type": "markdown",
   "metadata": {},
   "source": [
    "Demak yuqorida ko'rib turganingiz kabi, bu operatsiya xatolikka olib keldi. Shu kabi ro'yxatdan biror elementni o'chirish yoki yangi element qo'shish ham mumkin emas.\n",
    "\n",
    "Agar Tuple ga o'zgartirish talab qilinsa, yagona yo'li o'zgarmas ro'yxatni `list()` funktsiyasi yordamida List (oddiy ro'yxat) ko'rinishiga keltirib olish, o'zgarishlarni bajarsih va qaytarib `tuple()` funktsiyasi yordamida o'zgarmas ro'yxatga o'tkazish mumkin:"
   ]
  },
  {
   "cell_type": "code",
   "execution_count": 23,
   "metadata": {},
   "outputs": [
    {
     "name": "stdout",
     "output_type": "stream",
     "text": [
      "('car', 'mcqueen', 'dino', 'snake', 'lizard', 'dragon')\n"
     ]
    }
   ],
   "source": [
    "toys = ('bus','car','bear','dino','snake','lizard') # o'zgarmas ro'yxat\n",
    "toys = list(toys) # o'zgarmas ro'yxatni oddiy ro'yxatga (List) aylantiramiz\n",
    "# Ro'yxatga o'zgartirishlar kiritamiz\n",
    "toys.append('dragon')\n",
    "toys.remove('bus')\n",
    "toys[1] = 'mcqueen'\n",
    "toys = tuple(toys) # Ro'yxatni qaytadan o'zgarmas ro'yxatga (Tuple) aylantiramiz\n",
    "print(toys)"
   ]
  },
  {
   "cell_type": "markdown",
   "metadata": {},
   "source": [
    "# AMALIYOT"
   ]
  },
  {
   "cell_type": "markdown",
   "metadata": {},
   "source": [
    "- O'zingizga ma'lum davlatlarning ro'yxatini tuzing va ro'yxatni konsolga chiqaring\n",
    "- Ro'yxatning uzunligini konsolga chiqaring\n",
    "- `sorted()` funktsiyasi yordamida ro'yxatni tartiblangan holda konsolga chiqaring\n",
    "- `sorted()` yordamida ro'yxatni teskari tartibda konsolga chiqaring\n",
    "- Asl ro'yxatni qaytadan konsolga chiqaring\n",
    "- `reverse()` metodi yordamida ro'yxatni ortidan boshlab chiqaring\n",
    "- `sort()` metodi yordamida ro'yxatni avval alifbo bo'yicha, keyin esa alifboga teskari tartibda konsolga chiqaring.\n",
    "- 120 dan 1200 gacha bo'lgan juft sonlar ro'yxatini tuzing\n",
    "- Ro'yxatdagi sonlar yig'indisini hisoblang va konsolga chiqaring\n",
    "- Ro'yxatdagi eng katta va eng kichik son o'rtasidagi ayirmani hisoblang va konsolga chiqaring\n",
    "- Ro'yxatdagi elementlar sonini hisoblang\n",
    "- Ro'yxatning boshidan, o'rtasidan va oxiridan 20 ta qiymatni konsolga chiqaring\n",
    "- `taomlar` degan ro'yxat yarating va ichiga istalgan 5ta taomni kiriting\n",
    "- `nonushta` degan yangi ro'yxatga `taomlar`dan nusxa oling\n",
    "- Yangi ro'yxatda faqat nonushtaga yeyiladigan taomlarni qoldiring, va qo'shimcha 2 ta taom qo'shing\n",
    "- Ikkala ro'yxatni ham (`taomlar` va `nonushta`) konsolga chiqaring\n",
    "- Yuqoridagi nonushta ro'yxatini o'zgarmas ro'yxatga aylantiring va `nonushta[0] = \"qaymoq va non\"` deb qiymat berib ko'ring."
   ]
  },
  {
   "cell_type": "markdown",
   "metadata": {},
   "source": [
    "# JAVOBLAR"
   ]
  },
  {
   "cell_type": "code",
   "execution_count": 24,
   "metadata": {},
   "outputs": [
    {
     "name": "stdout",
     "output_type": "stream",
     "text": [
      "[\"O'zbekiston\", \"Qozog'iston\", 'Rossiya', 'Malayziya', 'Singapur', 'AQSh']\n"
     ]
    }
   ],
   "source": [
    "#O'zingizga ma'lum davlatlarning ro'yxatini tuzing va ro'yxatni konsolga chiqaring\n",
    "davlatlar = [\"O'zbekiston\",\"Qozog'iston\", \"Rossiya\", \"Malayziya\", \"Singapur\", \"AQSh\"]\n",
    "print(davlatlar)"
   ]
  },
  {
   "cell_type": "code",
   "execution_count": 25,
   "metadata": {},
   "outputs": [
    {
     "name": "stdout",
     "output_type": "stream",
     "text": [
      "6\n"
     ]
    }
   ],
   "source": [
    "#Ro'yxatning uzunligini konsolga chiqaring\n",
    "print(len(davlatlar))"
   ]
  },
  {
   "cell_type": "code",
   "execution_count": 26,
   "metadata": {},
   "outputs": [
    {
     "name": "stdout",
     "output_type": "stream",
     "text": [
      "['AQSh', 'Malayziya', \"O'zbekiston\", \"Qozog'iston\", 'Rossiya', 'Singapur']\n"
     ]
    }
   ],
   "source": [
    "#sorted() funktsiyasi yordamida ro'yxatni tartiblangan holda konsolga chiqaring\n",
    "print(sorted(davlatlar))"
   ]
  },
  {
   "cell_type": "code",
   "execution_count": 28,
   "metadata": {},
   "outputs": [
    {
     "name": "stdout",
     "output_type": "stream",
     "text": [
      "['Singapur', 'Rossiya', \"Qozog'iston\", \"O'zbekiston\", 'Malayziya', 'AQSh']\n"
     ]
    }
   ],
   "source": [
    "#sorted() yordamida ro'yxatni teskari tartibda konsolga chiqaring\n",
    "print(sorted(davlatlar, reverse=True))"
   ]
  },
  {
   "cell_type": "code",
   "execution_count": 29,
   "metadata": {},
   "outputs": [
    {
     "name": "stdout",
     "output_type": "stream",
     "text": [
      "[\"O'zbekiston\", \"Qozog'iston\", 'Rossiya', 'Malayziya', 'Singapur', 'AQSh']\n"
     ]
    }
   ],
   "source": [
    "#Asl ro'yxatni qaytadan konsolga chiqaring\n",
    "print(davlatlar)"
   ]
  },
  {
   "cell_type": "code",
   "execution_count": 30,
   "metadata": {},
   "outputs": [
    {
     "name": "stdout",
     "output_type": "stream",
     "text": [
      "['AQSh', 'Singapur', 'Malayziya', 'Rossiya', \"Qozog'iston\", \"O'zbekiston\"]\n"
     ]
    }
   ],
   "source": [
    "#reverse() metodi yordamida ro'yxatni ortidan boshlab chiqaring\n",
    "davlatlar.reverse()\n",
    "print(davlatlar)"
   ]
  },
  {
   "cell_type": "code",
   "execution_count": 31,
   "metadata": {},
   "outputs": [
    {
     "name": "stdout",
     "output_type": "stream",
     "text": [
      "['AQSh', 'Malayziya', \"O'zbekiston\", \"Qozog'iston\", 'Rossiya', 'Singapur']\n",
      "['Singapur', 'Rossiya', \"Qozog'iston\", \"O'zbekiston\", 'Malayziya', 'AQSh']\n"
     ]
    }
   ],
   "source": [
    "#sort() metodi yordamida ro'yxatni avval alifbo bo'yicha, keyin esa alifboga teskari tartibda konsolga chiqaring.\n",
    "davlatlar.sort()\n",
    "print(davlatlar)\n",
    "davlatlar.sort(reverse=True)\n",
    "print(davlatlar)"
   ]
  },
  {
   "cell_type": "code",
   "execution_count": 32,
   "metadata": {},
   "outputs": [],
   "source": [
    "#120 dan 1200 gacha bo'lgan juft sonlar ro'yxatini tuzing\n",
    "sonlar = list(range(120,1200))"
   ]
  },
  {
   "cell_type": "code",
   "execution_count": 33,
   "metadata": {},
   "outputs": [
    {
     "name": "stdout",
     "output_type": "stream",
     "text": [
      "712260\n"
     ]
    }
   ],
   "source": [
    "#Ro'yxatdagi sonlar yig'indisini hisoblang va konsolga chiqaring\n",
    "print(sum(sonlar))"
   ]
  },
  {
   "cell_type": "code",
   "execution_count": 34,
   "metadata": {},
   "outputs": [
    {
     "name": "stdout",
     "output_type": "stream",
     "text": [
      "1079\n"
     ]
    }
   ],
   "source": [
    "#Ro'yxatdagi eng katta va eng kichik son o'rtasidagi ayirmani hisoblang va konsolga chiqaring\n",
    "print(max(sonlar)-min(sonlar))"
   ]
  },
  {
   "cell_type": "code",
   "execution_count": 35,
   "metadata": {},
   "outputs": [
    {
     "name": "stdout",
     "output_type": "stream",
     "text": [
      "1080\n"
     ]
    }
   ],
   "source": [
    "#Ro'yxatdagi elementlar sonini hisoblang\n",
    "print(len(sonlar))"
   ]
  },
  {
   "cell_type": "code",
   "execution_count": 36,
   "metadata": {},
   "outputs": [
    {
     "name": "stdout",
     "output_type": "stream",
     "text": [
      "[120, 121, 122, 123, 124, 125, 126, 127, 128, 129, 130, 131, 132, 133, 134, 135, 136, 137, 138, 139]\n",
      "[1180, 1181, 1182, 1183, 1184, 1185, 1186, 1187, 1188, 1189, 1190, 1191, 1192, 1193, 1194, 1195, 1196, 1197, 1198, 1199]\n",
      "[650, 651, 652, 653, 654, 655, 656, 657, 658, 659, 660, 661, 662, 663, 664, 665, 666, 667, 668, 669]\n"
     ]
    }
   ],
   "source": [
    "#Ro'yxatning boshidan, o'rtasidan va oxiridan 20 ta qiymatni konsolga chiqaring\n",
    "print(sonlar[:20])\n",
    "print(sonlar[-20:])\n",
    "print(sonlar[530:550])"
   ]
  },
  {
   "cell_type": "code",
   "execution_count": 37,
   "metadata": {},
   "outputs": [],
   "source": [
    "#taomlar degan ro'yxat yarating va ichiga istalgan 5ta taomni kiriting\n",
    "taomlar = ['osh','somsa','norin','shashlik','qozonkabob']"
   ]
  },
  {
   "cell_type": "code",
   "execution_count": 38,
   "metadata": {},
   "outputs": [],
   "source": [
    "#nonushta degan yangi ro'yxatga taomlardan nusxa oling\n",
    "nonushta = taomlar[:]"
   ]
  },
  {
   "cell_type": "code",
   "execution_count": 39,
   "metadata": {},
   "outputs": [],
   "source": [
    "#Yangi ro'yxatda faqat nonushtaga yeyiladigan taomlarni qoldiring, va qo'shimcha 2 ta taom qo'shing\n",
    "nonushta.remove('norin')\n",
    "nonushta.remove('shashlik')\n",
    "nonushta.remove('qozonkabob')\n",
    "nonushta.append('non va qaymoq')\n",
    "nonushta.append('issiq non')"
   ]
  },
  {
   "cell_type": "code",
   "execution_count": 40,
   "metadata": {},
   "outputs": [
    {
     "name": "stdout",
     "output_type": "stream",
     "text": [
      "['osh', 'somsa', 'norin', 'shashlik', 'qozonkabob']\n",
      "['osh', 'somsa', 'non va qaymoq', 'issiq non']\n"
     ]
    }
   ],
   "source": [
    "#Ikkala ro'yxatni ham (taomlar va nonushta) konsolga chiqaring\n",
    "print(taomlar)\n",
    "print(nonushta)"
   ]
  },
  {
   "cell_type": "code",
   "execution_count": 41,
   "metadata": {},
   "outputs": [
    {
     "ename": "TypeError",
     "evalue": "'tuple' object does not support item assignment",
     "output_type": "error",
     "traceback": [
      "\u001b[0;31m---------------------------------------------------------------------------\u001b[0m",
      "\u001b[0;31mTypeError\u001b[0m                                 Traceback (most recent call last)",
      "\u001b[0;32m<ipython-input-41-8bc21ce4e322>\u001b[0m in \u001b[0;36m<module>\u001b[0;34m\u001b[0m\n\u001b[1;32m      1\u001b[0m \u001b[0;31m#Yuqoridagi nonushta ro'yxatini o'zgarmas ro'yxatga aylantiring va nonushta[0] = \"qaymoq va non\" deb qiymat berib ko'ring.\u001b[0m\u001b[0;34m\u001b[0m\u001b[0;34m\u001b[0m\u001b[0;34m\u001b[0m\u001b[0m\n\u001b[1;32m      2\u001b[0m \u001b[0mnonushta\u001b[0m \u001b[0;34m=\u001b[0m \u001b[0mtuple\u001b[0m\u001b[0;34m(\u001b[0m\u001b[0mnonushta\u001b[0m\u001b[0;34m)\u001b[0m\u001b[0;34m\u001b[0m\u001b[0;34m\u001b[0m\u001b[0m\n\u001b[0;32m----> 3\u001b[0;31m \u001b[0mnonushta\u001b[0m\u001b[0;34m[\u001b[0m\u001b[0;36m0\u001b[0m\u001b[0;34m]\u001b[0m \u001b[0;34m=\u001b[0m \u001b[0;34m\"qaymoq va non\"\u001b[0m\u001b[0;34m\u001b[0m\u001b[0;34m\u001b[0m\u001b[0m\n\u001b[0m",
      "\u001b[0;31mTypeError\u001b[0m: 'tuple' object does not support item assignment"
     ]
    }
   ],
   "source": [
    "#Yuqoridagi nonushta ro'yxatini o'zgarmas ro'yxatga aylantiring va nonushta[0] = \"qaymoq va non\" deb qiymat berib ko'ring.\n",
    "nonushta = tuple(nonushta)\n",
    "nonushta[0] = \"qaymoq va non\""
   ]
  }
 ],
 "metadata": {
  "kernelspec": {
   "display_name": "Python 3",
   "language": "python",
   "name": "python3"
  },
  "language_info": {
   "codemirror_mode": {
    "name": "ipython",
    "version": 3
   },
   "file_extension": ".py",
   "mimetype": "text/x-python",
   "name": "python",
   "nbconvert_exporter": "python",
   "pygments_lexer": "ipython3",
   "version": "3.8.6"
  }
 },
 "nbformat": 4,
 "nbformat_minor": 2
}
