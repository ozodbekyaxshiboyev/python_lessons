{
 "cells": [
  {
   "cell_type": "markdown",
   "metadata": {},
   "source": [
    "# 06-DARS. SONLAR.\n",
    "Pythonda sonlar bilan ishlashni o'rganamiz"
   ]
  },
  {
   "cell_type": "markdown",
   "metadata": {},
   "source": [
    "![](https://gblobscdn.gitbook.com/assets%2F-MGbkqs1tROquIT6oqUs%2F-Mc-5yGQPZTBaGoehQdL%2F-Mc-7xpq4Puu3KEjmT0R%2FSD_YT_TG_logo_mini.png?alt=media&token=929fe67b-ec12-4f63-b33e-e9c5e3d8ad09)"
   ]
  },
  {
   "cell_type": "markdown",
   "metadata": {},
   "source": [
    "# INTEGERS — BUTUN SONLAR\n",
    "Butun sonlarni ham o'zgaruvchida saqlash, ularning ustida qo'shish (`+`), ayirish (`-`), ko'paytirish(`*`), bo'lish (`/`) kabi [arifmetik amalarni](https://python.sariq.dev/ilk-qadamlar/03-print#arifmetik-amallar) bajarish mumkin:"
   ]
  },
  {
   "cell_type": "code",
   "execution_count": 1,
   "metadata": {},
   "outputs": [
    {
     "name": "stdout",
     "output_type": "stream",
     "text": [
      "-10\n"
     ]
    }
   ],
   "source": [
    "a = 20  # Sonlar musbat yoko\n",
    "b = -30 # manfiy bo'lishi mumkin\n",
    "c = a + b\n",
    "print(c)"
   ]
  },
  {
   "cell_type": "markdown",
   "metadata": {},
   "source": [
    ">Python - operatorlar orasidagi bo'shliqlarni inobatga olmaydi. O'qishga qulay bo'lishi uchun yuqoridagi kabi (bo'shliqlar bilan) yozishingiz mumkin."
   ]
  },
  {
   "cell_type": "code",
   "execution_count": 2,
   "metadata": {},
   "outputs": [
    {
     "name": "stdout",
     "output_type": "stream",
     "text": [
      "400\n"
     ]
    }
   ],
   "source": [
    "# Kvadratning yuzini hisoblaymiz\n",
    "kvdrt_tmni = 20 # Kavdratning tomoni 20 ga teng\n",
    "kvdrt_yuzi = kvdrt_tmni**2 # Kvadrat yuzini hisoblaymiz\n",
    "print(kvdrt_yuzi)"
   ]
  },
  {
   "cell_type": "markdown",
   "metadata": {},
   "source": [
    "# FLOATS — O'NLIK SONLAR\n",
    "Pythonda o'nlik sonlar **floating point numbers** yoki qisqa qilib **floats** deyiladi. \"Floating point numbers\" atamasini o'zbek tiliga \"suzuvchi nuqtali sonlar\" deb tarjima qilish mumkin. Ingliz tilida o'nlik sonlarni yozishda vergul (`,`) emas nuqta (`.`) belgisi ishlatiladi, va bu nuqta sonning katta kichikligiga qarab joyi o'zgargani uchun \"floating\" (suzuvchi) deyiladi."
   ]
  },
  {
   "cell_type": "code",
   "execution_count": 3,
   "metadata": {},
   "outputs": [
    {
     "name": "stdout",
     "output_type": "stream",
     "text": [
      "Aylana uzunligi  62.8318  ga teng.\n"
     ]
    }
   ],
   "source": [
    "pi = 3.14159 # o'nlik son (float)\n",
    "radius = 10  # butun son (integer)\n",
    "diametr = 2*radius\n",
    "print(\"Aylana uzunligi \", pi*diametr, \" ga teng.\")"
   ]
  },
  {
   "cell_type": "markdown",
   "metadata": {},
   "source": [
    "# BUTUN SONDAN O'NLIK SONGA\n",
    "Avval aytganimizdek ikki butun sonni bo'lish (`/`) natijasida o'nlik son hosil bo'ladi (natija butun bo'lsa ham). "
   ]
  },
  {
   "cell_type": "code",
   "execution_count": 4,
   "metadata": {},
   "outputs": [
    {
     "name": "stdout",
     "output_type": "stream",
     "text": [
      "-2.0\n"
     ]
    }
   ],
   "source": [
    "a = -20\n",
    "b = 40\n",
    "c = b/a\n",
    "print(c) # natija o'nlik son bo'ladi"
   ]
  },
  {
   "cell_type": "markdown",
   "metadata": {},
   "source": [
    "Shuningdek butun va o'nlik sonlar o'rtasidagi har qanday arifmetik amallarning natijasi ham o'nlik son bo'ladi."
   ]
  },
  {
   "cell_type": "code",
   "execution_count": 5,
   "metadata": {},
   "outputs": [
    {
     "name": "stdout",
     "output_type": "stream",
     "text": [
      "5.0\n",
      "6.0\n",
      "8.0\n",
      "10.0\n"
     ]
    }
   ],
   "source": [
    "a = 2\n",
    "b = 3.0\n",
    "# Quyidagi arifmetik amallarning natijasi o'nlik son hosil qiladi\n",
    "print(a+b) \n",
    "print(a*b)\n",
    "print(a**b)\n",
    "print(2*(a+b))"
   ]
  },
  {
   "cell_type": "markdown",
   "metadata": {},
   "source": [
    "# UZUN SONLARNI KIRITISH\n",
    "Uzun sonlarni kiritishda, qulaylik uchun, raqamlarni pastki chiziq (`_`) yordamida guruhlash mumkin. Python - son tarkibidagi pastki chiziqlarni (`_`) inobatga olmasdan, uzun sonligicha qabul qiladi."
   ]
  },
  {
   "cell_type": "code",
   "execution_count": 6,
   "metadata": {},
   "outputs": [
    {
     "name": "stdout",
     "output_type": "stream",
     "text": [
      "Yer kurrasida 7594000000  ga yaqin odam yashaydi\n"
     ]
    }
   ],
   "source": [
    "aholi_soni = 7_594_000_000 # o'zmizga qulay bo'lishi uchun shinday yozdik\n",
    "print(\"Yer kurrasida\", aholi_soni, \" ga yaqin odam yashaydi\")"
   ]
  },
  {
   "cell_type": "markdown",
   "metadata": {},
   "source": [
    "# KONSTANTA\n",
    "Aksar dasturlash tillarida konstant qiymatlar tushunchasi bor. Konstantlar o'zgarmas bo'ladi (misol uchun ning qiymati konstant, o'zgarmas qiymat). Pythonda konstant tushunchasi yo'q, shuning uchun dasturchilar bunday o'zgaruvchilarning nomini katta harflar bilan yozadilar (ogohlantirish sifatida). Bu albatta qat'iy qonun emas, lekin kelajakda o'zgaruvchilar orasida konstant qiymatlarni ajratish uchun yaxshi usul."
   ]
  },
  {
   "cell_type": "code",
   "execution_count": 7,
   "metadata": {},
   "outputs": [],
   "source": [
    "PI = 3.14159\n",
    "raduis = 21.2"
   ]
  },
  {
   "cell_type": "markdown",
   "metadata": {},
   "source": [
    "# BIR NECHTA O'ZGARUVCHIGA QIYMAT BERISH\n",
    "Birdaniga bir nechta o'zgaruvchiga qiymat berish uchun o'zgaruvchilar va ularga mos qiymatlar vergul (`,`) bilan ajratiladi:"
   ]
  },
  {
   "cell_type": "code",
   "execution_count": 9,
   "metadata": {},
   "outputs": [],
   "source": [
    "x, y, z = 10, -7.25, -30"
   ]
  },
  {
   "cell_type": "markdown",
   "metadata": {},
   "source": [
    "Yuqoridagi kod `x` ga `10`, `y` ga `-7.25`, va `z` ga `-30` qiymatini yuklaydi."
   ]
  },
  {
   "cell_type": "markdown",
   "metadata": {},
   "source": [
    "# O'ZGARUVCHI TURINI ALMASHTIRISH\n",
    "Keling quyidagi misolni ko'raylik, maqsadimiz `ism` va `yosh` degan ikki o'zgaruvchini yangi `xabar` degan o'zgaruvchiga yuklab, `\"Jobir 16 yoshda\"` degan matnni konsolga chiqarish:"
   ]
  },
  {
   "cell_type": "code",
   "execution_count": 10,
   "metadata": {},
   "outputs": [
    {
     "ename": "TypeError",
     "evalue": "can only concatenate str (not \"int\") to str",
     "output_type": "error",
     "traceback": [
      "\u001b[0;31m---------------------------------------------------------------------------\u001b[0m",
      "\u001b[0;31mTypeError\u001b[0m                                 Traceback (most recent call last)",
      "\u001b[0;32m<ipython-input-10-e942519a5b34>\u001b[0m in \u001b[0;36m<module>\u001b[0;34m\u001b[0m\n\u001b[1;32m      1\u001b[0m \u001b[0mism\u001b[0m \u001b[0;34m=\u001b[0m \u001b[0;34m'Jobir'\u001b[0m\u001b[0;34m\u001b[0m\u001b[0;34m\u001b[0m\u001b[0m\n\u001b[1;32m      2\u001b[0m \u001b[0myosh\u001b[0m \u001b[0;34m=\u001b[0m \u001b[0;36m36\u001b[0m\u001b[0;34m\u001b[0m\u001b[0;34m\u001b[0m\u001b[0m\n\u001b[0;32m----> 3\u001b[0;31m \u001b[0mxabar\u001b[0m \u001b[0;34m=\u001b[0m \u001b[0mism\u001b[0m \u001b[0;34m+\u001b[0m \u001b[0;34m' '\u001b[0m \u001b[0;34m+\u001b[0m \u001b[0myosh\u001b[0m \u001b[0;34m+\u001b[0m \u001b[0;34m' yoshda'\u001b[0m\u001b[0;34m\u001b[0m\u001b[0;34m\u001b[0m\u001b[0m\n\u001b[0m\u001b[1;32m      4\u001b[0m \u001b[0mprint\u001b[0m\u001b[0;34m(\u001b[0m\u001b[0mxabar\u001b[0m\u001b[0;34m)\u001b[0m\u001b[0;34m\u001b[0m\u001b[0;34m\u001b[0m\u001b[0m\n",
      "\u001b[0;31mTypeError\u001b[0m: can only concatenate str (not \"int\") to str"
     ]
    }
   ],
   "source": [
    "ism = 'Jobir'\n",
    "yosh = 36\n",
    "xabar = ism + ' ' + yosh + ' yoshda'\n",
    "print(xabar)"
   ]
  },
  {
   "cell_type": "markdown",
   "metadata": {},
   "source": [
    "Afsuski, kutilgan natija o'rniga xatolik chiqdi. Agar xatoni ingliz tilidan tarjima qilsak, matn (str) va son (int) ni jamlab bo'lmaydi degan ma'no chiqadi.\n",
    "\n",
    "Demak Pythonda matn (string) va son (int, float) turidagi o'zgaruvchilarni jamlab bo'lmas ekan. Xo'sh, bunga yechim bormi? **Albatta.** \n",
    "\n",
    "Pythonda bir turdagi o'zgaruvchini boshqa turga o'tkazish mumkin, bu ingliz tilida **typecasting** detiladi. Buning uchun Pythonda mahsus funktsiyalar bor, keling ular bilan tanishamiz:\n",
    "- `str()`— int yoki float turidagi sonlarni matnga o'zgartiradi.\n",
    "- `int()`— matn yoki float ko'rinishidagi qiymatlarni butun songa o'zgartiradi. Bunda matn butun son ko'rinishida bo'lishi kerak.\n",
    "- `float()`— matn yoki int ko'rinishidagi qiymatlarni o'nlik songa o'zgartiradi.\n",
    "\n",
    "Demak, yuqoridagi kod to'g'ri ishlashi uchun 3-qatorni quyidagicha o'zgartiramiz:"
   ]
  },
  {
   "cell_type": "code",
   "execution_count": 11,
   "metadata": {},
   "outputs": [
    {
     "name": "stdout",
     "output_type": "stream",
     "text": [
      "Jobir 36 yoshda\n"
     ]
    }
   ],
   "source": [
    "ism = 'Jobir'\n",
    "yosh = 36\n",
    "xabar = ism + ' ' + str(yosh) + ' yoshda'\n",
    "print(xabar)"
   ]
  },
  {
   "cell_type": "markdown",
   "metadata": {},
   "source": [
    "> `str(yosh)` kodi yosh degan o'zgaruvchining qiymatini matn ko'rinishida ko'rsatdi xolos. Asl o'zgaruvchining qiymati sonligicha qoladi. `int()` va `float()` ham huddi shunday ishlaydi."
   ]
  },
  {
   "cell_type": "markdown",
   "metadata": {},
   "source": [
    "# O'ZGARUVCHI TURINI TEKSHIRISH\n",
    "Kodimizda o'zgaruvchilar ko'payib ketdi. Yuqoridagi kabi xatolar qilmaslik uchun ba'zida o'zgaruvchinig turini tekshrish talab qilinadi. Buning uchun `type()` funktsiyasidan foydalanamiz:"
   ]
  },
  {
   "cell_type": "code",
   "execution_count": 12,
   "metadata": {},
   "outputs": [
    {
     "name": "stdout",
     "output_type": "stream",
     "text": [
      "<class 'str'>\n",
      "<class 'int'>\n"
     ]
    }
   ],
   "source": [
    "ism = 'Jobir'\n",
    "yosh = 36\n",
    "print(type(ism))  # ism degan o'zgaruvchining turini konsolga chiqaramiz\n",
    "print(type(yosh)) # ismyosh degan o'zgaruvchining turini konsolga chiqaramiz"
   ]
  },
  {
   "cell_type": "markdown",
   "metadata": {},
   "source": [
    "Kurib turganingizdek, `ism` nomli o'zgaruvchi `'str'` ya'ni matn, `yosh` esa `'int'` son turida ekan."
   ]
  },
  {
   "cell_type": "markdown",
   "metadata": {},
   "source": [
    "# INPUT() VA SONLAR\n",
    "Avvalgi darsimizda foydalanuvchidan ma'lumot olish uchun input() funktsyasidan foydalanishni o'rgandik. Kelin endi shu funktsiya yordamida foydalanuvchidan son olishni ko'raylik. Quyidagi kod foydalanuvchining tug'ilgan yilini so'raydi va uning yoshini hisoblab beradi:"
   ]
  },
  {
   "cell_type": "code",
   "execution_count": 13,
   "metadata": {},
   "outputs": [
    {
     "name": "stdout",
     "output_type": "stream",
     "text": [
      "Tug'ilgan yilingizni kiriting: 1983\n"
     ]
    },
    {
     "ename": "TypeError",
     "evalue": "unsupported operand type(s) for -: 'int' and 'str'",
     "output_type": "error",
     "traceback": [
      "\u001b[0;31m---------------------------------------------------------------------------\u001b[0m",
      "\u001b[0;31mTypeError\u001b[0m                                 Traceback (most recent call last)",
      "\u001b[0;32m<ipython-input-13-f743946e6706>\u001b[0m in \u001b[0;36m<module>\u001b[0;34m\u001b[0m\n\u001b[1;32m      2\u001b[0m \u001b[0mt_yil\u001b[0m \u001b[0;34m=\u001b[0m \u001b[0minput\u001b[0m\u001b[0;34m(\u001b[0m\u001b[0;34m\"Tug'ilgan yilingizni kiriting: \"\u001b[0m\u001b[0;34m)\u001b[0m\u001b[0;34m\u001b[0m\u001b[0;34m\u001b[0m\u001b[0m\n\u001b[1;32m      3\u001b[0m \u001b[0;31m#2 foydalanuvchi yoshini xisoblaymiz\u001b[0m\u001b[0;34m\u001b[0m\u001b[0;34m\u001b[0m\u001b[0;34m\u001b[0m\u001b[0m\n\u001b[0;32m----> 4\u001b[0;31m \u001b[0myosh\u001b[0m \u001b[0;34m=\u001b[0m \u001b[0;36m2020\u001b[0m \u001b[0;34m-\u001b[0m \u001b[0mt_yil\u001b[0m \u001b[0;31m#\u001b[0m\u001b[0;34m\u001b[0m\u001b[0;34m\u001b[0m\u001b[0m\n\u001b[0m\u001b[1;32m      5\u001b[0m \u001b[0;31m#3 foydalanuvchi yoshini konsolga chiqaramiz\u001b[0m\u001b[0;34m\u001b[0m\u001b[0;34m\u001b[0m\u001b[0;34m\u001b[0m\u001b[0m\n\u001b[1;32m      6\u001b[0m \u001b[0mprint\u001b[0m\u001b[0;34m(\u001b[0m\u001b[0;34m\"Siz \"\u001b[0m \u001b[0;34m+\u001b[0m \u001b[0myosh\u001b[0m \u001b[0;34m+\u001b[0m \u001b[0;34m\" yoshda ekansiz\"\u001b[0m\u001b[0;34m)\u001b[0m\u001b[0;34m\u001b[0m\u001b[0;34m\u001b[0m\u001b[0m\n",
      "\u001b[0;31mTypeError\u001b[0m: unsupported operand type(s) for -: 'int' and 'str'"
     ]
    }
   ],
   "source": [
    "#1 foydalanuvchining tug'ilgan yilini so'raymiz\n",
    "t_yil = input(\"Tug'ilgan yilingizni kiriting: \")\n",
    "#2 foydalanuvchi yoshini xisoblaymiz\n",
    "yosh = 2020 - t_yil # \n",
    "#3 foydalanuvchi yoshini konsolga chiqaramiz\n",
    "print(\"Siz \" + yosh + \" yoshda ekansiz\")"
   ]
  },
  {
   "cell_type": "markdown",
   "metadata": {},
   "source": [
    "Kutilgan natija o'rniga xatolik. Lekin xato qayerda? Dastur tug'ilgan yilimni so'radi, men `1983` deb kiritdim va shu zaxoti xato ro'y berdi va dastur to'xtadi. Xatoni tarjima qilsak son (int) va matn (str) o'rtasida ayirish (`-`) amalini bajarib bo'maydi deyapti.\n",
    "\n",
    "Gap shundaki, `input()` funktsiyasi har qanday kiritilgan qiymatni matn (string) ko'rinishida qabul qiladi (garchi biz son kiritgan bo'lsak ham). Keling, konsolda `t_yil` degan o'zgaruvchining turini tekshirib ko'ramiz."
   ]
  },
  {
   "cell_type": "markdown",
   "metadata": {},
   "source": [
    "![](https://gblobscdn.gitbook.com/assets%2F-MGbkqs1tROquIT6oqUs%2F-MLlNypIunyr4AW0df3A%2F-MLlPEmNc-bRsDfbd3Ib%2Fimage.png?alt=media&token=71fa7c8b-b820-4f5c-9805-c77631d98613)"
   ]
  },
  {
   "cell_type": "code",
   "execution_count": 14,
   "metadata": {},
   "outputs": [
    {
     "name": "stdout",
     "output_type": "stream",
     "text": [
      "Tug'ilgan yilingizni kiriting: 1983\n",
      "Siz 37 yoshda ekansiz\n"
     ]
    }
   ],
   "source": [
    "#1 foydalanuvchining tug'ilgan yilini so'raymiz va qiymatni int ga aylantiramiz\n",
    "t_yil = int(input(\"Tug'ilgan yilingizni kiriting: \"))\n",
    "#2 foydalanuvchi yoshini xisoblaymiz\n",
    "yosh = 2020 - t_yil # \n",
    "#3 foydalanuvchi yoshini konsolga chiqaramiz\n",
    "print(\"Siz \" + str(yosh) + \" yoshda ekansiz\")"
   ]
  },
  {
   "cell_type": "markdown",
   "metadata": {},
   "source": [
    "Yuqoridagi kodning 2-qatoriga e'tibor bersangiz, biz ikki funktsiyani bir biriga joylab yozdik (`int(input()`). Aslida, ajratib ham yozishimiz mumkin edi:"
   ]
  },
  {
   "cell_type": "code",
   "execution_count": 15,
   "metadata": {},
   "outputs": [
    {
     "name": "stdout",
     "output_type": "stream",
     "text": [
      "Tug'ilgan yilingizni kiriting: 1983\n",
      "Siz 37 yoshda ekansiz\n"
     ]
    }
   ],
   "source": [
    "#1.1 foydalanuvchining tug'ilgan yilini so'raymiz\n",
    "t_yil = input(\"Tug'ilgan yilingizni kiriting: \")\n",
    "#1.2 t_yil o'zgaruvchini int ga aylantiramiz\n",
    "t_yil = int(t_yil)\n",
    "#2 foydalanuvchi yoshini xisoblaymiz\n",
    "yosh = 2020 - t_yil # \n",
    "#3 foydalanuvchi yoshini konsolga chiqaramiz\n",
    "print(\"Siz \" + str(yosh) + \" yoshda ekansiz\")"
   ]
  },
  {
   "cell_type": "markdown",
   "metadata": {},
   "source": [
    "# AMALIYOT\n",
    "Quyidagi dasturlarning har birini alohida fayl ko'rinishida yozing va bajaring:\n",
    "- Foydalanuvchi kiritgan sonning kvadrati va kubini konsolga chiqaruvchi dastur"
   ]
  },
  {
   "cell_type": "markdown",
   "metadata": {},
   "source": [
    "![](https://gblobscdn.gitbook.com/assets%2F-MGbkqs1tROquIT6oqUs%2F-MLounVATri6iU10sCuw%2F-MLqbUCW4fuICo4zdkrD%2Fimage.png?alt=media&token=a17936ee-7b1e-40bd-824c-971074a0e475)"
   ]
  },
  {
   "cell_type": "markdown",
   "metadata": {},
   "source": [
    "- Foydalanuvchining yoshini so'rab, uning tug'ilgan yilini hisoblab, konsolga chiqaruvchi dastur\n",
    "![](https://gblobscdn.gitbook.com/assets%2F-MGbkqs1tROquIT6oqUs%2F-MLlQxcWdJFuxfNQYaOI%2F-MLlYLnFPKXzahFJOvR5%2Fimage.png?alt=media&token=19c4f43a-e686-4664-b1a1-99852df0cbe8)"
   ]
  },
  {
   "cell_type": "markdown",
   "metadata": {},
   "source": [
    "- Foydalanuvchidan ikki son kiritshni so'rab, kiritilgan sonlarning yig'indisi, ayirmasi, ko'paytmasi va bo'linmasini chiqaruvchi dastur\n",
    "\n",
    "![](https://gblobscdn.gitbook.com/assets%2F-MGbkqs1tROquIT6oqUs%2F-MLmBsKDaC1xFQ77JlHJ%2F-MLmD9nxgqMpimSgbVKf%2Fimage.png?alt=media&token=c7250d0b-fbbd-4c76-9e73-66588fbcb4e8)"
   ]
  },
  {
   "cell_type": "markdown",
   "metadata": {},
   "source": [
    "# JAVOBLAR"
   ]
  },
  {
   "cell_type": "code",
   "execution_count": 2,
   "metadata": {},
   "outputs": [
    {
     "name": "stdout",
     "output_type": "stream",
     "text": [
      "Istalgan son kiriting:\n",
      ">>>5\n",
      "5  ning kvadrati  25  ga teng\n",
      "5  ning kubi  125  ga teng\n"
     ]
    }
   ],
   "source": [
    "#Foydalanuvchi kiritgan sonning kvadrati va kubini konsolga chiqaruvchi dastur\n",
    "x = int(input(\"Istalgan son kiriting:\\n>>>\"))\n",
    "print(x, \" ning kvadrati \", x**2, \" ga teng\")\n",
    "print(x, \" ning kubi \", x**3, \" ga teng\")"
   ]
  },
  {
   "cell_type": "code",
   "execution_count": 3,
   "metadata": {},
   "outputs": [
    {
     "name": "stdout",
     "output_type": "stream",
     "text": [
      "Yoshingiz nechida? \n",
      ">>>45\n",
      "Siz  1975  da tug'ilgansiz\n"
     ]
    }
   ],
   "source": [
    "# Foydalanuvchining yoshini so'rang, \n",
    "# va uning tug'ilgan yilini hisoblab, konsolga chiqaring.\n",
    "yosh = int(input(\"Yoshingiz nechida? \\n>>>\"))\n",
    "t_yil = 2020-yosh\n",
    "print(\"Siz \", t_yil, \" da tug'ilgansiz\")"
   ]
  },
  {
   "cell_type": "code",
   "execution_count": 4,
   "metadata": {},
   "outputs": [
    {
     "name": "stdout",
     "output_type": "stream",
     "text": [
      "Birinchi sonni kiriting: 12\n",
      "Ikkinchi sonni kiriting: 22\n",
      "12.0+22.0= 34.0\n",
      "12.0-22.0= -10.0\n",
      "12.0x22.0= 264.0\n",
      "12.0/22.0= 0.5454545454545454\n"
     ]
    }
   ],
   "source": [
    "# Foydalanuvchidan ikki son kiritshni so'rab, \n",
    "# kiritilgan sonlarning yig'indisi, ayirmasi, \n",
    "# ko'paytmasi va bo'linmasini chiqaruvchi dastur\n",
    "a = float(input(\"Birinchi sonni kiriting: \"))\n",
    "b = float(input(\"Ikkinchi sonni kiriting: \"))\n",
    "print(f\"{a}+{b}=\", a+b)\n",
    "print(f\"{a}-{b}=\", a-b)\n",
    "print(f\"{a}x{b}=\", a*b)\n",
    "print(f\"{a}/{b}=\", a/b)"
   ]
  },
  {
   "cell_type": "markdown",
   "metadata": {},
   "source": [
    "**Quyidagi kodga tegmang**"
   ]
  },
  {
   "cell_type": "code",
   "execution_count": 10,
   "metadata": {},
   "outputs": [],
   "source": [
    "%%capture\n",
    "jovian.commit(project=\"06-python\")"
   ]
  }
 ],
 "metadata": {
  "kernelspec": {
   "display_name": "Python 3",
   "language": "python",
   "name": "python3"
  },
  "language_info": {
   "codemirror_mode": {
    "name": "ipython",
    "version": 3
   },
   "file_extension": ".py",
   "mimetype": "text/x-python",
   "name": "python",
   "nbconvert_exporter": "python",
   "pygments_lexer": "ipython3",
   "version": "3.8.6"
  }
 },
 "nbformat": 4,
 "nbformat_minor": 4
}
