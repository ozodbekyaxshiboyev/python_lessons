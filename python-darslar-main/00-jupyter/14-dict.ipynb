{
 "cells": [
  {
   "cell_type": "markdown",
   "metadata": {},
   "source": [
    "# 14-DARS. LUG'AT BILAN TANISHUV\n",
    "\n",
    "Yangi ma'lumot turi - Dictionary bilan tanishamiz."
   ]
  },
  {
   "cell_type": "markdown",
   "metadata": {},
   "source": [
    "![](https://gblobscdn.gitbook.com/assets%2F-MGbkqs1tROquIT6oqUs%2F-Mc-5yGQPZTBaGoehQdL%2F-Mc-7xpq4Puu3KEjmT0R%2FSD_YT_TG_logo_mini.png?alt=media&token=929fe67b-ec12-4f63-b33e-e9c5e3d8ad09)\n",
    "\n",
    "Ushbu darsda yangi ma'lumot turi, Lug'at (Dictionary) bilan tanishamiz. Dars davomida lug'at yaratish, unga ma'lumot qo'shish, lug'atning ichida ro'yxat yoki aksincha ro'yxatning ichida lug'at saqlash ka'bi mavuzlar bilan tanishamiz.\n",
    "\n",
    "Lug'at, ma'lumotlarni bizga tushunarliroq ko'rinishda saqlash imkonini beradi. Misol uchun biz biror avtomobilga oid lug'at yaratishimiz va lug'atda shu avtoga tegishli barcha ma'lumotlarni saqlashmiz mumkin (nomi, rangi, yili, motori, narhi va hokazo). \n",
    "\n",
    "# LUG'AT (DICTIONARY) NIMA?\n",
    "\n",
    "Keling, nima uchun bu ma'lumot turi lug'at (dictionary) deyilishini tushunish uchun, oddiy lu'gatga qaraymiz. Odatda, lug'atdagi ma'umotlar ikki qismdan iborat bo'ladi: kalit so'z va izoh (yoki tarjima).\n",
    "\n",
    "![](https://gblobscdn.gitbook.com/assets%2F-MGbkqs1tROquIT6oqUs%2F-MNY5oOeVDfAVOZeUU2m%2F-MNaJDYQQBk0tbr92K29%2Fimage.png?alt=media&token=929419ac-5a0b-4adb-ba19-b987f60b1e85)\n",
    "\n",
    "Xuddi oddiy lug'atlardagi ka'bi Python lug'atidagi ma'lumotlar ham ikki qismdan iborat bo'ladi: kalit so'z va qiymat (ingliz tilida key-value pair yoki kalit so'z-qiymat juftligi deyiladi).\n",
    "\n",
    "> Dasturlashda ko'p ishlatiladigan atamalarni ingliz tilida yodlab qolish juda muhim! Bu sizga kelajakda yangi ma'lumotlar izlashda, xatolar usitda ishlashda va umuman ish faoliyatingizda ko'p asqotadi. Shuing uchun `variable`, `integer`, `float`, `string`, `list`, `tuple`, `dictionary`, `function`, `loop`, va boshqa so'zlarni yaxshilab o'zlashtirib oling.\n",
    "\n",
    "Keling, sodda lug'at yaratamiz:"
   ]
  },
  {
   "cell_type": "code",
   "execution_count": 4,
   "metadata": {},
   "outputs": [],
   "source": [
    "car_0 = {'model':'ferrari','rang':'qizil'}"
   ]
  },
  {
   "cell_type": "markdown",
   "metadata": {},
   "source": [
    "Yuqorida `car_0` degan lug'at yaratdik. Lu'gatda 2 ta ma'lumot bor: mashinaning modeli (`ferrari`) va rangi (`qizil`). Bu yerda `'model'` va `'rang'` kalit so'zlar, `'ferrari'` va `'qizil'` esa mos keluvchi kalit so'zlarning qiymatlari. Kalit so'z va qiymat orasi ikki nuqta (`:`) bilan, lug'atdagi har bir juftlik esa vergul (`,`) bilan ajratilgan. \n",
    "\n",
    "# LUG'AT BILAN ISHLASH\n",
    "\n",
    "Demak, Pytonda lug'at kalit so'z-qiymat juftliklarining yi'ginidisi ekan. Lug'atdagi biror qiymatni ko'rish uchun unga kalit so'z orqali murojat qilamiz:"
   ]
  },
  {
   "cell_type": "code",
   "execution_count": 5,
   "metadata": {},
   "outputs": [
    {
     "name": "stdout",
     "output_type": "stream",
     "text": [
      "ferrari\n"
     ]
    }
   ],
   "source": [
    "car_0 = {'model':'ferrari','rang':'qizil'}\n",
    "print(car_0['model'])"
   ]
  },
  {
   "cell_type": "code",
   "execution_count": 6,
   "metadata": {},
   "outputs": [
    {
     "name": "stdout",
     "output_type": "stream",
     "text": [
      "qizil\n"
     ]
    }
   ],
   "source": [
    "print(car_0['rang'])"
   ]
  },
  {
   "cell_type": "markdown",
   "metadata": {},
   "source": [
    "Lug'atdagi qiymatlar son (`int`, `float`), matn (`string`), ro'yxat (`list`, `tuple`, `set`) va hatto boshqa lug'at ham bo'lishi mumkin.\n"
   ]
  },
  {
   "cell_type": "code",
   "execution_count": 7,
   "metadata": {},
   "outputs": [
    {
     "name": "stdout",
     "output_type": "stream",
     "text": [
      "Murod Olimov, 2000-yilda tu'gilgan, 20 yoshda\n"
     ]
    }
   ],
   "source": [
    "talaba_0 = {'ism':'murod olimov','yosh':20,'t_yil':2000}\n",
    "print(f\"{talaba_0['ism'].title()},\\\n",
    " {talaba_0['t_yil']}-yilda tu'gilgan,\\\n",
    " {talaba_0['yosh']} yoshda\")"
   ]
  },
  {
   "cell_type": "markdown",
   "metadata": {},
   "source": [
    "## YANGI JUFTLIK QO'SHISH\n",
    "\n",
    "Lug'aga yangi kalit so'z va qiymatlar qo'shishimiz ham mumkin. Keling, yuqoridagi `talaba_0` nomli lu'gatga yana 2 ta yangi, kurs va fakultet nomli, kalit so'zlar va qiymatlar qo'shamiz:\n"
   ]
  },
  {
   "cell_type": "code",
   "execution_count": 8,
   "metadata": {},
   "outputs": [],
   "source": [
    "talaba_0['kurs'] = 4 # yangi, 'kurs' nomli kalit so'zga 4 qiymatini yuklaymiz\n",
    "talaba_0['fakultet'] = 'informatika' # 'fakultet' ga esa 'informatika' "
   ]
  },
  {
   "cell_type": "markdown",
   "metadata": {},
   "source": [
    "Lug'atni konsolga chiqarib ko'ramiz:\n"
   ]
  },
  {
   "cell_type": "code",
   "execution_count": 9,
   "metadata": {},
   "outputs": [
    {
     "name": "stdout",
     "output_type": "stream",
     "text": [
      "{'ism': 'murod olimov', 'yosh': 20, 't_yil': 2000, 'kurs': 4, 'fakultet': 'informatika'}\n"
     ]
    }
   ],
   "source": [
    "print(talaba_0)"
   ]
  },
  {
   "cell_type": "markdown",
   "metadata": {},
   "source": [
    "## BO'SH LUG'AT\n",
    "\n",
    "Ba'zida dastur boshida bo'sh lug'at yaratib, dastur davomida lug'atga yangi ma'lumotlar kiritib borish talab qilinishi mumkin. Bundah holatda bo'sh lug'at quyidagicha yaratiladi:"
   ]
  },
  {
   "cell_type": "code",
   "execution_count": 10,
   "metadata": {},
   "outputs": [],
   "source": [
    "talaba_1 = {}"
   ]
  },
  {
   "cell_type": "markdown",
   "metadata": {},
   "source": [
    "Dastur davomida esa lug'atga qiymatlar kiritib borilishi mumkin:"
   ]
  },
  {
   "cell_type": "code",
   "execution_count": 11,
   "metadata": {},
   "outputs": [
    {
     "name": "stdout",
     "output_type": "stream",
     "text": [
      "{'ism': 'qobil rasulov', 'kurs': 3, 'yosh': 20}\n",
      "Talaba Qobil Rasulov 3-kurs\n"
     ]
    }
   ],
   "source": [
    "talaba_1['ism'] = 'qobil rasulov'\n",
    "talaba_1['kurs'] = 3\n",
    "talaba_1['yosh'] = 20\n",
    "print(talaba_1)\n",
    "print(f\"Talaba {talaba_1['ism'].title()} {talaba_1['kurs']}-kurs\")"
   ]
  },
  {
   "cell_type": "markdown",
   "metadata": {},
   "source": [
    "> Lug'atga kalit so'zlar qanday ketma-ketlikda kiritilsa, shu ketma-ketlik saqlanib qoladi."
   ]
  },
  {
   "cell_type": "markdown",
   "metadata": {},
   "source": [
    "## KALIT SO'Z-QIYMAT JUFTLIGINI O'CHIRISH\n",
    "\n",
    "Lu'gatdagi biror juftlik kerak emas bo'lsa uni del operatori yordamida lug'atdan olib tashlashimiz mumkin:"
   ]
  },
  {
   "cell_type": "code",
   "execution_count": 12,
   "metadata": {},
   "outputs": [
    {
     "name": "stdout",
     "output_type": "stream",
     "text": [
      "{'ism': 'murod olimov', 'yosh': 20, 't_yil': 2000}\n",
      "{'ism': 'murod olimov', 't_yil': 2000}\n"
     ]
    }
   ],
   "source": [
    "talaba_0 = {'ism':'murod olimov','yosh':20,'t_yil':2000}\n",
    "print(talaba_0)\n",
    "del talaba_0['yosh'] # yosh degan kalit so'z (va qiymatni) o'chiramiz\n",
    "print(talaba_0)"
   ]
  },
  {
   "cell_type": "markdown",
   "metadata": {},
   "source": [
    "## LUG'ATNI QATORLARGA BO'LIB YOZISH\n",
    "\n",
    "Uzung lug'atlarni bir necha qatorga bo'lib yozishimiz ham mumkin. Keling quyidagi misolni ko'ramiz, siz do'stlaringizdan ular qanday telefon ishlatishini so'radingiz va javoblarni bitta lug'atga joylamoqchisiz:\n"
   ]
  },
  {
   "cell_type": "code",
   "execution_count": 13,
   "metadata": {},
   "outputs": [],
   "source": [
    "telefonlar = {\n",
    "    'ali':'iphone x',\n",
    "    'vali':'galaxy s9',\n",
    "    'olim':'mi 10 pro',\n",
    "    'orif':'nokia 3310'\n",
    "    }"
   ]
  },
  {
   "cell_type": "markdown",
   "metadata": {},
   "source": [
    "Demak, lug'atni qatorga bo'lib yozish uchun katta qavs ochamiz, yangi qatordan joy tashlab, birinchi klit so'z va qiymatni kiritamiz, qator oxirida vergul qo'yib, yangi qatordan keyingi juftlikni yozamiz va hokazo. Oxirgi juftlikdan so'ng vergul qo'ymasdan qator tashlab, katta qavsni yopamiz.\n",
    "\n",
    "> Lug'atlarning ishlatilish doirasi juda keng va sizning yondoshuvingizga bog'liq xolos. Yuqoridagi lug'atga ham e'tibor qilsangiz, biz bir narsa (shaxs, avto) haqida ko'p ma'lumotlarni emas,  ko'pchilik haqida bir hil ma'lumotlarni saqladik. \n",
    "\n",
    "## `.get()` METODI\n",
    "\n",
    "Biz shu vaqtgacha lug'atdagi qiymatlarni ko'rish uchun to'g'ridan-to'g'ri kalit so'z orqali murojat qilayotgan edik. Bu usulning kamchiligi shundaki, agar lug'atda siz so'ragan kalit topilmasa, dastur `KeyError` xatoligi bilan to'xtab qoladi."
   ]
  },
  {
   "cell_type": "code",
   "execution_count": 14,
   "metadata": {},
   "outputs": [
    {
     "name": "stdout",
     "output_type": "stream",
     "text": [
      "Alining telefoni iphone x\n"
     ]
    }
   ],
   "source": [
    "phone = telefonlar['ali']\n",
    "print(f\"Alining telefoni {phone}\")"
   ]
  },
  {
   "cell_type": "code",
   "execution_count": 15,
   "metadata": {},
   "outputs": [
    {
     "ename": "KeyError",
     "evalue": "'hasan'",
     "output_type": "error",
     "traceback": [
      "\u001b[0;31m---------------------------------------------------------------------------\u001b[0m",
      "\u001b[0;31mKeyError\u001b[0m                                  Traceback (most recent call last)",
      "\u001b[0;32m<ipython-input-15-c38ca1592803>\u001b[0m in \u001b[0;36m<module>\u001b[0;34m\u001b[0m\n\u001b[0;32m----> 1\u001b[0;31m \u001b[0mphone\u001b[0m \u001b[0;34m=\u001b[0m \u001b[0mtelefonlar\u001b[0m\u001b[0;34m[\u001b[0m\u001b[0;34m'hasan'\u001b[0m\u001b[0;34m]\u001b[0m\u001b[0;34m\u001b[0m\u001b[0;34m\u001b[0m\u001b[0m\n\u001b[0m\u001b[1;32m      2\u001b[0m \u001b[0mprint\u001b[0m\u001b[0;34m(\u001b[0m\u001b[0;34mf\"Hasanning telefoni {phone}\"\u001b[0m\u001b[0;34m)\u001b[0m\u001b[0;34m\u001b[0m\u001b[0;34m\u001b[0m\u001b[0m\n",
      "\u001b[0;31mKeyError\u001b[0m: 'hasan'"
     ]
    }
   ],
   "source": [
    "phone = telefonlar['hasan']\n",
    "print(f\"Hasanning telefoni {phone}\")"
   ]
  },
  {
   "cell_type": "markdown",
   "metadata": {},
   "source": [
    "Lug'atda `'hasan'` kalit so'zi bo'lmagani uchun, yuqoridagi kod KeyError degan xatoni qaytardi. `KeyError` ham `Run time error` qatoriga kiradi.\n",
    "\n",
    "Biz kelgusi darslarimizda Pythondagi xatolarni dastur bajarilishi jarayonida \"tutib olishni\" o'rganamiz. Hozircha esa `get()` metodi yordamida lug'atga murojat qilish va mavjud bolmagan kalitning o'rniga biror xabar qaytarishni ko'raylik."
   ]
  },
  {
   "cell_type": "code",
   "execution_count": 16,
   "metadata": {},
   "outputs": [],
   "source": [
    "phone = telefonlar.get('hasan','Bunday ism mavjud emas')"
   ]
  },
  {
   "cell_type": "markdown",
   "metadata": {},
   "source": [
    "Yuqorida, lug'at nomidan so'ng `.get()` metodini yozdik, va argumentlar sifatida kalit so'z (`'hasan'`) va kalit mavjud bo'lmaganda chiqadigan xabarni yozdik (`'Bunday ism mavjud emas'`).\n"
   ]
  },
  {
   "cell_type": "code",
   "execution_count": 17,
   "metadata": {},
   "outputs": [
    {
     "name": "stdout",
     "output_type": "stream",
     "text": [
      "Bunday ism mavjud emas\n"
     ]
    }
   ],
   "source": [
    "print(phone)"
   ]
  },
  {
   "cell_type": "markdown",
   "metadata": {},
   "source": [
    "> Agar `.get()` metodida ikkinchi argumentni tashlab ketsangiz, va kalit mavjud bo'lmasa `.get()` metodi None degan qiymatni qaytaradi. `None` - qiymat mavjud emas degan ma'noni beradi."
   ]
  },
  {
   "cell_type": "code",
   "execution_count": 18,
   "metadata": {},
   "outputs": [
    {
     "name": "stdout",
     "output_type": "stream",
     "text": [
      "None\n"
     ]
    }
   ],
   "source": [
    "phone = telefonlar.get('hasan')\n",
    "print(phone)"
   ]
  },
  {
   "cell_type": "markdown",
   "metadata": {},
   "source": [
    "# AMALIYOT\n",
    "- otam (onam, akam, ukam, va hokazo) degan lug'at yarating va lug'atga shu inson haqida kamida 3 ta m'alumot kiriting (ismi, tu'gilgan yili, shahri, manzili va hokazo). Lug'atdagi ma'lumotni matn shaklida konsolga chiqaring: `Otamning ismi Mavlutdin, 1954-yilda, Samarqand viloyatida tug'ilgan`\n",
    "- Oila a'zolaringizning sevimli taomlari lug'atini tuzing. Lug'atda kamida 5 ta ism-taom jufltigi bo'lsin. Kamida uch kishining sevimli taomini konsolga chiqaring: `Alining sevimli taomi osh`\n",
    "- Python izohli lu'gati tuzing: Lug'atga shu kunga qadar o'rgangan 10 ta so'z (atamani) kiriting (masalan integer, float, string, if, else va hokazo) va har birining qisqacha tarjimasini yozing.\n",
    "- Foydalanuvchidan biror so'z kiritishni so'rang va so'zning tarjimasini yuqoridagi lug'atdan chiqarib bering. Agar so'z lu'gatda mavjud bo'lmasa, \"Bunda so'z mavjud emas\" degan xabarni chiqaring.\n",
    "- Yuqoridagi vazifani `if-else` yordamida qiling va natijani ham foydalanuvchiga tushunarli ko'rinishda chiqaring."
   ]
  },
  {
   "cell_type": "markdown",
   "metadata": {},
   "source": [
    "# JAVOBLAR"
   ]
  },
  {
   "cell_type": "code",
   "execution_count": 19,
   "metadata": {},
   "outputs": [
    {
     "name": "stdout",
     "output_type": "stream",
     "text": [
      "Otamning ismi Mavlutdin, 1954-yilda, Samarqand viloyatida tug'ilgan\n"
     ]
    }
   ],
   "source": [
    "otam = {'ismi':'mavlutdin', 'tyil':1954,'viloyat':'samarqand'}\n",
    "tyil = otam['tyil']\n",
    "vil = otam['viloyat']\n",
    "print(f\"Otamning ismi {otam['ismi'].title()}, {tyil}-yilda, {vil.title()} viloyatida tug'ilgan\")"
   ]
  },
  {
   "cell_type": "code",
   "execution_count": 20,
   "metadata": {},
   "outputs": [
    {
     "name": "stdout",
     "output_type": "stream",
     "text": [
      "Alining sevimli taomi osh\n"
     ]
    }
   ],
   "source": [
    "taomlar = {\n",
    "    'ali':'osh',\n",
    "    'vali':'shashlik',\n",
    "    'hasan':\"lag'mon\",\n",
    "    'husan':\"mastava\",\n",
    "    'olim':\"somsa\"\n",
    "    }\n",
    "\n",
    "taom = taomlar['ali']\n",
    "print(f\"Alining sevimli taomi {taom}\")"
   ]
  },
  {
   "cell_type": "code",
   "execution_count": 21,
   "metadata": {},
   "outputs": [
    {
     "name": "stdout",
     "output_type": "stream",
     "text": [
      "Kalit so'z kiriting:float\n",
      "O'nlik son\n"
     ]
    }
   ],
   "source": [
    "python_izohli_lugati = {\n",
    "    'integer':\"Butun son\",\n",
    "    'float':\"O'nlik son\",\n",
    "    'string':\"Matn\",\n",
    "    'list':\"Ro'yxat\",\n",
    "    'tuple':\"O'zgarmas ro'yxat\"}\n",
    "# print(python_izohli_lugati['tuple'])\n",
    "\n",
    "kalit = input(\"Kalit so'z kiriting:\").lower()\n",
    "print(python_izohli_lugati.get(kalit,\"Bunday so'z mavjud emas\"))"
   ]
  },
  {
   "cell_type": "code",
   "execution_count": 22,
   "metadata": {},
   "outputs": [
    {
     "name": "stdout",
     "output_type": "stream",
     "text": [
      "Kalit so'z kiriting:dict\n",
      "Bunday so'z mavjud emas\n"
     ]
    }
   ],
   "source": [
    "kalit = input(\"Kalit so'z kiriting:\").lower()\n",
    "tarjima = python_izohli_lugati.get(kalit)\n",
    "if tarjima==None:\n",
    "    print(\"Bunday so'z mavjud emas\")\n",
    "else:\n",
    "    print(f\"{kalit.title()} so'zi {tarjima} deb tarjima qilinadi\")\n",
    "    "
   ]
  }
 ],
 "metadata": {
  "language_info": {
   "codemirror_mode": {
    "name": "ipython",
    "version": 3
   },
   "file_extension": ".py",
   "mimetype": "text/x-python",
   "name": "python",
   "nbconvert_exporter": "python",
   "pygments_lexer": "ipython3",
   "version": "3.8.6"
  }
 },
 "nbformat": 4,
 "nbformat_minor": 2
}